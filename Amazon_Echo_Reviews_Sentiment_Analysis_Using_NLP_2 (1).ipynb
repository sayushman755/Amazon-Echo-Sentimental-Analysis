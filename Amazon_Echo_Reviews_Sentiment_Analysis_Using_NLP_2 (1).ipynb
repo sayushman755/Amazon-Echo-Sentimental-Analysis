{
  "nbformat": 4,
  "nbformat_minor": 0,
  "metadata": {
    "colab": {
      "provenance": []
    },
    "kernelspec": {
      "name": "python3",
      "display_name": "Python 3"
    },
    "language_info": {
      "name": "python"
    }
  },
  "cells": [
    {
      "cell_type": "markdown",
      "source": [
        "# **Amazon Echo Reviews Sentiment Analysis Using NLP**"
      ],
      "metadata": {
        "id": "OxVUn-3M_6pW"
      }
    },
    {
      "cell_type": "markdown",
      "source": [
        "## **Importing important modules**\n",
        "\n",
        "---\n",
        "\n"
      ],
      "metadata": {
        "id": "s0TVHPn7BVlt"
      }
    },
    {
      "cell_type": "code",
      "execution_count": null,
      "metadata": {
        "id": "Rlq95TvZ_Yvn"
      },
      "outputs": [],
      "source": [
        "import pandas as pd\n",
        "import numpy as np\n",
        "import seaborn as sns\n",
        "import matplotlib.pyplot as plt\n"
      ]
    },
    {
      "cell_type": "code",
      "source": [
        "dff = pd.read_csv(\"amzr.csv\")\n",
        "dff.head()"
      ],
      "metadata": {
        "colab": {
          "base_uri": "https://localhost:8080/",
          "height": 204
        },
        "id": "THCIv1nVBVB_",
        "outputId": "d789827a-7fcd-419f-f9f0-531112d68c79"
      },
      "execution_count": null,
      "outputs": [
        {
          "output_type": "execute_result",
          "data": {
            "text/plain": [
              "   rating       date         variation  \\\n",
              "0       5  31-Jul-18  Charcoal Fabric    \n",
              "1       5  31-Jul-18  Charcoal Fabric    \n",
              "2       4  31-Jul-18    Walnut Finish    \n",
              "3       5  31-Jul-18  Charcoal Fabric    \n",
              "4       5  31-Jul-18  Charcoal Fabric    \n",
              "\n",
              "                                    verified_reviews  feedback  \n",
              "0                                      Love my Echo!         1  \n",
              "1                                          Loved it!         1  \n",
              "2  Sometimes while playing a game, you can answer...         1  \n",
              "3  I have had a lot of fun with this thing. My 4 ...         1  \n",
              "4                                              Music         1  "
            ],
            "text/html": [
              "\n",
              "  <div id=\"df-82357c52-4420-46c4-8fc2-6a423f9bc662\" class=\"colab-df-container\">\n",
              "    <div>\n",
              "<style scoped>\n",
              "    .dataframe tbody tr th:only-of-type {\n",
              "        vertical-align: middle;\n",
              "    }\n",
              "\n",
              "    .dataframe tbody tr th {\n",
              "        vertical-align: top;\n",
              "    }\n",
              "\n",
              "    .dataframe thead th {\n",
              "        text-align: right;\n",
              "    }\n",
              "</style>\n",
              "<table border=\"1\" class=\"dataframe\">\n",
              "  <thead>\n",
              "    <tr style=\"text-align: right;\">\n",
              "      <th></th>\n",
              "      <th>rating</th>\n",
              "      <th>date</th>\n",
              "      <th>variation</th>\n",
              "      <th>verified_reviews</th>\n",
              "      <th>feedback</th>\n",
              "    </tr>\n",
              "  </thead>\n",
              "  <tbody>\n",
              "    <tr>\n",
              "      <th>0</th>\n",
              "      <td>5</td>\n",
              "      <td>31-Jul-18</td>\n",
              "      <td>Charcoal Fabric</td>\n",
              "      <td>Love my Echo!</td>\n",
              "      <td>1</td>\n",
              "    </tr>\n",
              "    <tr>\n",
              "      <th>1</th>\n",
              "      <td>5</td>\n",
              "      <td>31-Jul-18</td>\n",
              "      <td>Charcoal Fabric</td>\n",
              "      <td>Loved it!</td>\n",
              "      <td>1</td>\n",
              "    </tr>\n",
              "    <tr>\n",
              "      <th>2</th>\n",
              "      <td>4</td>\n",
              "      <td>31-Jul-18</td>\n",
              "      <td>Walnut Finish</td>\n",
              "      <td>Sometimes while playing a game, you can answer...</td>\n",
              "      <td>1</td>\n",
              "    </tr>\n",
              "    <tr>\n",
              "      <th>3</th>\n",
              "      <td>5</td>\n",
              "      <td>31-Jul-18</td>\n",
              "      <td>Charcoal Fabric</td>\n",
              "      <td>I have had a lot of fun with this thing. My 4 ...</td>\n",
              "      <td>1</td>\n",
              "    </tr>\n",
              "    <tr>\n",
              "      <th>4</th>\n",
              "      <td>5</td>\n",
              "      <td>31-Jul-18</td>\n",
              "      <td>Charcoal Fabric</td>\n",
              "      <td>Music</td>\n",
              "      <td>1</td>\n",
              "    </tr>\n",
              "  </tbody>\n",
              "</table>\n",
              "</div>\n",
              "    <div class=\"colab-df-buttons\">\n",
              "\n",
              "  <div class=\"colab-df-container\">\n",
              "    <button class=\"colab-df-convert\" onclick=\"convertToInteractive('df-82357c52-4420-46c4-8fc2-6a423f9bc662')\"\n",
              "            title=\"Convert this dataframe to an interactive table.\"\n",
              "            style=\"display:none;\">\n",
              "\n",
              "  <svg xmlns=\"http://www.w3.org/2000/svg\" height=\"24px\" viewBox=\"0 -960 960 960\">\n",
              "    <path d=\"M120-120v-720h720v720H120Zm60-500h600v-160H180v160Zm220 220h160v-160H400v160Zm0 220h160v-160H400v160ZM180-400h160v-160H180v160Zm440 0h160v-160H620v160ZM180-180h160v-160H180v160Zm440 0h160v-160H620v160Z\"/>\n",
              "  </svg>\n",
              "    </button>\n",
              "\n",
              "  <style>\n",
              "    .colab-df-container {\n",
              "      display:flex;\n",
              "      gap: 12px;\n",
              "    }\n",
              "\n",
              "    .colab-df-convert {\n",
              "      background-color: #E8F0FE;\n",
              "      border: none;\n",
              "      border-radius: 50%;\n",
              "      cursor: pointer;\n",
              "      display: none;\n",
              "      fill: #1967D2;\n",
              "      height: 32px;\n",
              "      padding: 0 0 0 0;\n",
              "      width: 32px;\n",
              "    }\n",
              "\n",
              "    .colab-df-convert:hover {\n",
              "      background-color: #E2EBFA;\n",
              "      box-shadow: 0px 1px 2px rgba(60, 64, 67, 0.3), 0px 1px 3px 1px rgba(60, 64, 67, 0.15);\n",
              "      fill: #174EA6;\n",
              "    }\n",
              "\n",
              "    .colab-df-buttons div {\n",
              "      margin-bottom: 4px;\n",
              "    }\n",
              "\n",
              "    [theme=dark] .colab-df-convert {\n",
              "      background-color: #3B4455;\n",
              "      fill: #D2E3FC;\n",
              "    }\n",
              "\n",
              "    [theme=dark] .colab-df-convert:hover {\n",
              "      background-color: #434B5C;\n",
              "      box-shadow: 0px 1px 3px 1px rgba(0, 0, 0, 0.15);\n",
              "      filter: drop-shadow(0px 1px 2px rgba(0, 0, 0, 0.3));\n",
              "      fill: #FFFFFF;\n",
              "    }\n",
              "  </style>\n",
              "\n",
              "    <script>\n",
              "      const buttonEl =\n",
              "        document.querySelector('#df-82357c52-4420-46c4-8fc2-6a423f9bc662 button.colab-df-convert');\n",
              "      buttonEl.style.display =\n",
              "        google.colab.kernel.accessAllowed ? 'block' : 'none';\n",
              "\n",
              "      async function convertToInteractive(key) {\n",
              "        const element = document.querySelector('#df-82357c52-4420-46c4-8fc2-6a423f9bc662');\n",
              "        const dataTable =\n",
              "          await google.colab.kernel.invokeFunction('convertToInteractive',\n",
              "                                                    [key], {});\n",
              "        if (!dataTable) return;\n",
              "\n",
              "        const docLinkHtml = 'Like what you see? Visit the ' +\n",
              "          '<a target=\"_blank\" href=https://colab.research.google.com/notebooks/data_table.ipynb>data table notebook</a>'\n",
              "          + ' to learn more about interactive tables.';\n",
              "        element.innerHTML = '';\n",
              "        dataTable['output_type'] = 'display_data';\n",
              "        await google.colab.output.renderOutput(dataTable, element);\n",
              "        const docLink = document.createElement('div');\n",
              "        docLink.innerHTML = docLinkHtml;\n",
              "        element.appendChild(docLink);\n",
              "      }\n",
              "    </script>\n",
              "  </div>\n",
              "\n",
              "\n",
              "<div id=\"df-0bfa85d2-a9ee-496d-ac8f-6e2171c82a1a\">\n",
              "  <button class=\"colab-df-quickchart\" onclick=\"quickchart('df-0bfa85d2-a9ee-496d-ac8f-6e2171c82a1a')\"\n",
              "            title=\"Suggest charts\"\n",
              "            style=\"display:none;\">\n",
              "\n",
              "<svg xmlns=\"http://www.w3.org/2000/svg\" height=\"24px\"viewBox=\"0 0 24 24\"\n",
              "     width=\"24px\">\n",
              "    <g>\n",
              "        <path d=\"M19 3H5c-1.1 0-2 .9-2 2v14c0 1.1.9 2 2 2h14c1.1 0 2-.9 2-2V5c0-1.1-.9-2-2-2zM9 17H7v-7h2v7zm4 0h-2V7h2v10zm4 0h-2v-4h2v4z\"/>\n",
              "    </g>\n",
              "</svg>\n",
              "  </button>\n",
              "\n",
              "<style>\n",
              "  .colab-df-quickchart {\n",
              "      --bg-color: #E8F0FE;\n",
              "      --fill-color: #1967D2;\n",
              "      --hover-bg-color: #E2EBFA;\n",
              "      --hover-fill-color: #174EA6;\n",
              "      --disabled-fill-color: #AAA;\n",
              "      --disabled-bg-color: #DDD;\n",
              "  }\n",
              "\n",
              "  [theme=dark] .colab-df-quickchart {\n",
              "      --bg-color: #3B4455;\n",
              "      --fill-color: #D2E3FC;\n",
              "      --hover-bg-color: #434B5C;\n",
              "      --hover-fill-color: #FFFFFF;\n",
              "      --disabled-bg-color: #3B4455;\n",
              "      --disabled-fill-color: #666;\n",
              "  }\n",
              "\n",
              "  .colab-df-quickchart {\n",
              "    background-color: var(--bg-color);\n",
              "    border: none;\n",
              "    border-radius: 50%;\n",
              "    cursor: pointer;\n",
              "    display: none;\n",
              "    fill: var(--fill-color);\n",
              "    height: 32px;\n",
              "    padding: 0;\n",
              "    width: 32px;\n",
              "  }\n",
              "\n",
              "  .colab-df-quickchart:hover {\n",
              "    background-color: var(--hover-bg-color);\n",
              "    box-shadow: 0 1px 2px rgba(60, 64, 67, 0.3), 0 1px 3px 1px rgba(60, 64, 67, 0.15);\n",
              "    fill: var(--button-hover-fill-color);\n",
              "  }\n",
              "\n",
              "  .colab-df-quickchart-complete:disabled,\n",
              "  .colab-df-quickchart-complete:disabled:hover {\n",
              "    background-color: var(--disabled-bg-color);\n",
              "    fill: var(--disabled-fill-color);\n",
              "    box-shadow: none;\n",
              "  }\n",
              "\n",
              "  .colab-df-spinner {\n",
              "    border: 2px solid var(--fill-color);\n",
              "    border-color: transparent;\n",
              "    border-bottom-color: var(--fill-color);\n",
              "    animation:\n",
              "      spin 1s steps(1) infinite;\n",
              "  }\n",
              "\n",
              "  @keyframes spin {\n",
              "    0% {\n",
              "      border-color: transparent;\n",
              "      border-bottom-color: var(--fill-color);\n",
              "      border-left-color: var(--fill-color);\n",
              "    }\n",
              "    20% {\n",
              "      border-color: transparent;\n",
              "      border-left-color: var(--fill-color);\n",
              "      border-top-color: var(--fill-color);\n",
              "    }\n",
              "    30% {\n",
              "      border-color: transparent;\n",
              "      border-left-color: var(--fill-color);\n",
              "      border-top-color: var(--fill-color);\n",
              "      border-right-color: var(--fill-color);\n",
              "    }\n",
              "    40% {\n",
              "      border-color: transparent;\n",
              "      border-right-color: var(--fill-color);\n",
              "      border-top-color: var(--fill-color);\n",
              "    }\n",
              "    60% {\n",
              "      border-color: transparent;\n",
              "      border-right-color: var(--fill-color);\n",
              "    }\n",
              "    80% {\n",
              "      border-color: transparent;\n",
              "      border-right-color: var(--fill-color);\n",
              "      border-bottom-color: var(--fill-color);\n",
              "    }\n",
              "    90% {\n",
              "      border-color: transparent;\n",
              "      border-bottom-color: var(--fill-color);\n",
              "    }\n",
              "  }\n",
              "</style>\n",
              "\n",
              "  <script>\n",
              "    async function quickchart(key) {\n",
              "      const quickchartButtonEl =\n",
              "        document.querySelector('#' + key + ' button');\n",
              "      quickchartButtonEl.disabled = true;  // To prevent multiple clicks.\n",
              "      quickchartButtonEl.classList.add('colab-df-spinner');\n",
              "      try {\n",
              "        const charts = await google.colab.kernel.invokeFunction(\n",
              "            'suggestCharts', [key], {});\n",
              "      } catch (error) {\n",
              "        console.error('Error during call to suggestCharts:', error);\n",
              "      }\n",
              "      quickchartButtonEl.classList.remove('colab-df-spinner');\n",
              "      quickchartButtonEl.classList.add('colab-df-quickchart-complete');\n",
              "    }\n",
              "    (() => {\n",
              "      let quickchartButtonEl =\n",
              "        document.querySelector('#df-0bfa85d2-a9ee-496d-ac8f-6e2171c82a1a button');\n",
              "      quickchartButtonEl.style.display =\n",
              "        google.colab.kernel.accessAllowed ? 'block' : 'none';\n",
              "    })();\n",
              "  </script>\n",
              "</div>\n",
              "\n",
              "    </div>\n",
              "  </div>\n"
            ],
            "application/vnd.google.colaboratory.intrinsic+json": {
              "type": "dataframe",
              "variable_name": "dff",
              "summary": "{\n  \"name\": \"dff\",\n  \"rows\": 3150,\n  \"fields\": [\n    {\n      \"column\": \"rating\",\n      \"properties\": {\n        \"dtype\": \"number\",\n        \"std\": 1,\n        \"min\": 1,\n        \"max\": 5,\n        \"num_unique_values\": 5,\n        \"samples\": [\n          4,\n          1,\n          3\n        ],\n        \"semantic_type\": \"\",\n        \"description\": \"\"\n      }\n    },\n    {\n      \"column\": \"date\",\n      \"properties\": {\n        \"dtype\": \"object\",\n        \"num_unique_values\": 77,\n        \"samples\": [\n          \"27-Jul-18\",\n          \"26-Jun-18\",\n          \"21-Jul-18\"\n        ],\n        \"semantic_type\": \"\",\n        \"description\": \"\"\n      }\n    },\n    {\n      \"column\": \"variation\",\n      \"properties\": {\n        \"dtype\": \"category\",\n        \"num_unique_values\": 16,\n        \"samples\": [\n          \"Charcoal Fabric \",\n          \"Walnut Finish \",\n          \"Black\"\n        ],\n        \"semantic_type\": \"\",\n        \"description\": \"\"\n      }\n    },\n    {\n      \"column\": \"verified_reviews\",\n      \"properties\": {\n        \"dtype\": \"string\",\n        \"num_unique_values\": 2301,\n        \"samples\": [\n          \"Loving this way more than google home devices. I've been using for a couple months and if you're an amazon prime subscriber the value here is greater than google. I'm using to listen to free music with prime (better than alternatives), audible and you can even watch movies. The display is a little small for lots of watching, the sound should be louder, and YOUTUBE NEEDS TO BE AVAILABLE. These issues put this at a 3.5 to 4 stars. Fix one of them (youtube) and its a 5 star item. To alleviate sound I've paired with a blue tooth speaker. Right now this sits in my living area. Where I think it will shine is my office desk. Once there are great offers I could see purchasing additional for nightstand or other Amazon Alexa items for my household. I felt happy after adding this to my house where as I felt stupid using google home.\",\n          \"Pretty cool. I have only begun to figure out things she does.\",\n          \"Great product at a great price.\"\n        ],\n        \"semantic_type\": \"\",\n        \"description\": \"\"\n      }\n    },\n    {\n      \"column\": \"feedback\",\n      \"properties\": {\n        \"dtype\": \"number\",\n        \"std\": 0,\n        \"min\": 0,\n        \"max\": 1,\n        \"num_unique_values\": 2,\n        \"samples\": [\n          0,\n          1\n        ],\n        \"semantic_type\": \"\",\n        \"description\": \"\"\n      }\n    }\n  ]\n}"
            }
          },
          "metadata": {},
          "execution_count": 3
        }
      ]
    },
    {
      "cell_type": "markdown",
      "source": [
        "### **Get information of dataseet**"
      ],
      "metadata": {
        "id": "XGliNIq3C0Zx"
      }
    },
    {
      "cell_type": "code",
      "source": [
        "dff.info()"
      ],
      "metadata": {
        "colab": {
          "base_uri": "https://localhost:8080/"
        },
        "id": "YamAxsK9CQd2",
        "outputId": "25d933a2-56eb-4a2e-941d-e71dbb2ab19c"
      },
      "execution_count": null,
      "outputs": [
        {
          "output_type": "stream",
          "name": "stdout",
          "text": [
            "<class 'pandas.core.frame.DataFrame'>\n",
            "RangeIndex: 3150 entries, 0 to 3149\n",
            "Data columns (total 5 columns):\n",
            " #   Column            Non-Null Count  Dtype \n",
            "---  ------            --------------  ----- \n",
            " 0   rating            3150 non-null   int64 \n",
            " 1   date              3150 non-null   object\n",
            " 2   variation         3150 non-null   object\n",
            " 3   verified_reviews  3150 non-null   object\n",
            " 4   feedback          3150 non-null   int64 \n",
            "dtypes: int64(2), object(3)\n",
            "memory usage: 123.2+ KB\n"
          ]
        }
      ]
    },
    {
      "cell_type": "markdown",
      "source": [
        "### **statistical summary on our data**"
      ],
      "metadata": {
        "id": "u4FKpOPBCvBz"
      }
    },
    {
      "cell_type": "code",
      "source": [
        "dff.describe()"
      ],
      "metadata": {
        "colab": {
          "base_uri": "https://localhost:8080/",
          "height": 297
        },
        "id": "Po61BOCVCQbw",
        "outputId": "65d6f684-db4c-4afa-be75-e8e14d2f3e20"
      },
      "execution_count": null,
      "outputs": [
        {
          "output_type": "execute_result",
          "data": {
            "text/plain": [
              "            rating     feedback\n",
              "count  3150.000000  3150.000000\n",
              "mean      4.463175     0.918413\n",
              "std       1.068506     0.273778\n",
              "min       1.000000     0.000000\n",
              "25%       4.000000     1.000000\n",
              "50%       5.000000     1.000000\n",
              "75%       5.000000     1.000000\n",
              "max       5.000000     1.000000"
            ],
            "text/html": [
              "\n",
              "  <div id=\"df-b16b4be7-5a14-483a-bfa8-796feeb6e82f\" class=\"colab-df-container\">\n",
              "    <div>\n",
              "<style scoped>\n",
              "    .dataframe tbody tr th:only-of-type {\n",
              "        vertical-align: middle;\n",
              "    }\n",
              "\n",
              "    .dataframe tbody tr th {\n",
              "        vertical-align: top;\n",
              "    }\n",
              "\n",
              "    .dataframe thead th {\n",
              "        text-align: right;\n",
              "    }\n",
              "</style>\n",
              "<table border=\"1\" class=\"dataframe\">\n",
              "  <thead>\n",
              "    <tr style=\"text-align: right;\">\n",
              "      <th></th>\n",
              "      <th>rating</th>\n",
              "      <th>feedback</th>\n",
              "    </tr>\n",
              "  </thead>\n",
              "  <tbody>\n",
              "    <tr>\n",
              "      <th>count</th>\n",
              "      <td>3150.000000</td>\n",
              "      <td>3150.000000</td>\n",
              "    </tr>\n",
              "    <tr>\n",
              "      <th>mean</th>\n",
              "      <td>4.463175</td>\n",
              "      <td>0.918413</td>\n",
              "    </tr>\n",
              "    <tr>\n",
              "      <th>std</th>\n",
              "      <td>1.068506</td>\n",
              "      <td>0.273778</td>\n",
              "    </tr>\n",
              "    <tr>\n",
              "      <th>min</th>\n",
              "      <td>1.000000</td>\n",
              "      <td>0.000000</td>\n",
              "    </tr>\n",
              "    <tr>\n",
              "      <th>25%</th>\n",
              "      <td>4.000000</td>\n",
              "      <td>1.000000</td>\n",
              "    </tr>\n",
              "    <tr>\n",
              "      <th>50%</th>\n",
              "      <td>5.000000</td>\n",
              "      <td>1.000000</td>\n",
              "    </tr>\n",
              "    <tr>\n",
              "      <th>75%</th>\n",
              "      <td>5.000000</td>\n",
              "      <td>1.000000</td>\n",
              "    </tr>\n",
              "    <tr>\n",
              "      <th>max</th>\n",
              "      <td>5.000000</td>\n",
              "      <td>1.000000</td>\n",
              "    </tr>\n",
              "  </tbody>\n",
              "</table>\n",
              "</div>\n",
              "    <div class=\"colab-df-buttons\">\n",
              "\n",
              "  <div class=\"colab-df-container\">\n",
              "    <button class=\"colab-df-convert\" onclick=\"convertToInteractive('df-b16b4be7-5a14-483a-bfa8-796feeb6e82f')\"\n",
              "            title=\"Convert this dataframe to an interactive table.\"\n",
              "            style=\"display:none;\">\n",
              "\n",
              "  <svg xmlns=\"http://www.w3.org/2000/svg\" height=\"24px\" viewBox=\"0 -960 960 960\">\n",
              "    <path d=\"M120-120v-720h720v720H120Zm60-500h600v-160H180v160Zm220 220h160v-160H400v160Zm0 220h160v-160H400v160ZM180-400h160v-160H180v160Zm440 0h160v-160H620v160ZM180-180h160v-160H180v160Zm440 0h160v-160H620v160Z\"/>\n",
              "  </svg>\n",
              "    </button>\n",
              "\n",
              "  <style>\n",
              "    .colab-df-container {\n",
              "      display:flex;\n",
              "      gap: 12px;\n",
              "    }\n",
              "\n",
              "    .colab-df-convert {\n",
              "      background-color: #E8F0FE;\n",
              "      border: none;\n",
              "      border-radius: 50%;\n",
              "      cursor: pointer;\n",
              "      display: none;\n",
              "      fill: #1967D2;\n",
              "      height: 32px;\n",
              "      padding: 0 0 0 0;\n",
              "      width: 32px;\n",
              "    }\n",
              "\n",
              "    .colab-df-convert:hover {\n",
              "      background-color: #E2EBFA;\n",
              "      box-shadow: 0px 1px 2px rgba(60, 64, 67, 0.3), 0px 1px 3px 1px rgba(60, 64, 67, 0.15);\n",
              "      fill: #174EA6;\n",
              "    }\n",
              "\n",
              "    .colab-df-buttons div {\n",
              "      margin-bottom: 4px;\n",
              "    }\n",
              "\n",
              "    [theme=dark] .colab-df-convert {\n",
              "      background-color: #3B4455;\n",
              "      fill: #D2E3FC;\n",
              "    }\n",
              "\n",
              "    [theme=dark] .colab-df-convert:hover {\n",
              "      background-color: #434B5C;\n",
              "      box-shadow: 0px 1px 3px 1px rgba(0, 0, 0, 0.15);\n",
              "      filter: drop-shadow(0px 1px 2px rgba(0, 0, 0, 0.3));\n",
              "      fill: #FFFFFF;\n",
              "    }\n",
              "  </style>\n",
              "\n",
              "    <script>\n",
              "      const buttonEl =\n",
              "        document.querySelector('#df-b16b4be7-5a14-483a-bfa8-796feeb6e82f button.colab-df-convert');\n",
              "      buttonEl.style.display =\n",
              "        google.colab.kernel.accessAllowed ? 'block' : 'none';\n",
              "\n",
              "      async function convertToInteractive(key) {\n",
              "        const element = document.querySelector('#df-b16b4be7-5a14-483a-bfa8-796feeb6e82f');\n",
              "        const dataTable =\n",
              "          await google.colab.kernel.invokeFunction('convertToInteractive',\n",
              "                                                    [key], {});\n",
              "        if (!dataTable) return;\n",
              "\n",
              "        const docLinkHtml = 'Like what you see? Visit the ' +\n",
              "          '<a target=\"_blank\" href=https://colab.research.google.com/notebooks/data_table.ipynb>data table notebook</a>'\n",
              "          + ' to learn more about interactive tables.';\n",
              "        element.innerHTML = '';\n",
              "        dataTable['output_type'] = 'display_data';\n",
              "        await google.colab.output.renderOutput(dataTable, element);\n",
              "        const docLink = document.createElement('div');\n",
              "        docLink.innerHTML = docLinkHtml;\n",
              "        element.appendChild(docLink);\n",
              "      }\n",
              "    </script>\n",
              "  </div>\n",
              "\n",
              "\n",
              "<div id=\"df-44588922-1c75-4636-943e-3eff6e26c5ee\">\n",
              "  <button class=\"colab-df-quickchart\" onclick=\"quickchart('df-44588922-1c75-4636-943e-3eff6e26c5ee')\"\n",
              "            title=\"Suggest charts\"\n",
              "            style=\"display:none;\">\n",
              "\n",
              "<svg xmlns=\"http://www.w3.org/2000/svg\" height=\"24px\"viewBox=\"0 0 24 24\"\n",
              "     width=\"24px\">\n",
              "    <g>\n",
              "        <path d=\"M19 3H5c-1.1 0-2 .9-2 2v14c0 1.1.9 2 2 2h14c1.1 0 2-.9 2-2V5c0-1.1-.9-2-2-2zM9 17H7v-7h2v7zm4 0h-2V7h2v10zm4 0h-2v-4h2v4z\"/>\n",
              "    </g>\n",
              "</svg>\n",
              "  </button>\n",
              "\n",
              "<style>\n",
              "  .colab-df-quickchart {\n",
              "      --bg-color: #E8F0FE;\n",
              "      --fill-color: #1967D2;\n",
              "      --hover-bg-color: #E2EBFA;\n",
              "      --hover-fill-color: #174EA6;\n",
              "      --disabled-fill-color: #AAA;\n",
              "      --disabled-bg-color: #DDD;\n",
              "  }\n",
              "\n",
              "  [theme=dark] .colab-df-quickchart {\n",
              "      --bg-color: #3B4455;\n",
              "      --fill-color: #D2E3FC;\n",
              "      --hover-bg-color: #434B5C;\n",
              "      --hover-fill-color: #FFFFFF;\n",
              "      --disabled-bg-color: #3B4455;\n",
              "      --disabled-fill-color: #666;\n",
              "  }\n",
              "\n",
              "  .colab-df-quickchart {\n",
              "    background-color: var(--bg-color);\n",
              "    border: none;\n",
              "    border-radius: 50%;\n",
              "    cursor: pointer;\n",
              "    display: none;\n",
              "    fill: var(--fill-color);\n",
              "    height: 32px;\n",
              "    padding: 0;\n",
              "    width: 32px;\n",
              "  }\n",
              "\n",
              "  .colab-df-quickchart:hover {\n",
              "    background-color: var(--hover-bg-color);\n",
              "    box-shadow: 0 1px 2px rgba(60, 64, 67, 0.3), 0 1px 3px 1px rgba(60, 64, 67, 0.15);\n",
              "    fill: var(--button-hover-fill-color);\n",
              "  }\n",
              "\n",
              "  .colab-df-quickchart-complete:disabled,\n",
              "  .colab-df-quickchart-complete:disabled:hover {\n",
              "    background-color: var(--disabled-bg-color);\n",
              "    fill: var(--disabled-fill-color);\n",
              "    box-shadow: none;\n",
              "  }\n",
              "\n",
              "  .colab-df-spinner {\n",
              "    border: 2px solid var(--fill-color);\n",
              "    border-color: transparent;\n",
              "    border-bottom-color: var(--fill-color);\n",
              "    animation:\n",
              "      spin 1s steps(1) infinite;\n",
              "  }\n",
              "\n",
              "  @keyframes spin {\n",
              "    0% {\n",
              "      border-color: transparent;\n",
              "      border-bottom-color: var(--fill-color);\n",
              "      border-left-color: var(--fill-color);\n",
              "    }\n",
              "    20% {\n",
              "      border-color: transparent;\n",
              "      border-left-color: var(--fill-color);\n",
              "      border-top-color: var(--fill-color);\n",
              "    }\n",
              "    30% {\n",
              "      border-color: transparent;\n",
              "      border-left-color: var(--fill-color);\n",
              "      border-top-color: var(--fill-color);\n",
              "      border-right-color: var(--fill-color);\n",
              "    }\n",
              "    40% {\n",
              "      border-color: transparent;\n",
              "      border-right-color: var(--fill-color);\n",
              "      border-top-color: var(--fill-color);\n",
              "    }\n",
              "    60% {\n",
              "      border-color: transparent;\n",
              "      border-right-color: var(--fill-color);\n",
              "    }\n",
              "    80% {\n",
              "      border-color: transparent;\n",
              "      border-right-color: var(--fill-color);\n",
              "      border-bottom-color: var(--fill-color);\n",
              "    }\n",
              "    90% {\n",
              "      border-color: transparent;\n",
              "      border-bottom-color: var(--fill-color);\n",
              "    }\n",
              "  }\n",
              "</style>\n",
              "\n",
              "  <script>\n",
              "    async function quickchart(key) {\n",
              "      const quickchartButtonEl =\n",
              "        document.querySelector('#' + key + ' button');\n",
              "      quickchartButtonEl.disabled = true;  // To prevent multiple clicks.\n",
              "      quickchartButtonEl.classList.add('colab-df-spinner');\n",
              "      try {\n",
              "        const charts = await google.colab.kernel.invokeFunction(\n",
              "            'suggestCharts', [key], {});\n",
              "      } catch (error) {\n",
              "        console.error('Error during call to suggestCharts:', error);\n",
              "      }\n",
              "      quickchartButtonEl.classList.remove('colab-df-spinner');\n",
              "      quickchartButtonEl.classList.add('colab-df-quickchart-complete');\n",
              "    }\n",
              "    (() => {\n",
              "      let quickchartButtonEl =\n",
              "        document.querySelector('#df-44588922-1c75-4636-943e-3eff6e26c5ee button');\n",
              "      quickchartButtonEl.style.display =\n",
              "        google.colab.kernel.accessAllowed ? 'block' : 'none';\n",
              "    })();\n",
              "  </script>\n",
              "</div>\n",
              "\n",
              "    </div>\n",
              "  </div>\n"
            ],
            "application/vnd.google.colaboratory.intrinsic+json": {
              "type": "dataframe",
              "summary": "{\n  \"name\": \"dff\",\n  \"rows\": 8,\n  \"fields\": [\n    {\n      \"column\": \"rating\",\n      \"properties\": {\n        \"dtype\": \"number\",\n        \"std\": 1112.4049159968727,\n        \"min\": 1.0,\n        \"max\": 3150.0,\n        \"num_unique_values\": 6,\n        \"samples\": [\n          3150.0,\n          4.463174603174603,\n          5.0\n        ],\n        \"semantic_type\": \"\",\n        \"description\": \"\"\n      }\n    },\n    {\n      \"column\": \"feedback\",\n      \"properties\": {\n        \"dtype\": \"number\",\n        \"std\": 1113.4310035776366,\n        \"min\": 0.0,\n        \"max\": 3150.0,\n        \"num_unique_values\": 5,\n        \"samples\": [\n          0.9184126984126985,\n          1.0,\n          0.27377839381687413\n        ],\n        \"semantic_type\": \"\",\n        \"description\": \"\"\n      }\n    }\n  ]\n}"
            }
          },
          "metadata": {},
          "execution_count": 5
        }
      ]
    },
    {
      "cell_type": "code",
      "source": [
        "dff.shape"
      ],
      "metadata": {
        "colab": {
          "base_uri": "https://localhost:8080/"
        },
        "id": "AdI8kPMpCQZ8",
        "outputId": "c8be79cf-384e-4dea-ae43-8d28af5ac7ed"
      },
      "execution_count": null,
      "outputs": [
        {
          "output_type": "execute_result",
          "data": {
            "text/plain": [
              "(3150, 5)"
            ]
          },
          "metadata": {},
          "execution_count": 6
        }
      ]
    },
    {
      "cell_type": "markdown",
      "source": [
        "## **Drop the date column from the dataset**\n",
        "\n",
        "---\n",
        "\n"
      ],
      "metadata": {
        "id": "fEQ3ORGcC_-7"
      }
    },
    {
      "cell_type": "code",
      "source": [
        "#dff = df.drop(columns = \"date\" , inplace = True )\n"
      ],
      "metadata": {
        "id": "VikjOpH6CQXn"
      },
      "execution_count": null,
      "outputs": []
    },
    {
      "cell_type": "markdown",
      "source": [
        "# **Data visualization**"
      ],
      "metadata": {
        "id": "L_KPYe9LEpdL"
      }
    },
    {
      "cell_type": "code",
      "source": [
        "sns.heatmap(dff.isnull(), yticklabels = False)"
      ],
      "metadata": {
        "colab": {
          "base_uri": "https://localhost:8080/",
          "height": 141
        },
        "id": "LhY50m7SCQVh",
        "outputId": "34a89abe-fe9e-45c9-ff16-de8001ac521a"
      },
      "execution_count": null,
      "outputs": [
        {
          "output_type": "error",
          "ename": "NameError",
          "evalue": "name 'sns' is not defined",
          "traceback": [
            "\u001b[0;31m---------------------------------------------------------------------------\u001b[0m",
            "\u001b[0;31mNameError\u001b[0m                                 Traceback (most recent call last)",
            "\u001b[0;32m<ipython-input-1-cc9e4a535110>\u001b[0m in \u001b[0;36m<cell line: 1>\u001b[0;34m()\u001b[0m\n\u001b[0;32m----> 1\u001b[0;31m \u001b[0msns\u001b[0m\u001b[0;34m.\u001b[0m\u001b[0mheatmap\u001b[0m\u001b[0;34m(\u001b[0m\u001b[0mdff\u001b[0m\u001b[0;34m.\u001b[0m\u001b[0misnull\u001b[0m\u001b[0;34m(\u001b[0m\u001b[0;34m)\u001b[0m\u001b[0;34m,\u001b[0m \u001b[0myticklabels\u001b[0m \u001b[0;34m=\u001b[0m \u001b[0;32mFalse\u001b[0m\u001b[0;34m)\u001b[0m\u001b[0;34m\u001b[0m\u001b[0;34m\u001b[0m\u001b[0m\n\u001b[0m",
            "\u001b[0;31mNameError\u001b[0m: name 'sns' is not defined"
          ]
        }
      ]
    },
    {
      "cell_type": "code",
      "source": [
        "sns.countplot(x = dff[\"rating\"])"
      ],
      "metadata": {
        "colab": {
          "base_uri": "https://localhost:8080/",
          "height": 653
        },
        "id": "9tob7LgCCQTa",
        "outputId": "82b35441-3e18-46f8-87dd-c54278688bbe"
      },
      "execution_count": null,
      "outputs": [
        {
          "output_type": "execute_result",
          "data": {
            "text/plain": [
              "<Axes: xlabel='rating', ylabel='count'>"
            ]
          },
          "metadata": {},
          "execution_count": 9
        },
        {
          "output_type": "display_data",
          "data": {
            "text/plain": [
              "<Figure size 800x700 with 1 Axes>"
            ],
            "image/png": "[encoded data removed]"
          },
          "metadata": {}
        }
      ]
    },
    {
      "cell_type": "code",
      "source": [
        "#plot the countplot for the feedback column\n",
        "\n",
        "sns.countplot(x = dff[\"feedback\"])\n"
      ],
      "metadata": {
        "colab": {
          "base_uri": "https://localhost:8080/",
          "height": 653
        },
        "id": "wiqryr5oCQRm",
        "outputId": "e97737c7-7817-4d73-f635-3d5869f8e3c5"
      },
      "execution_count": null,
      "outputs": [
        {
          "output_type": "execute_result",
          "data": {
            "text/plain": [
              "<Axes: xlabel='feedback', ylabel='count'>"
            ]
          },
          "metadata": {},
          "execution_count": 10
        },
        {
          "output_type": "display_data",
          "data": {
            "text/plain": [
              "<Figure size 800x700 with 1 Axes>"
            ],
            "image/png": "[encoded data removed]"
          },
          "metadata": {}
        }
      ]
    },
    {
      "cell_type": "code",
      "source": [
        "# roughly how many positive and negative feedbacks are present in the dataset\n",
        "\n",
        "num_positive_feedback = dff[dff['feedback'] == 1].shape[0]\n",
        "num_negative_feedback = dff[dff['feedback'] == 0].shape[0]\n",
        "\n",
        "print(f\"Number of positive feedbacks: {num_positive_feedback}\")\n",
        "print(f\"Number of negative feedbacks: {num_negative_feedback}\")\n"
      ],
      "metadata": {
        "colab": {
          "base_uri": "https://localhost:8080/"
        },
        "id": "eAiMaTAxCQMI",
        "outputId": "f2d2460a-fc32-4a75-da22-d3c4f03914cd"
      },
      "execution_count": null,
      "outputs": [
        {
          "output_type": "stream",
          "name": "stdout",
          "text": [
            "Number of positive feedbacks: 2893\n",
            "Number of negative feedbacks: 257\n"
          ]
        }
      ]
    },
    {
      "cell_type": "markdown",
      "source": [
        "# **Data Exploration**"
      ],
      "metadata": {
        "id": "Xh4mRZhcJZh_"
      }
    },
    {
      "cell_type": "markdown",
      "source": [
        "### **to get the length  of characters in (cell) of any specified columns**"
      ],
      "metadata": {
        "id": "bxNvJHZiJtg9"
      }
    },
    {
      "cell_type": "code",
      "source": [
        "#len(dff[\"verified_reviews\"])\n",
        "dff[\"length\"] = dff[\"verified_reviews\"].apply(len)\n",
        "dff"
      ],
      "metadata": {
        "colab": {
          "base_uri": "https://localhost:8080/",
          "height": 419
        },
        "id": "eq1QXXykJZ8o",
        "outputId": "15a60dd4-77da-4c49-b3a6-91e36f94bc63"
      },
      "execution_count": null,
      "outputs": [
        {
          "output_type": "execute_result",
          "data": {
            "text/plain": [
              "      rating       date         variation  \\\n",
              "0          5  31-Jul-18  Charcoal Fabric    \n",
              "1          5  31-Jul-18  Charcoal Fabric    \n",
              "2          4  31-Jul-18    Walnut Finish    \n",
              "3          5  31-Jul-18  Charcoal Fabric    \n",
              "4          5  31-Jul-18  Charcoal Fabric    \n",
              "...      ...        ...               ...   \n",
              "3145       5  30-Jul-18        Black  Dot   \n",
              "3146       5  30-Jul-18        Black  Dot   \n",
              "3147       5  30-Jul-18        Black  Dot   \n",
              "3148       5  30-Jul-18        White  Dot   \n",
              "3149       4  29-Jul-18        Black  Dot   \n",
              "\n",
              "                                       verified_reviews  feedback  length  \n",
              "0                                         Love my Echo!         1      13  \n",
              "1                                             Loved it!         1       9  \n",
              "2     Sometimes while playing a game, you can answer...         1     195  \n",
              "3     I have had a lot of fun with this thing. My 4 ...         1     172  \n",
              "4                                                 Music         1       5  \n",
              "...                                                 ...       ...     ...  \n",
              "3145  Perfect for kids, adults and everyone in betwe...         1      50  \n",
              "3146  Listening to music, searching locations, check...         1     135  \n",
              "3147  I do love these things, i have them running my...         1     441  \n",
              "3148  Only complaint I have is that the sound qualit...         1     380  \n",
              "3149                                               Good         1       4  \n",
              "\n",
              "[3150 rows x 6 columns]"
            ],
            "text/html": [
              "\n",
              "  <div id=\"df-bcb24d7f-fb06-48bd-b777-3036ab47d41d\" class=\"colab-df-container\">\n",
              "    <div>\n",
              "<style scoped>\n",
              "    .dataframe tbody tr th:only-of-type {\n",
              "        vertical-align: middle;\n",
              "    }\n",
              "\n",
              "    .dataframe tbody tr th {\n",
              "        vertical-align: top;\n",
              "    }\n",
              "\n",
              "    .dataframe thead th {\n",
              "        text-align: right;\n",
              "    }\n",
              "</style>\n",
              "<table border=\"1\" class=\"dataframe\">\n",
              "  <thead>\n",
              "    <tr style=\"text-align: right;\">\n",
              "      <th></th>\n",
              "      <th>rating</th>\n",
              "      <th>date</th>\n",
              "      <th>variation</th>\n",
              "      <th>verified_reviews</th>\n",
              "      <th>feedback</th>\n",
              "      <th>length</th>\n",
              "    </tr>\n",
              "  </thead>\n",
              "  <tbody>\n",
              "    <tr>\n",
              "      <th>0</th>\n",
              "      <td>5</td>\n",
              "      <td>31-Jul-18</td>\n",
              "      <td>Charcoal Fabric</td>\n",
              "      <td>Love my Echo!</td>\n",
              "      <td>1</td>\n",
              "      <td>13</td>\n",
              "    </tr>\n",
              "    <tr>\n",
              "      <th>1</th>\n",
              "      <td>5</td>\n",
              "      <td>31-Jul-18</td>\n",
              "      <td>Charcoal Fabric</td>\n",
              "      <td>Loved it!</td>\n",
              "      <td>1</td>\n",
              "      <td>9</td>\n",
              "    </tr>\n",
              "    <tr>\n",
              "      <th>2</th>\n",
              "      <td>4</td>\n",
              "      <td>31-Jul-18</td>\n",
              "      <td>Walnut Finish</td>\n",
              "      <td>Sometimes while playing a game, you can answer...</td>\n",
              "      <td>1</td>\n",
              "      <td>195</td>\n",
              "    </tr>\n",
              "    <tr>\n",
              "      <th>3</th>\n",
              "      <td>5</td>\n",
              "      <td>31-Jul-18</td>\n",
              "      <td>Charcoal Fabric</td>\n",
              "      <td>I have had a lot of fun with this thing. My 4 ...</td>\n",
              "      <td>1</td>\n",
              "      <td>172</td>\n",
              "    </tr>\n",
              "    <tr>\n",
              "      <th>4</th>\n",
              "      <td>5</td>\n",
              "      <td>31-Jul-18</td>\n",
              "      <td>Charcoal Fabric</td>\n",
              "      <td>Music</td>\n",
              "      <td>1</td>\n",
              "      <td>5</td>\n",
              "    </tr>\n",
              "    <tr>\n",
              "      <th>...</th>\n",
              "      <td>...</td>\n",
              "      <td>...</td>\n",
              "      <td>...</td>\n",
              "      <td>...</td>\n",
              "      <td>...</td>\n",
              "      <td>...</td>\n",
              "    </tr>\n",
              "    <tr>\n",
              "      <th>3145</th>\n",
              "      <td>5</td>\n",
              "      <td>30-Jul-18</td>\n",
              "      <td>Black  Dot</td>\n",
              "      <td>Perfect for kids, adults and everyone in betwe...</td>\n",
              "      <td>1</td>\n",
              "      <td>50</td>\n",
              "    </tr>\n",
              "    <tr>\n",
              "      <th>3146</th>\n",
              "      <td>5</td>\n",
              "      <td>30-Jul-18</td>\n",
              "      <td>Black  Dot</td>\n",
              "      <td>Listening to music, searching locations, check...</td>\n",
              "      <td>1</td>\n",
              "      <td>135</td>\n",
              "    </tr>\n",
              "    <tr>\n",
              "      <th>3147</th>\n",
              "      <td>5</td>\n",
              "      <td>30-Jul-18</td>\n",
              "      <td>Black  Dot</td>\n",
              "      <td>I do love these things, i have them running my...</td>\n",
              "      <td>1</td>\n",
              "      <td>441</td>\n",
              "    </tr>\n",
              "    <tr>\n",
              "      <th>3148</th>\n",
              "      <td>5</td>\n",
              "      <td>30-Jul-18</td>\n",
              "      <td>White  Dot</td>\n",
              "      <td>Only complaint I have is that the sound qualit...</td>\n",
              "      <td>1</td>\n",
              "      <td>380</td>\n",
              "    </tr>\n",
              "    <tr>\n",
              "      <th>3149</th>\n",
              "      <td>4</td>\n",
              "      <td>29-Jul-18</td>\n",
              "      <td>Black  Dot</td>\n",
              "      <td>Good</td>\n",
              "      <td>1</td>\n",
              "      <td>4</td>\n",
              "    </tr>\n",
              "  </tbody>\n",
              "</table>\n",
              "<p>3150 rows × 6 columns</p>\n",
              "</div>\n",
              "    <div class=\"colab-df-buttons\">\n",
              "\n",
              "  <div class=\"colab-df-container\">\n",
              "    <button class=\"colab-df-convert\" onclick=\"convertToInteractive('df-bcb24d7f-fb06-48bd-b777-3036ab47d41d')\"\n",
              "            title=\"Convert this dataframe to an interactive table.\"\n",
              "            style=\"display:none;\">\n",
              "\n",
              "  <svg xmlns=\"http://www.w3.org/2000/svg\" height=\"24px\" viewBox=\"0 -960 960 960\">\n",
              "    <path d=\"M120-120v-720h720v720H120Zm60-500h600v-160H180v160Zm220 220h160v-160H400v160Zm0 220h160v-160H400v160ZM180-400h160v-160H180v160Zm440 0h160v-160H620v160ZM180-180h160v-160H180v160Zm440 0h160v-160H620v160Z\"/>\n",
              "  </svg>\n",
              "    </button>\n",
              "\n",
              "  <style>\n",
              "    .colab-df-container {\n",
              "      display:flex;\n",
              "      gap: 12px;\n",
              "    }\n",
              "\n",
              "    .colab-df-convert {\n",
              "      background-color: #E8F0FE;\n",
              "      border: none;\n",
              "      border-radius: 50%;\n",
              "      cursor: pointer;\n",
              "      display: none;\n",
              "      fill: #1967D2;\n",
              "      height: 32px;\n",
              "      padding: 0 0 0 0;\n",
              "      width: 32px;\n",
              "    }\n",
              "\n",
              "    .colab-df-convert:hover {\n",
              "      background-color: #E2EBFA;\n",
              "      box-shadow: 0px 1px 2px rgba(60, 64, 67, 0.3), 0px 1px 3px 1px rgba(60, 64, 67, 0.15);\n",
              "      fill: #174EA6;\n",
              "    }\n",
              "\n",
              "    .colab-df-buttons div {\n",
              "      margin-bottom: 4px;\n",
              "    }\n",
              "\n",
              "    [theme=dark] .colab-df-convert {\n",
              "      background-color: #3B4455;\n",
              "      fill: #D2E3FC;\n",
              "    }\n",
              "\n",
              "    [theme=dark] .colab-df-convert:hover {\n",
              "      background-color: #434B5C;\n",
              "      box-shadow: 0px 1px 3px 1px rgba(0, 0, 0, 0.15);\n",
              "      filter: drop-shadow(0px 1px 2px rgba(0, 0, 0, 0.3));\n",
              "      fill: #FFFFFF;\n",
              "    }\n",
              "  </style>\n",
              "\n",
              "    <script>\n",
              "      const buttonEl =\n",
              "        document.querySelector('#df-bcb24d7f-fb06-48bd-b777-3036ab47d41d button.colab-df-convert');\n",
              "      buttonEl.style.display =\n",
              "        google.colab.kernel.accessAllowed ? 'block' : 'none';\n",
              "\n",
              "      async function convertToInteractive(key) {\n",
              "        const element = document.querySelector('#df-bcb24d7f-fb06-48bd-b777-3036ab47d41d');\n",
              "        const dataTable =\n",
              "          await google.colab.kernel.invokeFunction('convertToInteractive',\n",
              "                                                    [key], {});\n",
              "        if (!dataTable) return;\n",
              "\n",
              "        const docLinkHtml = 'Like what you see? Visit the ' +\n",
              "          '<a target=\"_blank\" href=https://colab.research.google.com/notebooks/data_table.ipynb>data table notebook</a>'\n",
              "          + ' to learn more about interactive tables.';\n",
              "        element.innerHTML = '';\n",
              "        dataTable['output_type'] = 'display_data';\n",
              "        await google.colab.output.renderOutput(dataTable, element);\n",
              "        const docLink = document.createElement('div');\n",
              "        docLink.innerHTML = docLinkHtml;\n",
              "        element.appendChild(docLink);\n",
              "      }\n",
              "    </script>\n",
              "  </div>\n",
              "\n",
              "\n",
              "<div id=\"df-b9616ce3-9b90-4603-9c76-8b5113ce5973\">\n",
              "  <button class=\"colab-df-quickchart\" onclick=\"quickchart('df-b9616ce3-9b90-4603-9c76-8b5113ce5973')\"\n",
              "            title=\"Suggest charts\"\n",
              "            style=\"display:none;\">\n",
              "\n",
              "<svg xmlns=\"http://www.w3.org/2000/svg\" height=\"24px\"viewBox=\"0 0 24 24\"\n",
              "     width=\"24px\">\n",
              "    <g>\n",
              "        <path d=\"M19 3H5c-1.1 0-2 .9-2 2v14c0 1.1.9 2 2 2h14c1.1 0 2-.9 2-2V5c0-1.1-.9-2-2-2zM9 17H7v-7h2v7zm4 0h-2V7h2v10zm4 0h-2v-4h2v4z\"/>\n",
              "    </g>\n",
              "</svg>\n",
              "  </button>\n",
              "\n",
              "<style>\n",
              "  .colab-df-quickchart {\n",
              "      --bg-color: #E8F0FE;\n",
              "      --fill-color: #1967D2;\n",
              "      --hover-bg-color: #E2EBFA;\n",
              "      --hover-fill-color: #174EA6;\n",
              "      --disabled-fill-color: #AAA;\n",
              "      --disabled-bg-color: #DDD;\n",
              "  }\n",
              "\n",
              "  [theme=dark] .colab-df-quickchart {\n",
              "      --bg-color: #3B4455;\n",
              "      --fill-color: #D2E3FC;\n",
              "      --hover-bg-color: #434B5C;\n",
              "      --hover-fill-color: #FFFFFF;\n",
              "      --disabled-bg-color: #3B4455;\n",
              "      --disabled-fill-color: #666;\n",
              "  }\n",
              "\n",
              "  .colab-df-quickchart {\n",
              "    background-color: var(--bg-color);\n",
              "    border: none;\n",
              "    border-radius: 50%;\n",
              "    cursor: pointer;\n",
              "    display: none;\n",
              "    fill: var(--fill-color);\n",
              "    height: 32px;\n",
              "    padding: 0;\n",
              "    width: 32px;\n",
              "  }\n",
              "\n",
              "  .colab-df-quickchart:hover {\n",
              "    background-color: var(--hover-bg-color);\n",
              "    box-shadow: 0 1px 2px rgba(60, 64, 67, 0.3), 0 1px 3px 1px rgba(60, 64, 67, 0.15);\n",
              "    fill: var(--button-hover-fill-color);\n",
              "  }\n",
              "\n",
              "  .colab-df-quickchart-complete:disabled,\n",
              "  .colab-df-quickchart-complete:disabled:hover {\n",
              "    background-color: var(--disabled-bg-color);\n",
              "    fill: var(--disabled-fill-color);\n",
              "    box-shadow: none;\n",
              "  }\n",
              "\n",
              "  .colab-df-spinner {\n",
              "    border: 2px solid var(--fill-color);\n",
              "    border-color: transparent;\n",
              "    border-bottom-color: var(--fill-color);\n",
              "    animation:\n",
              "      spin 1s steps(1) infinite;\n",
              "  }\n",
              "\n",
              "  @keyframes spin {\n",
              "    0% {\n",
              "      border-color: transparent;\n",
              "      border-bottom-color: var(--fill-color);\n",
              "      border-left-color: var(--fill-color);\n",
              "    }\n",
              "    20% {\n",
              "      border-color: transparent;\n",
              "      border-left-color: var(--fill-color);\n",
              "      border-top-color: var(--fill-color);\n",
              "    }\n",
              "    30% {\n",
              "      border-color: transparent;\n",
              "      border-left-color: var(--fill-color);\n",
              "      border-top-color: var(--fill-color);\n",
              "      border-right-color: var(--fill-color);\n",
              "    }\n",
              "    40% {\n",
              "      border-color: transparent;\n",
              "      border-right-color: var(--fill-color);\n",
              "      border-top-color: var(--fill-color);\n",
              "    }\n",
              "    60% {\n",
              "      border-color: transparent;\n",
              "      border-right-color: var(--fill-color);\n",
              "    }\n",
              "    80% {\n",
              "      border-color: transparent;\n",
              "      border-right-color: var(--fill-color);\n",
              "      border-bottom-color: var(--fill-color);\n",
              "    }\n",
              "    90% {\n",
              "      border-color: transparent;\n",
              "      border-bottom-color: var(--fill-color);\n",
              "    }\n",
              "  }\n",
              "</style>\n",
              "\n",
              "  <script>\n",
              "    async function quickchart(key) {\n",
              "      const quickchartButtonEl =\n",
              "        document.querySelector('#' + key + ' button');\n",
              "      quickchartButtonEl.disabled = true;  // To prevent multiple clicks.\n",
              "      quickchartButtonEl.classList.add('colab-df-spinner');\n",
              "      try {\n",
              "        const charts = await google.colab.kernel.invokeFunction(\n",
              "            'suggestCharts', [key], {});\n",
              "      } catch (error) {\n",
              "        console.error('Error during call to suggestCharts:', error);\n",
              "      }\n",
              "      quickchartButtonEl.classList.remove('colab-df-spinner');\n",
              "      quickchartButtonEl.classList.add('colab-df-quickchart-complete');\n",
              "    }\n",
              "    (() => {\n",
              "      let quickchartButtonEl =\n",
              "        document.querySelector('#df-b9616ce3-9b90-4603-9c76-8b5113ce5973 button');\n",
              "      quickchartButtonEl.style.display =\n",
              "        google.colab.kernel.accessAllowed ? 'block' : 'none';\n",
              "    })();\n",
              "  </script>\n",
              "</div>\n",
              "\n",
              "  <div id=\"id_ca584d54-3d51-4325-9578-8585ccb55238\">\n",
              "    <style>\n",
              "      .colab-df-generate {\n",
              "        background-color: #E8F0FE;\n",
              "        border: none;\n",
              "        border-radius: 50%;\n",
              "        cursor: pointer;\n",
              "        display: none;\n",
              "        fill: #1967D2;\n",
              "        height: 32px;\n",
              "        padding: 0 0 0 0;\n",
              "        width: 32px;\n",
              "      }\n",
              "\n",
              "      .colab-df-generate:hover {\n",
              "        background-color: #E2EBFA;\n",
              "        box-shadow: 0px 1px 2px rgba(60, 64, 67, 0.3), 0px 1px 3px 1px rgba(60, 64, 67, 0.15);\n",
              "        fill: #174EA6;\n",
              "      }\n",
              "\n",
              "      [theme=dark] .colab-df-generate {\n",
              "        background-color: #3B4455;\n",
              "        fill: #D2E3FC;\n",
              "      }\n",
              "\n",
              "      [theme=dark] .colab-df-generate:hover {\n",
              "        background-color: #434B5C;\n",
              "        box-shadow: 0px 1px 3px 1px rgba(0, 0, 0, 0.15);\n",
              "        filter: drop-shadow(0px 1px 2px rgba(0, 0, 0, 0.3));\n",
              "        fill: #FFFFFF;\n",
              "      }\n",
              "    </style>\n",
              "    <button class=\"colab-df-generate\" onclick=\"generateWithVariable('dff')\"\n",
              "            title=\"Generate code using this dataframe.\"\n",
              "            style=\"display:none;\">\n",
              "\n",
              "  <svg xmlns=\"http://www.w3.org/2000/svg\" height=\"24px\"viewBox=\"0 0 24 24\"\n",
              "       width=\"24px\">\n",
              "    <path d=\"M7,19H8.4L18.45,9,17,7.55,7,17.6ZM5,21V16.75L18.45,3.32a2,2,0,0,1,2.83,0l1.4,1.43a1.91,1.91,0,0,1,.58,1.4,1.91,1.91,0,0,1-.58,1.4L9.25,21ZM18.45,9,17,7.55Zm-12,3A5.31,5.31,0,0,0,4.9,8.1,5.31,5.31,0,0,0,1,6.5,5.31,5.31,0,0,0,4.9,4.9,5.31,5.31,0,0,0,6.5,1,5.31,5.31,0,0,0,8.1,4.9,5.31,5.31,0,0,0,12,6.5,5.46,5.46,0,0,0,6.5,12Z\"/>\n",
              "  </svg>\n",
              "    </button>\n",
              "    <script>\n",
              "      (() => {\n",
              "      const buttonEl =\n",
              "        document.querySelector('#id_ca584d54-3d51-4325-9578-8585ccb55238 button.colab-df-generate');\n",
              "      buttonEl.style.display =\n",
              "        google.colab.kernel.accessAllowed ? 'block' : 'none';\n",
              "\n",
              "      buttonEl.onclick = () => {\n",
              "        google.colab.notebook.generateWithVariable('dff');\n",
              "      }\n",
              "      })();\n",
              "    </script>\n",
              "  </div>\n",
              "\n",
              "    </div>\n",
              "  </div>\n"
            ],
            "application/vnd.google.colaboratory.intrinsic+json": {
              "type": "dataframe",
              "variable_name": "dff",
              "summary": "{\n  \"name\": \"dff\",\n  \"rows\": 3150,\n  \"fields\": [\n    {\n      \"column\": \"rating\",\n      \"properties\": {\n        \"dtype\": \"number\",\n        \"std\": 1,\n        \"min\": 1,\n        \"max\": 5,\n        \"num_unique_values\": 5,\n        \"samples\": [\n          4,\n          1,\n          3\n        ],\n        \"semantic_type\": \"\",\n        \"description\": \"\"\n      }\n    },\n    {\n      \"column\": \"date\",\n      \"properties\": {\n        \"dtype\": \"object\",\n        \"num_unique_values\": 77,\n        \"samples\": [\n          \"27-Jul-18\",\n          \"26-Jun-18\",\n          \"21-Jul-18\"\n        ],\n        \"semantic_type\": \"\",\n        \"description\": \"\"\n      }\n    },\n    {\n      \"column\": \"variation\",\n      \"properties\": {\n        \"dtype\": \"category\",\n        \"num_unique_values\": 16,\n        \"samples\": [\n          \"Charcoal Fabric \",\n          \"Walnut Finish \",\n          \"Black\"\n        ],\n        \"semantic_type\": \"\",\n        \"description\": \"\"\n      }\n    },\n    {\n      \"column\": \"verified_reviews\",\n      \"properties\": {\n        \"dtype\": \"string\",\n        \"num_unique_values\": 2301,\n        \"samples\": [\n          \"Loving this way more than google home devices. I've been using for a couple months and if you're an amazon prime subscriber the value here is greater than google. I'm using to listen to free music with prime (better than alternatives), audible and you can even watch movies. The display is a little small for lots of watching, the sound should be louder, and YOUTUBE NEEDS TO BE AVAILABLE. These issues put this at a 3.5 to 4 stars. Fix one of them (youtube) and its a 5 star item. To alleviate sound I've paired with a blue tooth speaker. Right now this sits in my living area. Where I think it will shine is my office desk. Once there are great offers I could see purchasing additional for nightstand or other Amazon Alexa items for my household. I felt happy after adding this to my house where as I felt stupid using google home.\",\n          \"Pretty cool. I have only begun to figure out things she does.\",\n          \"Great product at a great price.\"\n        ],\n        \"semantic_type\": \"\",\n        \"description\": \"\"\n      }\n    },\n    {\n      \"column\": \"feedback\",\n      \"properties\": {\n        \"dtype\": \"number\",\n        \"std\": 0,\n        \"min\": 0,\n        \"max\": 1,\n        \"num_unique_values\": 2,\n        \"samples\": [\n          0,\n          1\n        ],\n        \"semantic_type\": \"\",\n        \"description\": \"\"\n      }\n    },\n    {\n      \"column\": \"length\",\n      \"properties\": {\n        \"dtype\": \"number\",\n        \"std\": 182,\n        \"min\": 1,\n        \"max\": 2851,\n        \"num_unique_values\": 490,\n        \"samples\": [\n          690,\n          59\n        ],\n        \"semantic_type\": \"\",\n        \"description\": \"\"\n      }\n    }\n  ]\n}"
            }
          },
          "metadata": {},
          "execution_count": 12
        }
      ]
    },
    {
      "cell_type": "markdown",
      "source": [
        "### **plot a histogram**"
      ],
      "metadata": {
        "id": "rf-H5B_ZLfal"
      }
    },
    {
      "cell_type": "code",
      "source": [
        "dff[\"length\"].plot(bins = 100 , kind = \"hist\")"
      ],
      "metadata": {
        "colab": {
          "base_uri": "https://localhost:8080/",
          "height": 629
        },
        "id": "5Ut8ZF8iJbfm",
        "outputId": "db29375c-7a12-4f9b-9999-af5d9f7a856a"
      },
      "execution_count": null,
      "outputs": [
        {
          "output_type": "execute_result",
          "data": {
            "text/plain": [
              "<Axes: ylabel='Frequency'>"
            ]
          },
          "metadata": {},
          "execution_count": 13
        },
        {
          "output_type": "display_data",
          "data": {
            "text/plain": [
              "<Figure size 800x700 with 1 Axes>"
            ],
            "image/png": "[encoded data removed]"
          },
          "metadata": {}
        }
      ]
    },
    {
      "cell_type": "code",
      "source": [
        "dff.describe()"
      ],
      "metadata": {
        "colab": {
          "base_uri": "https://localhost:8080/",
          "height": 297
        },
        "id": "FpXVkvvJJbdh",
        "outputId": "b2e2271c-d909-4241-a5d9-89df50990da9"
      },
      "execution_count": null,
      "outputs": [
        {
          "output_type": "execute_result",
          "data": {
            "text/plain": [
              "            rating     feedback       length\n",
              "count  3150.000000  3150.000000  3150.000000\n",
              "mean      4.463175     0.918413   132.049524\n",
              "std       1.068506     0.273778   182.099952\n",
              "min       1.000000     0.000000     1.000000\n",
              "25%       4.000000     1.000000    30.000000\n",
              "50%       5.000000     1.000000    74.000000\n",
              "75%       5.000000     1.000000   165.000000\n",
              "max       5.000000     1.000000  2851.000000"
            ],
            "text/html": [
              "\n",
              "  <div id=\"df-4f811f73-ebcc-4367-859e-3fe28f14d6a6\" class=\"colab-df-container\">\n",
              "    <div>\n",
              "<style scoped>\n",
              "    .dataframe tbody tr th:only-of-type {\n",
              "        vertical-align: middle;\n",
              "    }\n",
              "\n",
              "    .dataframe tbody tr th {\n",
              "        vertical-align: top;\n",
              "    }\n",
              "\n",
              "    .dataframe thead th {\n",
              "        text-align: right;\n",
              "    }\n",
              "</style>\n",
              "<table border=\"1\" class=\"dataframe\">\n",
              "  <thead>\n",
              "    <tr style=\"text-align: right;\">\n",
              "      <th></th>\n",
              "      <th>rating</th>\n",
              "      <th>feedback</th>\n",
              "      <th>length</th>\n",
              "    </tr>\n",
              "  </thead>\n",
              "  <tbody>\n",
              "    <tr>\n",
              "      <th>count</th>\n",
              "      <td>3150.000000</td>\n",
              "      <td>3150.000000</td>\n",
              "      <td>3150.000000</td>\n",
              "    </tr>\n",
              "    <tr>\n",
              "      <th>mean</th>\n",
              "      <td>4.463175</td>\n",
              "      <td>0.918413</td>\n",
              "      <td>132.049524</td>\n",
              "    </tr>\n",
              "    <tr>\n",
              "      <th>std</th>\n",
              "      <td>1.068506</td>\n",
              "      <td>0.273778</td>\n",
              "      <td>182.099952</td>\n",
              "    </tr>\n",
              "    <tr>\n",
              "      <th>min</th>\n",
              "      <td>1.000000</td>\n",
              "      <td>0.000000</td>\n",
              "      <td>1.000000</td>\n",
              "    </tr>\n",
              "    <tr>\n",
              "      <th>25%</th>\n",
              "      <td>4.000000</td>\n",
              "      <td>1.000000</td>\n",
              "      <td>30.000000</td>\n",
              "    </tr>\n",
              "    <tr>\n",
              "      <th>50%</th>\n",
              "      <td>5.000000</td>\n",
              "      <td>1.000000</td>\n",
              "      <td>74.000000</td>\n",
              "    </tr>\n",
              "    <tr>\n",
              "      <th>75%</th>\n",
              "      <td>5.000000</td>\n",
              "      <td>1.000000</td>\n",
              "      <td>165.000000</td>\n",
              "    </tr>\n",
              "    <tr>\n",
              "      <th>max</th>\n",
              "      <td>5.000000</td>\n",
              "      <td>1.000000</td>\n",
              "      <td>2851.000000</td>\n",
              "    </tr>\n",
              "  </tbody>\n",
              "</table>\n",
              "</div>\n",
              "    <div class=\"colab-df-buttons\">\n",
              "\n",
              "  <div class=\"colab-df-container\">\n",
              "    <button class=\"colab-df-convert\" onclick=\"convertToInteractive('df-4f811f73-ebcc-4367-859e-3fe28f14d6a6')\"\n",
              "            title=\"Convert this dataframe to an interactive table.\"\n",
              "            style=\"display:none;\">\n",
              "\n",
              "  <svg xmlns=\"http://www.w3.org/2000/svg\" height=\"24px\" viewBox=\"0 -960 960 960\">\n",
              "    <path d=\"M120-120v-720h720v720H120Zm60-500h600v-160H180v160Zm220 220h160v-160H400v160Zm0 220h160v-160H400v160ZM180-400h160v-160H180v160Zm440 0h160v-160H620v160ZM180-180h160v-160H180v160Zm440 0h160v-160H620v160Z\"/>\n",
              "  </svg>\n",
              "    </button>\n",
              "\n",
              "  <style>\n",
              "    .colab-df-container {\n",
              "      display:flex;\n",
              "      gap: 12px;\n",
              "    }\n",
              "\n",
              "    .colab-df-convert {\n",
              "      background-color: #E8F0FE;\n",
              "      border: none;\n",
              "      border-radius: 50%;\n",
              "      cursor: pointer;\n",
              "      display: none;\n",
              "      fill: #1967D2;\n",
              "      height: 32px;\n",
              "      padding: 0 0 0 0;\n",
              "      width: 32px;\n",
              "    }\n",
              "\n",
              "    .colab-df-convert:hover {\n",
              "      background-color: #E2EBFA;\n",
              "      box-shadow: 0px 1px 2px rgba(60, 64, 67, 0.3), 0px 1px 3px 1px rgba(60, 64, 67, 0.15);\n",
              "      fill: #174EA6;\n",
              "    }\n",
              "\n",
              "    .colab-df-buttons div {\n",
              "      margin-bottom: 4px;\n",
              "    }\n",
              "\n",
              "    [theme=dark] .colab-df-convert {\n",
              "      background-color: #3B4455;\n",
              "      fill: #D2E3FC;\n",
              "    }\n",
              "\n",
              "    [theme=dark] .colab-df-convert:hover {\n",
              "      background-color: #434B5C;\n",
              "      box-shadow: 0px 1px 3px 1px rgba(0, 0, 0, 0.15);\n",
              "      filter: drop-shadow(0px 1px 2px rgba(0, 0, 0, 0.3));\n",
              "      fill: #FFFFFF;\n",
              "    }\n",
              "  </style>\n",
              "\n",
              "    <script>\n",
              "      const buttonEl =\n",
              "        document.querySelector('#df-4f811f73-ebcc-4367-859e-3fe28f14d6a6 button.colab-df-convert');\n",
              "      buttonEl.style.display =\n",
              "        google.colab.kernel.accessAllowed ? 'block' : 'none';\n",
              "\n",
              "      async function convertToInteractive(key) {\n",
              "        const element = document.querySelector('#df-4f811f73-ebcc-4367-859e-3fe28f14d6a6');\n",
              "        const dataTable =\n",
              "          await google.colab.kernel.invokeFunction('convertToInteractive',\n",
              "                                                    [key], {});\n",
              "        if (!dataTable) return;\n",
              "\n",
              "        const docLinkHtml = 'Like what you see? Visit the ' +\n",
              "          '<a target=\"_blank\" href=https://colab.research.google.com/notebooks/data_table.ipynb>data table notebook</a>'\n",
              "          + ' to learn more about interactive tables.';\n",
              "        element.innerHTML = '';\n",
              "        dataTable['output_type'] = 'display_data';\n",
              "        await google.colab.output.renderOutput(dataTable, element);\n",
              "        const docLink = document.createElement('div');\n",
              "        docLink.innerHTML = docLinkHtml;\n",
              "        element.appendChild(docLink);\n",
              "      }\n",
              "    </script>\n",
              "  </div>\n",
              "\n",
              "\n",
              "<div id=\"df-706cc5fd-0937-45ea-b76e-ec002613f920\">\n",
              "  <button class=\"colab-df-quickchart\" onclick=\"quickchart('df-706cc5fd-0937-45ea-b76e-ec002613f920')\"\n",
              "            title=\"Suggest charts\"\n",
              "            style=\"display:none;\">\n",
              "\n",
              "<svg xmlns=\"http://www.w3.org/2000/svg\" height=\"24px\"viewBox=\"0 0 24 24\"\n",
              "     width=\"24px\">\n",
              "    <g>\n",
              "        <path d=\"M19 3H5c-1.1 0-2 .9-2 2v14c0 1.1.9 2 2 2h14c1.1 0 2-.9 2-2V5c0-1.1-.9-2-2-2zM9 17H7v-7h2v7zm4 0h-2V7h2v10zm4 0h-2v-4h2v4z\"/>\n",
              "    </g>\n",
              "</svg>\n",
              "  </button>\n",
              "\n",
              "<style>\n",
              "  .colab-df-quickchart {\n",
              "      --bg-color: #E8F0FE;\n",
              "      --fill-color: #1967D2;\n",
              "      --hover-bg-color: #E2EBFA;\n",
              "      --hover-fill-color: #174EA6;\n",
              "      --disabled-fill-color: #AAA;\n",
              "      --disabled-bg-color: #DDD;\n",
              "  }\n",
              "\n",
              "  [theme=dark] .colab-df-quickchart {\n",
              "      --bg-color: #3B4455;\n",
              "      --fill-color: #D2E3FC;\n",
              "      --hover-bg-color: #434B5C;\n",
              "      --hover-fill-color: #FFFFFF;\n",
              "      --disabled-bg-color: #3B4455;\n",
              "      --disabled-fill-color: #666;\n",
              "  }\n",
              "\n",
              "  .colab-df-quickchart {\n",
              "    background-color: var(--bg-color);\n",
              "    border: none;\n",
              "    border-radius: 50%;\n",
              "    cursor: pointer;\n",
              "    display: none;\n",
              "    fill: var(--fill-color);\n",
              "    height: 32px;\n",
              "    padding: 0;\n",
              "    width: 32px;\n",
              "  }\n",
              "\n",
              "  .colab-df-quickchart:hover {\n",
              "    background-color: var(--hover-bg-color);\n",
              "    box-shadow: 0 1px 2px rgba(60, 64, 67, 0.3), 0 1px 3px 1px rgba(60, 64, 67, 0.15);\n",
              "    fill: var(--button-hover-fill-color);\n",
              "  }\n",
              "\n",
              "  .colab-df-quickchart-complete:disabled,\n",
              "  .colab-df-quickchart-complete:disabled:hover {\n",
              "    background-color: var(--disabled-bg-color);\n",
              "    fill: var(--disabled-fill-color);\n",
              "    box-shadow: none;\n",
              "  }\n",
              "\n",
              "  .colab-df-spinner {\n",
              "    border: 2px solid var(--fill-color);\n",
              "    border-color: transparent;\n",
              "    border-bottom-color: var(--fill-color);\n",
              "    animation:\n",
              "      spin 1s steps(1) infinite;\n",
              "  }\n",
              "\n",
              "  @keyframes spin {\n",
              "    0% {\n",
              "      border-color: transparent;\n",
              "      border-bottom-color: var(--fill-color);\n",
              "      border-left-color: var(--fill-color);\n",
              "    }\n",
              "    20% {\n",
              "      border-color: transparent;\n",
              "      border-left-color: var(--fill-color);\n",
              "      border-top-color: var(--fill-color);\n",
              "    }\n",
              "    30% {\n",
              "      border-color: transparent;\n",
              "      border-left-color: var(--fill-color);\n",
              "      border-top-color: var(--fill-color);\n",
              "      border-right-color: var(--fill-color);\n",
              "    }\n",
              "    40% {\n",
              "      border-color: transparent;\n",
              "      border-right-color: var(--fill-color);\n",
              "      border-top-color: var(--fill-color);\n",
              "    }\n",
              "    60% {\n",
              "      border-color: transparent;\n",
              "      border-right-color: var(--fill-color);\n",
              "    }\n",
              "    80% {\n",
              "      border-color: transparent;\n",
              "      border-right-color: var(--fill-color);\n",
              "      border-bottom-color: var(--fill-color);\n",
              "    }\n",
              "    90% {\n",
              "      border-color: transparent;\n",
              "      border-bottom-color: var(--fill-color);\n",
              "    }\n",
              "  }\n",
              "</style>\n",
              "\n",
              "  <script>\n",
              "    async function quickchart(key) {\n",
              "      const quickchartButtonEl =\n",
              "        document.querySelector('#' + key + ' button');\n",
              "      quickchartButtonEl.disabled = true;  // To prevent multiple clicks.\n",
              "      quickchartButtonEl.classList.add('colab-df-spinner');\n",
              "      try {\n",
              "        const charts = await google.colab.kernel.invokeFunction(\n",
              "            'suggestCharts', [key], {});\n",
              "      } catch (error) {\n",
              "        console.error('Error during call to suggestCharts:', error);\n",
              "      }\n",
              "      quickchartButtonEl.classList.remove('colab-df-spinner');\n",
              "      quickchartButtonEl.classList.add('colab-df-quickchart-complete');\n",
              "    }\n",
              "    (() => {\n",
              "      let quickchartButtonEl =\n",
              "        document.querySelector('#df-706cc5fd-0937-45ea-b76e-ec002613f920 button');\n",
              "      quickchartButtonEl.style.display =\n",
              "        google.colab.kernel.accessAllowed ? 'block' : 'none';\n",
              "    })();\n",
              "  </script>\n",
              "</div>\n",
              "\n",
              "    </div>\n",
              "  </div>\n"
            ],
            "application/vnd.google.colaboratory.intrinsic+json": {
              "type": "dataframe",
              "summary": "{\n  \"name\": \"dff\",\n  \"rows\": 8,\n  \"fields\": [\n    {\n      \"column\": \"rating\",\n      \"properties\": {\n        \"dtype\": \"number\",\n        \"std\": 1112.4049159968727,\n        \"min\": 1.0,\n        \"max\": 3150.0,\n        \"num_unique_values\": 6,\n        \"samples\": [\n          3150.0,\n          4.463174603174603,\n          5.0\n        ],\n        \"semantic_type\": \"\",\n        \"description\": \"\"\n      }\n    },\n    {\n      \"column\": \"feedback\",\n      \"properties\": {\n        \"dtype\": \"number\",\n        \"std\": 1113.4310035776366,\n        \"min\": 0.0,\n        \"max\": 3150.0,\n        \"num_unique_values\": 5,\n        \"samples\": [\n          0.9184126984126985,\n          1.0,\n          0.27377839381687413\n        ],\n        \"semantic_type\": \"\",\n        \"description\": \"\"\n      }\n    },\n    {\n      \"column\": \"length\",\n      \"properties\": {\n        \"dtype\": \"number\",\n        \"std\": 1347.7163895510175,\n        \"min\": 1.0,\n        \"max\": 3150.0,\n        \"num_unique_values\": 8,\n        \"samples\": [\n          132.0495238095238,\n          74.0,\n          3150.0\n        ],\n        \"semantic_type\": \"\",\n        \"description\": \"\"\n      }\n    }\n  ]\n}"
            }
          },
          "metadata": {},
          "execution_count": 14
        }
      ]
    },
    {
      "cell_type": "markdown",
      "source": [
        "### **get the longest message review**"
      ],
      "metadata": {
        "id": "5SzMxeGvLkDu"
      }
    },
    {
      "cell_type": "code",
      "source": [
        "dff[dff[\"length\"] == 2851.000000]"
      ],
      "metadata": {
        "id": "F1rpQa54Jbbc",
        "colab": {
          "base_uri": "https://localhost:8080/",
          "height": 80
        },
        "outputId": "ec2d95fd-b496-463c-871d-8a5ec4d45907"
      },
      "execution_count": null,
      "outputs": [
        {
          "output_type": "execute_result",
          "data": {
            "text/plain": [
              "      rating       date    variation  \\\n",
              "2016       5  20-Jul-18  Black  Plus   \n",
              "\n",
              "                                       verified_reviews  feedback  length  \n",
              "2016  Incredible piece of technology.I have this rig...         1    2851  "
            ],
            "text/html": [
              "\n",
              "  <div id=\"df-5ee52ef5-5d23-4356-9a18-41a52061f02b\" class=\"colab-df-container\">\n",
              "    <div>\n",
              "<style scoped>\n",
              "    .dataframe tbody tr th:only-of-type {\n",
              "        vertical-align: middle;\n",
              "    }\n",
              "\n",
              "    .dataframe tbody tr th {\n",
              "        vertical-align: top;\n",
              "    }\n",
              "\n",
              "    .dataframe thead th {\n",
              "        text-align: right;\n",
              "    }\n",
              "</style>\n",
              "<table border=\"1\" class=\"dataframe\">\n",
              "  <thead>\n",
              "    <tr style=\"text-align: right;\">\n",
              "      <th></th>\n",
              "      <th>rating</th>\n",
              "      <th>date</th>\n",
              "      <th>variation</th>\n",
              "      <th>verified_reviews</th>\n",
              "      <th>feedback</th>\n",
              "      <th>length</th>\n",
              "    </tr>\n",
              "  </thead>\n",
              "  <tbody>\n",
              "    <tr>\n",
              "      <th>2016</th>\n",
              "      <td>5</td>\n",
              "      <td>20-Jul-18</td>\n",
              "      <td>Black  Plus</td>\n",
              "      <td>Incredible piece of technology.I have this rig...</td>\n",
              "      <td>1</td>\n",
              "      <td>2851</td>\n",
              "    </tr>\n",
              "  </tbody>\n",
              "</table>\n",
              "</div>\n",
              "    <div class=\"colab-df-buttons\">\n",
              "\n",
              "  <div class=\"colab-df-container\">\n",
              "    <button class=\"colab-df-convert\" onclick=\"convertToInteractive('df-5ee52ef5-5d23-4356-9a18-41a52061f02b')\"\n",
              "            title=\"Convert this dataframe to an interactive table.\"\n",
              "            style=\"display:none;\">\n",
              "\n",
              "  <svg xmlns=\"http://www.w3.org/2000/svg\" height=\"24px\" viewBox=\"0 -960 960 960\">\n",
              "    <path d=\"M120-120v-720h720v720H120Zm60-500h600v-160H180v160Zm220 220h160v-160H400v160Zm0 220h160v-160H400v160ZM180-400h160v-160H180v160Zm440 0h160v-160H620v160ZM180-180h160v-160H180v160Zm440 0h160v-160H620v160Z\"/>\n",
              "  </svg>\n",
              "    </button>\n",
              "\n",
              "  <style>\n",
              "    .colab-df-container {\n",
              "      display:flex;\n",
              "      gap: 12px;\n",
              "    }\n",
              "\n",
              "    .colab-df-convert {\n",
              "      background-color: #E8F0FE;\n",
              "      border: none;\n",
              "      border-radius: 50%;\n",
              "      cursor: pointer;\n",
              "      display: none;\n",
              "      fill: #1967D2;\n",
              "      height: 32px;\n",
              "      padding: 0 0 0 0;\n",
              "      width: 32px;\n",
              "    }\n",
              "\n",
              "    .colab-df-convert:hover {\n",
              "      background-color: #E2EBFA;\n",
              "      box-shadow: 0px 1px 2px rgba(60, 64, 67, 0.3), 0px 1px 3px 1px rgba(60, 64, 67, 0.15);\n",
              "      fill: #174EA6;\n",
              "    }\n",
              "\n",
              "    .colab-df-buttons div {\n",
              "      margin-bottom: 4px;\n",
              "    }\n",
              "\n",
              "    [theme=dark] .colab-df-convert {\n",
              "      background-color: #3B4455;\n",
              "      fill: #D2E3FC;\n",
              "    }\n",
              "\n",
              "    [theme=dark] .colab-df-convert:hover {\n",
              "      background-color: #434B5C;\n",
              "      box-shadow: 0px 1px 3px 1px rgba(0, 0, 0, 0.15);\n",
              "      filter: drop-shadow(0px 1px 2px rgba(0, 0, 0, 0.3));\n",
              "      fill: #FFFFFF;\n",
              "    }\n",
              "  </style>\n",
              "\n",
              "    <script>\n",
              "      const buttonEl =\n",
              "        document.querySelector('#df-5ee52ef5-5d23-4356-9a18-41a52061f02b button.colab-df-convert');\n",
              "      buttonEl.style.display =\n",
              "        google.colab.kernel.accessAllowed ? 'block' : 'none';\n",
              "\n",
              "      async function convertToInteractive(key) {\n",
              "        const element = document.querySelector('#df-5ee52ef5-5d23-4356-9a18-41a52061f02b');\n",
              "        const dataTable =\n",
              "          await google.colab.kernel.invokeFunction('convertToInteractive',\n",
              "                                                    [key], {});\n",
              "        if (!dataTable) return;\n",
              "\n",
              "        const docLinkHtml = 'Like what you see? Visit the ' +\n",
              "          '<a target=\"_blank\" href=https://colab.research.google.com/notebooks/data_table.ipynb>data table notebook</a>'\n",
              "          + ' to learn more about interactive tables.';\n",
              "        element.innerHTML = '';\n",
              "        dataTable['output_type'] = 'display_data';\n",
              "        await google.colab.output.renderOutput(dataTable, element);\n",
              "        const docLink = document.createElement('div');\n",
              "        docLink.innerHTML = docLinkHtml;\n",
              "        element.appendChild(docLink);\n",
              "      }\n",
              "    </script>\n",
              "  </div>\n",
              "\n",
              "\n",
              "    </div>\n",
              "  </div>\n"
            ],
            "application/vnd.google.colaboratory.intrinsic+json": {
              "type": "dataframe",
              "repr_error": "0"
            }
          },
          "metadata": {},
          "execution_count": 15
        }
      ]
    },
    {
      "cell_type": "code",
      "source": [
        "dff.verified_reviews[dff[\"length\"] == 2851].iloc[0]"
      ],
      "metadata": {
        "colab": {
          "base_uri": "https://localhost:8080/",
          "height": 171
        },
        "id": "8XqpXKqkQI_p",
        "outputId": "9decda24-8b92-4268-d622-b456ecd80e90"
      },
      "execution_count": null,
      "outputs": [
        {
          "output_type": "execute_result",
          "data": {
            "text/plain": [
              "\"Incredible piece of technology.I have this right center of my living room on an island kitchen counter. The mic and speaker goes in every direction and the quality of the sound is quite good. I connected the Echo via Bluetooth to my Sony soundbar on my TV but find the Echo placement and 360 sound more appealing. It's no audiophile equipment but there is good range and decent bass. The sound is more than adequate for any indoor entertaining and loud enough to bother neighbors in my building. The knob on the top works great for adjusting volume. This is my first Echo device and I would imagine having to press volume buttons (on the Echo 2) a large inconvenience and not as precise. For that alone I would recommend this over the regular Echo (2nd generation).The piece looks quality and is quite sturdy with some weight on it. The rubber material on the bottom has a good grip on the granite counter-- my cat can even rub her scent on it without tipping it over.This order came with a free Philips Hue Bulb which I installed along with an extra one I bought. I put the 2 bulbs into my living room floor lamp, turned on the light, and all I had to do was say &#34;Alexa, connect my devices&#34;. The default names for each bulb was assigned as &#34;First light&#34; and &#34;Second light&#34;, so I can have a dimmer floor lamp if I just turned on/off one of the lights by saying &#34;Alexa, turn off the second light&#34;. In the Alexa app, I created a 'Group' with &#34;First light&#34; and &#34;Second light&#34; and named the group &#34;The light&#34;, so to turn on the lamp with both bulbs shining I just say &#34;Alexa, turn on The light&#34;.I was surprised how easily the bulbs connected to the Echo Plus with its built in hub. I thought I would have to buy a hub bridge to connect to my floor lamp power plug. Apparently there is some technology built directly inside the bulb! I was surprised by that. Awesome.You will feel like Tony Stark on this device. I added quite a few &#34;Skills&#34; like 'Thunderstorm sounds' and 'Quote of the day' . Alexa always loads them up quickly. Adding songs that you hear to specific playlists on Amazon Music is also a great feature.I can go on and on and this is only my second day of ownership.I was lucky to buy this for $100 on Prime Day, but I think for $150 is it pretty expensive considering the Echo 2 is only $100. In my opinion, you will be paying a premium for the Echo Plus and you have to decide if the value is there for you:1) Taller and 360 sound unit.2) Volume knob on top that you spin (I think this is a huge benefit over buttons)3) Built in hub for Hue bulbs. After researching more, there are some cons to this setup if you plan on having more advanced light setups. For me and my floor lamp, it's just perfect.I highly recommend it and will buy an Echo dot for my bedroom now.\""
            ],
            "application/vnd.google.colaboratory.intrinsic+json": {
              "type": "string"
            }
          },
          "metadata": {},
          "execution_count": 16
        }
      ]
    },
    {
      "cell_type": "code",
      "source": [
        "# for the average length\n",
        "\n",
        "dff.verified_reviews[dff[\"length\"] == 132].iloc[0]"
      ],
      "metadata": {
        "id": "oijSRBB8JbZV",
        "colab": {
          "base_uri": "https://localhost:8080/",
          "height": 52
        },
        "outputId": "0ab16510-5fd4-4cc1-9188-46c77a7ad669"
      },
      "execution_count": null,
      "outputs": [
        {
          "output_type": "execute_result",
          "data": {
            "text/plain": [
              "'Nice. It works good.Some times is not easy to recognize your voice and you have to repeat several times, some time almost screaming.'"
            ],
            "application/vnd.google.colaboratory.intrinsic+json": {
              "type": "string"
            }
          },
          "metadata": {},
          "execution_count": 17
        }
      ]
    },
    {
      "cell_type": "markdown",
      "source": [
        "## **Ploting the world Cloud**"
      ],
      "metadata": {
        "id": "t37_Q8PRSSod"
      }
    },
    {
      "cell_type": "markdown",
      "source": [
        "* Obtain only positive reviews\n",
        "\n",
        "---\n",
        "\n"
      ],
      "metadata": {
        "id": "7ofV5ChrSeHp"
      }
    },
    {
      "cell_type": "code",
      "source": [
        "positive_Df = dff[dff[\"feedback\"] == 1]\n",
        "positive_Df"
      ],
      "metadata": {
        "id": "hHUIA3XuJbRA",
        "colab": {
          "base_uri": "https://localhost:8080/",
          "height": 419
        },
        "outputId": "4f3e1e69-f2f9-4878-e5e3-d1ced63c79d8"
      },
      "execution_count": null,
      "outputs": [
        {
          "output_type": "execute_result",
          "data": {
            "text/plain": [
              "      rating       date         variation  \\\n",
              "0          5  31-Jul-18  Charcoal Fabric    \n",
              "1          5  31-Jul-18  Charcoal Fabric    \n",
              "2          4  31-Jul-18    Walnut Finish    \n",
              "3          5  31-Jul-18  Charcoal Fabric    \n",
              "4          5  31-Jul-18  Charcoal Fabric    \n",
              "...      ...        ...               ...   \n",
              "3145       5  30-Jul-18        Black  Dot   \n",
              "3146       5  30-Jul-18        Black  Dot   \n",
              "3147       5  30-Jul-18        Black  Dot   \n",
              "3148       5  30-Jul-18        White  Dot   \n",
              "3149       4  29-Jul-18        Black  Dot   \n",
              "\n",
              "                                       verified_reviews  feedback  length  \n",
              "0                                         Love my Echo!         1      13  \n",
              "1                                             Loved it!         1       9  \n",
              "2     Sometimes while playing a game, you can answer...         1     195  \n",
              "3     I have had a lot of fun with this thing. My 4 ...         1     172  \n",
              "4                                                 Music         1       5  \n",
              "...                                                 ...       ...     ...  \n",
              "3145  Perfect for kids, adults and everyone in betwe...         1      50  \n",
              "3146  Listening to music, searching locations, check...         1     135  \n",
              "3147  I do love these things, i have them running my...         1     441  \n",
              "3148  Only complaint I have is that the sound qualit...         1     380  \n",
              "3149                                               Good         1       4  \n",
              "\n",
              "[2893 rows x 6 columns]"
            ],
            "text/html": [
              "\n",
              "  <div id=\"df-27e593f0-5a4c-4c24-9eb9-37060a786630\" class=\"colab-df-container\">\n",
              "    <div>\n",
              "<style scoped>\n",
              "    .dataframe tbody tr th:only-of-type {\n",
              "        vertical-align: middle;\n",
              "    }\n",
              "\n",
              "    .dataframe tbody tr th {\n",
              "        vertical-align: top;\n",
              "    }\n",
              "\n",
              "    .dataframe thead th {\n",
              "        text-align: right;\n",
              "    }\n",
              "</style>\n",
              "<table border=\"1\" class=\"dataframe\">\n",
              "  <thead>\n",
              "    <tr style=\"text-align: right;\">\n",
              "      <th></th>\n",
              "      <th>rating</th>\n",
              "      <th>date</th>\n",
              "      <th>variation</th>\n",
              "      <th>verified_reviews</th>\n",
              "      <th>feedback</th>\n",
              "      <th>length</th>\n",
              "    </tr>\n",
              "  </thead>\n",
              "  <tbody>\n",
              "    <tr>\n",
              "      <th>0</th>\n",
              "      <td>5</td>\n",
              "      <td>31-Jul-18</td>\n",
              "      <td>Charcoal Fabric</td>\n",
              "      <td>Love my Echo!</td>\n",
              "      <td>1</td>\n",
              "      <td>13</td>\n",
              "    </tr>\n",
              "    <tr>\n",
              "      <th>1</th>\n",
              "      <td>5</td>\n",
              "      <td>31-Jul-18</td>\n",
              "      <td>Charcoal Fabric</td>\n",
              "      <td>Loved it!</td>\n",
              "      <td>1</td>\n",
              "      <td>9</td>\n",
              "    </tr>\n",
              "    <tr>\n",
              "      <th>2</th>\n",
              "      <td>4</td>\n",
              "      <td>31-Jul-18</td>\n",
              "      <td>Walnut Finish</td>\n",
              "      <td>Sometimes while playing a game, you can answer...</td>\n",
              "      <td>1</td>\n",
              "      <td>195</td>\n",
              "    </tr>\n",
              "    <tr>\n",
              "      <th>3</th>\n",
              "      <td>5</td>\n",
              "      <td>31-Jul-18</td>\n",
              "      <td>Charcoal Fabric</td>\n",
              "      <td>I have had a lot of fun with this thing. My 4 ...</td>\n",
              "      <td>1</td>\n",
              "      <td>172</td>\n",
              "    </tr>\n",
              "    <tr>\n",
              "      <th>4</th>\n",
              "      <td>5</td>\n",
              "      <td>31-Jul-18</td>\n",
              "      <td>Charcoal Fabric</td>\n",
              "      <td>Music</td>\n",
              "      <td>1</td>\n",
              "      <td>5</td>\n",
              "    </tr>\n",
              "    <tr>\n",
              "      <th>...</th>\n",
              "      <td>...</td>\n",
              "      <td>...</td>\n",
              "      <td>...</td>\n",
              "      <td>...</td>\n",
              "      <td>...</td>\n",
              "      <td>...</td>\n",
              "    </tr>\n",
              "    <tr>\n",
              "      <th>3145</th>\n",
              "      <td>5</td>\n",
              "      <td>30-Jul-18</td>\n",
              "      <td>Black  Dot</td>\n",
              "      <td>Perfect for kids, adults and everyone in betwe...</td>\n",
              "      <td>1</td>\n",
              "      <td>50</td>\n",
              "    </tr>\n",
              "    <tr>\n",
              "      <th>3146</th>\n",
              "      <td>5</td>\n",
              "      <td>30-Jul-18</td>\n",
              "      <td>Black  Dot</td>\n",
              "      <td>Listening to music, searching locations, check...</td>\n",
              "      <td>1</td>\n",
              "      <td>135</td>\n",
              "    </tr>\n",
              "    <tr>\n",
              "      <th>3147</th>\n",
              "      <td>5</td>\n",
              "      <td>30-Jul-18</td>\n",
              "      <td>Black  Dot</td>\n",
              "      <td>I do love these things, i have them running my...</td>\n",
              "      <td>1</td>\n",
              "      <td>441</td>\n",
              "    </tr>\n",
              "    <tr>\n",
              "      <th>3148</th>\n",
              "      <td>5</td>\n",
              "      <td>30-Jul-18</td>\n",
              "      <td>White  Dot</td>\n",
              "      <td>Only complaint I have is that the sound qualit...</td>\n",
              "      <td>1</td>\n",
              "      <td>380</td>\n",
              "    </tr>\n",
              "    <tr>\n",
              "      <th>3149</th>\n",
              "      <td>4</td>\n",
              "      <td>29-Jul-18</td>\n",
              "      <td>Black  Dot</td>\n",
              "      <td>Good</td>\n",
              "      <td>1</td>\n",
              "      <td>4</td>\n",
              "    </tr>\n",
              "  </tbody>\n",
              "</table>\n",
              "<p>2893 rows × 6 columns</p>\n",
              "</div>\n",
              "    <div class=\"colab-df-buttons\">\n",
              "\n",
              "  <div class=\"colab-df-container\">\n",
              "    <button class=\"colab-df-convert\" onclick=\"convertToInteractive('df-27e593f0-5a4c-4c24-9eb9-37060a786630')\"\n",
              "            title=\"Convert this dataframe to an interactive table.\"\n",
              "            style=\"display:none;\">\n",
              "\n",
              "  <svg xmlns=\"http://www.w3.org/2000/svg\" height=\"24px\" viewBox=\"0 -960 960 960\">\n",
              "    <path d=\"M120-120v-720h720v720H120Zm60-500h600v-160H180v160Zm220 220h160v-160H400v160Zm0 220h160v-160H400v160ZM180-400h160v-160H180v160Zm440 0h160v-160H620v160ZM180-180h160v-160H180v160Zm440 0h160v-160H620v160Z\"/>\n",
              "  </svg>\n",
              "    </button>\n",
              "\n",
              "  <style>\n",
              "    .colab-df-container {\n",
              "      display:flex;\n",
              "      gap: 12px;\n",
              "    }\n",
              "\n",
              "    .colab-df-convert {\n",
              "      background-color: #E8F0FE;\n",
              "      border: none;\n",
              "      border-radius: 50%;\n",
              "      cursor: pointer;\n",
              "      display: none;\n",
              "      fill: #1967D2;\n",
              "      height: 32px;\n",
              "      padding: 0 0 0 0;\n",
              "      width: 32px;\n",
              "    }\n",
              "\n",
              "    .colab-df-convert:hover {\n",
              "      background-color: #E2EBFA;\n",
              "      box-shadow: 0px 1px 2px rgba(60, 64, 67, 0.3), 0px 1px 3px 1px rgba(60, 64, 67, 0.15);\n",
              "      fill: #174EA6;\n",
              "    }\n",
              "\n",
              "    .colab-df-buttons div {\n",
              "      margin-bottom: 4px;\n",
              "    }\n",
              "\n",
              "    [theme=dark] .colab-df-convert {\n",
              "      background-color: #3B4455;\n",
              "      fill: #D2E3FC;\n",
              "    }\n",
              "\n",
              "    [theme=dark] .colab-df-convert:hover {\n",
              "      background-color: #434B5C;\n",
              "      box-shadow: 0px 1px 3px 1px rgba(0, 0, 0, 0.15);\n",
              "      filter: drop-shadow(0px 1px 2px rgba(0, 0, 0, 0.3));\n",
              "      fill: #FFFFFF;\n",
              "    }\n",
              "  </style>\n",
              "\n",
              "    <script>\n",
              "      const buttonEl =\n",
              "        document.querySelector('#df-27e593f0-5a4c-4c24-9eb9-37060a786630 button.colab-df-convert');\n",
              "      buttonEl.style.display =\n",
              "        google.colab.kernel.accessAllowed ? 'block' : 'none';\n",
              "\n",
              "      async function convertToInteractive(key) {\n",
              "        const element = document.querySelector('#df-27e593f0-5a4c-4c24-9eb9-37060a786630');\n",
              "        const dataTable =\n",
              "          await google.colab.kernel.invokeFunction('convertToInteractive',\n",
              "                                                    [key], {});\n",
              "        if (!dataTable) return;\n",
              "\n",
              "        const docLinkHtml = 'Like what you see? Visit the ' +\n",
              "          '<a target=\"_blank\" href=https://colab.research.google.com/notebooks/data_table.ipynb>data table notebook</a>'\n",
              "          + ' to learn more about interactive tables.';\n",
              "        element.innerHTML = '';\n",
              "        dataTable['output_type'] = 'display_data';\n",
              "        await google.colab.output.renderOutput(dataTable, element);\n",
              "        const docLink = document.createElement('div');\n",
              "        docLink.innerHTML = docLinkHtml;\n",
              "        element.appendChild(docLink);\n",
              "      }\n",
              "    </script>\n",
              "  </div>\n",
              "\n",
              "\n",
              "<div id=\"df-6fb9894c-ec61-4437-94a7-13ed55ca0b01\">\n",
              "  <button class=\"colab-df-quickchart\" onclick=\"quickchart('df-6fb9894c-ec61-4437-94a7-13ed55ca0b01')\"\n",
              "            title=\"Suggest charts\"\n",
              "            style=\"display:none;\">\n",
              "\n",
              "<svg xmlns=\"http://www.w3.org/2000/svg\" height=\"24px\"viewBox=\"0 0 24 24\"\n",
              "     width=\"24px\">\n",
              "    <g>\n",
              "        <path d=\"M19 3H5c-1.1 0-2 .9-2 2v14c0 1.1.9 2 2 2h14c1.1 0 2-.9 2-2V5c0-1.1-.9-2-2-2zM9 17H7v-7h2v7zm4 0h-2V7h2v10zm4 0h-2v-4h2v4z\"/>\n",
              "    </g>\n",
              "</svg>\n",
              "  </button>\n",
              "\n",
              "<style>\n",
              "  .colab-df-quickchart {\n",
              "      --bg-color: #E8F0FE;\n",
              "      --fill-color: #1967D2;\n",
              "      --hover-bg-color: #E2EBFA;\n",
              "      --hover-fill-color: #174EA6;\n",
              "      --disabled-fill-color: #AAA;\n",
              "      --disabled-bg-color: #DDD;\n",
              "  }\n",
              "\n",
              "  [theme=dark] .colab-df-quickchart {\n",
              "      --bg-color: #3B4455;\n",
              "      --fill-color: #D2E3FC;\n",
              "      --hover-bg-color: #434B5C;\n",
              "      --hover-fill-color: #FFFFFF;\n",
              "      --disabled-bg-color: #3B4455;\n",
              "      --disabled-fill-color: #666;\n",
              "  }\n",
              "\n",
              "  .colab-df-quickchart {\n",
              "    background-color: var(--bg-color);\n",
              "    border: none;\n",
              "    border-radius: 50%;\n",
              "    cursor: pointer;\n",
              "    display: none;\n",
              "    fill: var(--fill-color);\n",
              "    height: 32px;\n",
              "    padding: 0;\n",
              "    width: 32px;\n",
              "  }\n",
              "\n",
              "  .colab-df-quickchart:hover {\n",
              "    background-color: var(--hover-bg-color);\n",
              "    box-shadow: 0 1px 2px rgba(60, 64, 67, 0.3), 0 1px 3px 1px rgba(60, 64, 67, 0.15);\n",
              "    fill: var(--button-hover-fill-color);\n",
              "  }\n",
              "\n",
              "  .colab-df-quickchart-complete:disabled,\n",
              "  .colab-df-quickchart-complete:disabled:hover {\n",
              "    background-color: var(--disabled-bg-color);\n",
              "    fill: var(--disabled-fill-color);\n",
              "    box-shadow: none;\n",
              "  }\n",
              "\n",
              "  .colab-df-spinner {\n",
              "    border: 2px solid var(--fill-color);\n",
              "    border-color: transparent;\n",
              "    border-bottom-color: var(--fill-color);\n",
              "    animation:\n",
              "      spin 1s steps(1) infinite;\n",
              "  }\n",
              "\n",
              "  @keyframes spin {\n",
              "    0% {\n",
              "      border-color: transparent;\n",
              "      border-bottom-color: var(--fill-color);\n",
              "      border-left-color: var(--fill-color);\n",
              "    }\n",
              "    20% {\n",
              "      border-color: transparent;\n",
              "      border-left-color: var(--fill-color);\n",
              "      border-top-color: var(--fill-color);\n",
              "    }\n",
              "    30% {\n",
              "      border-color: transparent;\n",
              "      border-left-color: var(--fill-color);\n",
              "      border-top-color: var(--fill-color);\n",
              "      border-right-color: var(--fill-color);\n",
              "    }\n",
              "    40% {\n",
              "      border-color: transparent;\n",
              "      border-right-color: var(--fill-color);\n",
              "      border-top-color: var(--fill-color);\n",
              "    }\n",
              "    60% {\n",
              "      border-color: transparent;\n",
              "      border-right-color: var(--fill-color);\n",
              "    }\n",
              "    80% {\n",
              "      border-color: transparent;\n",
              "      border-right-color: var(--fill-color);\n",
              "      border-bottom-color: var(--fill-color);\n",
              "    }\n",
              "    90% {\n",
              "      border-color: transparent;\n",
              "      border-bottom-color: var(--fill-color);\n",
              "    }\n",
              "  }\n",
              "</style>\n",
              "\n",
              "  <script>\n",
              "    async function quickchart(key) {\n",
              "      const quickchartButtonEl =\n",
              "        document.querySelector('#' + key + ' button');\n",
              "      quickchartButtonEl.disabled = true;  // To prevent multiple clicks.\n",
              "      quickchartButtonEl.classList.add('colab-df-spinner');\n",
              "      try {\n",
              "        const charts = await google.colab.kernel.invokeFunction(\n",
              "            'suggestCharts', [key], {});\n",
              "      } catch (error) {\n",
              "        console.error('Error during call to suggestCharts:', error);\n",
              "      }\n",
              "      quickchartButtonEl.classList.remove('colab-df-spinner');\n",
              "      quickchartButtonEl.classList.add('colab-df-quickchart-complete');\n",
              "    }\n",
              "    (() => {\n",
              "      let quickchartButtonEl =\n",
              "        document.querySelector('#df-6fb9894c-ec61-4437-94a7-13ed55ca0b01 button');\n",
              "      quickchartButtonEl.style.display =\n",
              "        google.colab.kernel.accessAllowed ? 'block' : 'none';\n",
              "    })();\n",
              "  </script>\n",
              "</div>\n",
              "\n",
              "  <div id=\"id_b7194bd6-b4f1-40cd-bc17-ae7a1a844ca0\">\n",
              "    <style>\n",
              "      .colab-df-generate {\n",
              "        background-color: #E8F0FE;\n",
              "        border: none;\n",
              "        border-radius: 50%;\n",
              "        cursor: pointer;\n",
              "        display: none;\n",
              "        fill: #1967D2;\n",
              "        height: 32px;\n",
              "        padding: 0 0 0 0;\n",
              "        width: 32px;\n",
              "      }\n",
              "\n",
              "      .colab-df-generate:hover {\n",
              "        background-color: #E2EBFA;\n",
              "        box-shadow: 0px 1px 2px rgba(60, 64, 67, 0.3), 0px 1px 3px 1px rgba(60, 64, 67, 0.15);\n",
              "        fill: #174EA6;\n",
              "      }\n",
              "\n",
              "      [theme=dark] .colab-df-generate {\n",
              "        background-color: #3B4455;\n",
              "        fill: #D2E3FC;\n",
              "      }\n",
              "\n",
              "      [theme=dark] .colab-df-generate:hover {\n",
              "        background-color: #434B5C;\n",
              "        box-shadow: 0px 1px 3px 1px rgba(0, 0, 0, 0.15);\n",
              "        filter: drop-shadow(0px 1px 2px rgba(0, 0, 0, 0.3));\n",
              "        fill: #FFFFFF;\n",
              "      }\n",
              "    </style>\n",
              "    <button class=\"colab-df-generate\" onclick=\"generateWithVariable('positive_Df')\"\n",
              "            title=\"Generate code using this dataframe.\"\n",
              "            style=\"display:none;\">\n",
              "\n",
              "  <svg xmlns=\"http://www.w3.org/2000/svg\" height=\"24px\"viewBox=\"0 0 24 24\"\n",
              "       width=\"24px\">\n",
              "    <path d=\"M7,19H8.4L18.45,9,17,7.55,7,17.6ZM5,21V16.75L18.45,3.32a2,2,0,0,1,2.83,0l1.4,1.43a1.91,1.91,0,0,1,.58,1.4,1.91,1.91,0,0,1-.58,1.4L9.25,21ZM18.45,9,17,7.55Zm-12,3A5.31,5.31,0,0,0,4.9,8.1,5.31,5.31,0,0,0,1,6.5,5.31,5.31,0,0,0,4.9,4.9,5.31,5.31,0,0,0,6.5,1,5.31,5.31,0,0,0,8.1,4.9,5.31,5.31,0,0,0,12,6.5,5.46,5.46,0,0,0,6.5,12Z\"/>\n",
              "  </svg>\n",
              "    </button>\n",
              "    <script>\n",
              "      (() => {\n",
              "      const buttonEl =\n",
              "        document.querySelector('#id_b7194bd6-b4f1-40cd-bc17-ae7a1a844ca0 button.colab-df-generate');\n",
              "      buttonEl.style.display =\n",
              "        google.colab.kernel.accessAllowed ? 'block' : 'none';\n",
              "\n",
              "      buttonEl.onclick = () => {\n",
              "        google.colab.notebook.generateWithVariable('positive_Df');\n",
              "      }\n",
              "      })();\n",
              "    </script>\n",
              "  </div>\n",
              "\n",
              "    </div>\n",
              "  </div>\n"
            ],
            "application/vnd.google.colaboratory.intrinsic+json": {
              "type": "dataframe",
              "variable_name": "positive_Df",
              "summary": "{\n  \"name\": \"positive_Df\",\n  \"rows\": 2893,\n  \"fields\": [\n    {\n      \"column\": \"rating\",\n      \"properties\": {\n        \"dtype\": \"number\",\n        \"std\": 0,\n        \"min\": 3,\n        \"max\": 5,\n        \"num_unique_values\": 3,\n        \"samples\": [\n          5,\n          4,\n          3\n        ],\n        \"semantic_type\": \"\",\n        \"description\": \"\"\n      }\n    },\n    {\n      \"column\": \"date\",\n      \"properties\": {\n        \"dtype\": \"object\",\n        \"num_unique_values\": 76,\n        \"samples\": [\n          \"27-Jul-18\",\n          \"25-Jun-18\",\n          \"21-Jul-18\"\n        ],\n        \"semantic_type\": \"\",\n        \"description\": \"\"\n      }\n    },\n    {\n      \"column\": \"variation\",\n      \"properties\": {\n        \"dtype\": \"category\",\n        \"num_unique_values\": 16,\n        \"samples\": [\n          \"Charcoal Fabric \",\n          \"Walnut Finish \",\n          \"Black\"\n        ],\n        \"semantic_type\": \"\",\n        \"description\": \"\"\n      }\n    },\n    {\n      \"column\": \"verified_reviews\",\n      \"properties\": {\n        \"dtype\": \"string\",\n        \"num_unique_values\": 2095,\n        \"samples\": [\n          \"Works perfectly\",\n          \"It is awesome. I love being able to turn my lights on so I don\\u2019t have to walk into a dark home. I also get to video chat with my nephews who live states away by just asking Alexa to call.\",\n          \"Clear screen and great picture\"\n        ],\n        \"semantic_type\": \"\",\n        \"description\": \"\"\n      }\n    },\n    {\n      \"column\": \"feedback\",\n      \"properties\": {\n        \"dtype\": \"number\",\n        \"std\": 0,\n        \"min\": 1,\n        \"max\": 1,\n        \"num_unique_values\": 1,\n        \"samples\": [\n          1\n        ],\n        \"semantic_type\": \"\",\n        \"description\": \"\"\n      }\n    },\n    {\n      \"column\": \"length\",\n      \"properties\": {\n        \"dtype\": \"number\",\n        \"std\": 174,\n        \"min\": 1,\n        \"max\": 2851,\n        \"num_unique_values\": 456,\n        \"samples\": [\n          1311\n        ],\n        \"semantic_type\": \"\",\n        \"description\": \"\"\n      }\n    }\n  ]\n}"
            }
          },
          "metadata": {},
          "execution_count": 18
        }
      ]
    },
    {
      "cell_type": "markdown",
      "source": [
        "* Obtain only negative reviews\n",
        "\n",
        "---\n",
        "\n"
      ],
      "metadata": {
        "id": "GKVwR0aTTNd5"
      }
    },
    {
      "cell_type": "code",
      "source": [
        "negative_Df = dff[dff[\"feedback\"] == 0]\n",
        "negative_Df"
      ],
      "metadata": {
        "id": "SGYJ9OaSJbOJ",
        "colab": {
          "base_uri": "https://localhost:8080/",
          "height": 419
        },
        "outputId": "566e7108-71f6-465a-bba4-bc066807bb2f"
      },
      "execution_count": null,
      "outputs": [
        {
          "output_type": "execute_result",
          "data": {
            "text/plain": [
              "      rating       date             variation  \\\n",
              "46         2  30-Jul-18      Charcoal Fabric    \n",
              "111        2  30-Jul-18      Charcoal Fabric    \n",
              "141        1  30-Jul-18      Charcoal Fabric    \n",
              "162        1  30-Jul-18     Sandstone Fabric    \n",
              "176        2  30-Jul-18  Heather Gray Fabric    \n",
              "...      ...        ...                   ...   \n",
              "3047       1  30-Jul-18            Black  Dot   \n",
              "3048       1  30-Jul-18            White  Dot   \n",
              "3067       2  30-Jul-18            Black  Dot   \n",
              "3091       1  30-Jul-18            Black  Dot   \n",
              "3096       1  30-Jul-18            White  Dot   \n",
              "\n",
              "                                       verified_reviews  feedback  length  \n",
              "46    It's like Siri, in fact, Siri answers more acc...         0     163  \n",
              "111   Sound is terrible if u want good music too get...         0      53  \n",
              "141                                  Not much features.         0      18  \n",
              "162   Stopped working after 2 weeks ,didn't follow c...         0      87  \n",
              "176                                Sad joke. Worthless.         0      20  \n",
              "...                                                 ...       ...     ...  \n",
              "3047  Echo Dot responds to us when we aren't even ta...         0     120  \n",
              "3048              NOT CONNECTED TO MY PHONE PLAYLIST :(         0      37  \n",
              "3067  The only negative we have on this product is t...         0     240  \n",
              "3091                                  I didn’t order it         0      17  \n",
              "3096  The product sounded the same as the emoji spea...         0     210  \n",
              "\n",
              "[257 rows x 6 columns]"
            ],
            "text/html": [
              "\n",
              "  <div id=\"df-f1991598-63b9-4052-b6f5-ccac02aaf550\" class=\"colab-df-container\">\n",
              "    <div>\n",
              "<style scoped>\n",
              "    .dataframe tbody tr th:only-of-type {\n",
              "        vertical-align: middle;\n",
              "    }\n",
              "\n",
              "    .dataframe tbody tr th {\n",
              "        vertical-align: top;\n",
              "    }\n",
              "\n",
              "    .dataframe thead th {\n",
              "        text-align: right;\n",
              "    }\n",
              "</style>\n",
              "<table border=\"1\" class=\"dataframe\">\n",
              "  <thead>\n",
              "    <tr style=\"text-align: right;\">\n",
              "      <th></th>\n",
              "      <th>rating</th>\n",
              "      <th>date</th>\n",
              "      <th>variation</th>\n",
              "      <th>verified_reviews</th>\n",
              "      <th>feedback</th>\n",
              "      <th>length</th>\n",
              "    </tr>\n",
              "  </thead>\n",
              "  <tbody>\n",
              "    <tr>\n",
              "      <th>46</th>\n",
              "      <td>2</td>\n",
              "      <td>30-Jul-18</td>\n",
              "      <td>Charcoal Fabric</td>\n",
              "      <td>It's like Siri, in fact, Siri answers more acc...</td>\n",
              "      <td>0</td>\n",
              "      <td>163</td>\n",
              "    </tr>\n",
              "    <tr>\n",
              "      <th>111</th>\n",
              "      <td>2</td>\n",
              "      <td>30-Jul-18</td>\n",
              "      <td>Charcoal Fabric</td>\n",
              "      <td>Sound is terrible if u want good music too get...</td>\n",
              "      <td>0</td>\n",
              "      <td>53</td>\n",
              "    </tr>\n",
              "    <tr>\n",
              "      <th>141</th>\n",
              "      <td>1</td>\n",
              "      <td>30-Jul-18</td>\n",
              "      <td>Charcoal Fabric</td>\n",
              "      <td>Not much features.</td>\n",
              "      <td>0</td>\n",
              "      <td>18</td>\n",
              "    </tr>\n",
              "    <tr>\n",
              "      <th>162</th>\n",
              "      <td>1</td>\n",
              "      <td>30-Jul-18</td>\n",
              "      <td>Sandstone Fabric</td>\n",
              "      <td>Stopped working after 2 weeks ,didn't follow c...</td>\n",
              "      <td>0</td>\n",
              "      <td>87</td>\n",
              "    </tr>\n",
              "    <tr>\n",
              "      <th>176</th>\n",
              "      <td>2</td>\n",
              "      <td>30-Jul-18</td>\n",
              "      <td>Heather Gray Fabric</td>\n",
              "      <td>Sad joke. Worthless.</td>\n",
              "      <td>0</td>\n",
              "      <td>20</td>\n",
              "    </tr>\n",
              "    <tr>\n",
              "      <th>...</th>\n",
              "      <td>...</td>\n",
              "      <td>...</td>\n",
              "      <td>...</td>\n",
              "      <td>...</td>\n",
              "      <td>...</td>\n",
              "      <td>...</td>\n",
              "    </tr>\n",
              "    <tr>\n",
              "      <th>3047</th>\n",
              "      <td>1</td>\n",
              "      <td>30-Jul-18</td>\n",
              "      <td>Black  Dot</td>\n",
              "      <td>Echo Dot responds to us when we aren't even ta...</td>\n",
              "      <td>0</td>\n",
              "      <td>120</td>\n",
              "    </tr>\n",
              "    <tr>\n",
              "      <th>3048</th>\n",
              "      <td>1</td>\n",
              "      <td>30-Jul-18</td>\n",
              "      <td>White  Dot</td>\n",
              "      <td>NOT CONNECTED TO MY PHONE PLAYLIST :(</td>\n",
              "      <td>0</td>\n",
              "      <td>37</td>\n",
              "    </tr>\n",
              "    <tr>\n",
              "      <th>3067</th>\n",
              "      <td>2</td>\n",
              "      <td>30-Jul-18</td>\n",
              "      <td>Black  Dot</td>\n",
              "      <td>The only negative we have on this product is t...</td>\n",
              "      <td>0</td>\n",
              "      <td>240</td>\n",
              "    </tr>\n",
              "    <tr>\n",
              "      <th>3091</th>\n",
              "      <td>1</td>\n",
              "      <td>30-Jul-18</td>\n",
              "      <td>Black  Dot</td>\n",
              "      <td>I didn’t order it</td>\n",
              "      <td>0</td>\n",
              "      <td>17</td>\n",
              "    </tr>\n",
              "    <tr>\n",
              "      <th>3096</th>\n",
              "      <td>1</td>\n",
              "      <td>30-Jul-18</td>\n",
              "      <td>White  Dot</td>\n",
              "      <td>The product sounded the same as the emoji spea...</td>\n",
              "      <td>0</td>\n",
              "      <td>210</td>\n",
              "    </tr>\n",
              "  </tbody>\n",
              "</table>\n",
              "<p>257 rows × 6 columns</p>\n",
              "</div>\n",
              "    <div class=\"colab-df-buttons\">\n",
              "\n",
              "  <div class=\"colab-df-container\">\n",
              "    <button class=\"colab-df-convert\" onclick=\"convertToInteractive('df-f1991598-63b9-4052-b6f5-ccac02aaf550')\"\n",
              "            title=\"Convert this dataframe to an interactive table.\"\n",
              "            style=\"display:none;\">\n",
              "\n",
              "  <svg xmlns=\"http://www.w3.org/2000/svg\" height=\"24px\" viewBox=\"0 -960 960 960\">\n",
              "    <path d=\"M120-120v-720h720v720H120Zm60-500h600v-160H180v160Zm220 220h160v-160H400v160Zm0 220h160v-160H400v160ZM180-400h160v-160H180v160Zm440 0h160v-160H620v160ZM180-180h160v-160H180v160Zm440 0h160v-160H620v160Z\"/>\n",
              "  </svg>\n",
              "    </button>\n",
              "\n",
              "  <style>\n",
              "    .colab-df-container {\n",
              "      display:flex;\n",
              "      gap: 12px;\n",
              "    }\n",
              "\n",
              "    .colab-df-convert {\n",
              "      background-color: #E8F0FE;\n",
              "      border: none;\n",
              "      border-radius: 50%;\n",
              "      cursor: pointer;\n",
              "      display: none;\n",
              "      fill: #1967D2;\n",
              "      height: 32px;\n",
              "      padding: 0 0 0 0;\n",
              "      width: 32px;\n",
              "    }\n",
              "\n",
              "    .colab-df-convert:hover {\n",
              "      background-color: #E2EBFA;\n",
              "      box-shadow: 0px 1px 2px rgba(60, 64, 67, 0.3), 0px 1px 3px 1px rgba(60, 64, 67, 0.15);\n",
              "      fill: #174EA6;\n",
              "    }\n",
              "\n",
              "    .colab-df-buttons div {\n",
              "      margin-bottom: 4px;\n",
              "    }\n",
              "\n",
              "    [theme=dark] .colab-df-convert {\n",
              "      background-color: #3B4455;\n",
              "      fill: #D2E3FC;\n",
              "    }\n",
              "\n",
              "    [theme=dark] .colab-df-convert:hover {\n",
              "      background-color: #434B5C;\n",
              "      box-shadow: 0px 1px 3px 1px rgba(0, 0, 0, 0.15);\n",
              "      filter: drop-shadow(0px 1px 2px rgba(0, 0, 0, 0.3));\n",
              "      fill: #FFFFFF;\n",
              "    }\n",
              "  </style>\n",
              "\n",
              "    <script>\n",
              "      const buttonEl =\n",
              "        document.querySelector('#df-f1991598-63b9-4052-b6f5-ccac02aaf550 button.colab-df-convert');\n",
              "      buttonEl.style.display =\n",
              "        google.colab.kernel.accessAllowed ? 'block' : 'none';\n",
              "\n",
              "      async function convertToInteractive(key) {\n",
              "        const element = document.querySelector('#df-f1991598-63b9-4052-b6f5-ccac02aaf550');\n",
              "        const dataTable =\n",
              "          await google.colab.kernel.invokeFunction('convertToInteractive',\n",
              "                                                    [key], {});\n",
              "        if (!dataTable) return;\n",
              "\n",
              "        const docLinkHtml = 'Like what you see? Visit the ' +\n",
              "          '<a target=\"_blank\" href=https://colab.research.google.com/notebooks/data_table.ipynb>data table notebook</a>'\n",
              "          + ' to learn more about interactive tables.';\n",
              "        element.innerHTML = '';\n",
              "        dataTable['output_type'] = 'display_data';\n",
              "        await google.colab.output.renderOutput(dataTable, element);\n",
              "        const docLink = document.createElement('div');\n",
              "        docLink.innerHTML = docLinkHtml;\n",
              "        element.appendChild(docLink);\n",
              "      }\n",
              "    </script>\n",
              "  </div>\n",
              "\n",
              "\n",
              "<div id=\"df-18eb4176-96f7-4e1f-9487-318565135be2\">\n",
              "  <button class=\"colab-df-quickchart\" onclick=\"quickchart('df-18eb4176-96f7-4e1f-9487-318565135be2')\"\n",
              "            title=\"Suggest charts\"\n",
              "            style=\"display:none;\">\n",
              "\n",
              "<svg xmlns=\"http://www.w3.org/2000/svg\" height=\"24px\"viewBox=\"0 0 24 24\"\n",
              "     width=\"24px\">\n",
              "    <g>\n",
              "        <path d=\"M19 3H5c-1.1 0-2 .9-2 2v14c0 1.1.9 2 2 2h14c1.1 0 2-.9 2-2V5c0-1.1-.9-2-2-2zM9 17H7v-7h2v7zm4 0h-2V7h2v10zm4 0h-2v-4h2v4z\"/>\n",
              "    </g>\n",
              "</svg>\n",
              "  </button>\n",
              "\n",
              "<style>\n",
              "  .colab-df-quickchart {\n",
              "      --bg-color: #E8F0FE;\n",
              "      --fill-color: #1967D2;\n",
              "      --hover-bg-color: #E2EBFA;\n",
              "      --hover-fill-color: #174EA6;\n",
              "      --disabled-fill-color: #AAA;\n",
              "      --disabled-bg-color: #DDD;\n",
              "  }\n",
              "\n",
              "  [theme=dark] .colab-df-quickchart {\n",
              "      --bg-color: #3B4455;\n",
              "      --fill-color: #D2E3FC;\n",
              "      --hover-bg-color: #434B5C;\n",
              "      --hover-fill-color: #FFFFFF;\n",
              "      --disabled-bg-color: #3B4455;\n",
              "      --disabled-fill-color: #666;\n",
              "  }\n",
              "\n",
              "  .colab-df-quickchart {\n",
              "    background-color: var(--bg-color);\n",
              "    border: none;\n",
              "    border-radius: 50%;\n",
              "    cursor: pointer;\n",
              "    display: none;\n",
              "    fill: var(--fill-color);\n",
              "    height: 32px;\n",
              "    padding: 0;\n",
              "    width: 32px;\n",
              "  }\n",
              "\n",
              "  .colab-df-quickchart:hover {\n",
              "    background-color: var(--hover-bg-color);\n",
              "    box-shadow: 0 1px 2px rgba(60, 64, 67, 0.3), 0 1px 3px 1px rgba(60, 64, 67, 0.15);\n",
              "    fill: var(--button-hover-fill-color);\n",
              "  }\n",
              "\n",
              "  .colab-df-quickchart-complete:disabled,\n",
              "  .colab-df-quickchart-complete:disabled:hover {\n",
              "    background-color: var(--disabled-bg-color);\n",
              "    fill: var(--disabled-fill-color);\n",
              "    box-shadow: none;\n",
              "  }\n",
              "\n",
              "  .colab-df-spinner {\n",
              "    border: 2px solid var(--fill-color);\n",
              "    border-color: transparent;\n",
              "    border-bottom-color: var(--fill-color);\n",
              "    animation:\n",
              "      spin 1s steps(1) infinite;\n",
              "  }\n",
              "\n",
              "  @keyframes spin {\n",
              "    0% {\n",
              "      border-color: transparent;\n",
              "      border-bottom-color: var(--fill-color);\n",
              "      border-left-color: var(--fill-color);\n",
              "    }\n",
              "    20% {\n",
              "      border-color: transparent;\n",
              "      border-left-color: var(--fill-color);\n",
              "      border-top-color: var(--fill-color);\n",
              "    }\n",
              "    30% {\n",
              "      border-color: transparent;\n",
              "      border-left-color: var(--fill-color);\n",
              "      border-top-color: var(--fill-color);\n",
              "      border-right-color: var(--fill-color);\n",
              "    }\n",
              "    40% {\n",
              "      border-color: transparent;\n",
              "      border-right-color: var(--fill-color);\n",
              "      border-top-color: var(--fill-color);\n",
              "    }\n",
              "    60% {\n",
              "      border-color: transparent;\n",
              "      border-right-color: var(--fill-color);\n",
              "    }\n",
              "    80% {\n",
              "      border-color: transparent;\n",
              "      border-right-color: var(--fill-color);\n",
              "      border-bottom-color: var(--fill-color);\n",
              "    }\n",
              "    90% {\n",
              "      border-color: transparent;\n",
              "      border-bottom-color: var(--fill-color);\n",
              "    }\n",
              "  }\n",
              "</style>\n",
              "\n",
              "  <script>\n",
              "    async function quickchart(key) {\n",
              "      const quickchartButtonEl =\n",
              "        document.querySelector('#' + key + ' button');\n",
              "      quickchartButtonEl.disabled = true;  // To prevent multiple clicks.\n",
              "      quickchartButtonEl.classList.add('colab-df-spinner');\n",
              "      try {\n",
              "        const charts = await google.colab.kernel.invokeFunction(\n",
              "            'suggestCharts', [key], {});\n",
              "      } catch (error) {\n",
              "        console.error('Error during call to suggestCharts:', error);\n",
              "      }\n",
              "      quickchartButtonEl.classList.remove('colab-df-spinner');\n",
              "      quickchartButtonEl.classList.add('colab-df-quickchart-complete');\n",
              "    }\n",
              "    (() => {\n",
              "      let quickchartButtonEl =\n",
              "        document.querySelector('#df-18eb4176-96f7-4e1f-9487-318565135be2 button');\n",
              "      quickchartButtonEl.style.display =\n",
              "        google.colab.kernel.accessAllowed ? 'block' : 'none';\n",
              "    })();\n",
              "  </script>\n",
              "</div>\n",
              "\n",
              "  <div id=\"id_e79c200c-37e3-469b-8b69-07c2b9914625\">\n",
              "    <style>\n",
              "      .colab-df-generate {\n",
              "        background-color: #E8F0FE;\n",
              "        border: none;\n",
              "        border-radius: 50%;\n",
              "        cursor: pointer;\n",
              "        display: none;\n",
              "        fill: #1967D2;\n",
              "        height: 32px;\n",
              "        padding: 0 0 0 0;\n",
              "        width: 32px;\n",
              "      }\n",
              "\n",
              "      .colab-df-generate:hover {\n",
              "        background-color: #E2EBFA;\n",
              "        box-shadow: 0px 1px 2px rgba(60, 64, 67, 0.3), 0px 1px 3px 1px rgba(60, 64, 67, 0.15);\n",
              "        fill: #174EA6;\n",
              "      }\n",
              "\n",
              "      [theme=dark] .colab-df-generate {\n",
              "        background-color: #3B4455;\n",
              "        fill: #D2E3FC;\n",
              "      }\n",
              "\n",
              "      [theme=dark] .colab-df-generate:hover {\n",
              "        background-color: #434B5C;\n",
              "        box-shadow: 0px 1px 3px 1px rgba(0, 0, 0, 0.15);\n",
              "        filter: drop-shadow(0px 1px 2px rgba(0, 0, 0, 0.3));\n",
              "        fill: #FFFFFF;\n",
              "      }\n",
              "    </style>\n",
              "    <button class=\"colab-df-generate\" onclick=\"generateWithVariable('negative_Df')\"\n",
              "            title=\"Generate code using this dataframe.\"\n",
              "            style=\"display:none;\">\n",
              "\n",
              "  <svg xmlns=\"http://www.w3.org/2000/svg\" height=\"24px\"viewBox=\"0 0 24 24\"\n",
              "       width=\"24px\">\n",
              "    <path d=\"M7,19H8.4L18.45,9,17,7.55,7,17.6ZM5,21V16.75L18.45,3.32a2,2,0,0,1,2.83,0l1.4,1.43a1.91,1.91,0,0,1,.58,1.4,1.91,1.91,0,0,1-.58,1.4L9.25,21ZM18.45,9,17,7.55Zm-12,3A5.31,5.31,0,0,0,4.9,8.1,5.31,5.31,0,0,0,1,6.5,5.31,5.31,0,0,0,4.9,4.9,5.31,5.31,0,0,0,6.5,1,5.31,5.31,0,0,0,8.1,4.9,5.31,5.31,0,0,0,12,6.5,5.46,5.46,0,0,0,6.5,12Z\"/>\n",
              "  </svg>\n",
              "    </button>\n",
              "    <script>\n",
              "      (() => {\n",
              "      const buttonEl =\n",
              "        document.querySelector('#id_e79c200c-37e3-469b-8b69-07c2b9914625 button.colab-df-generate');\n",
              "      buttonEl.style.display =\n",
              "        google.colab.kernel.accessAllowed ? 'block' : 'none';\n",
              "\n",
              "      buttonEl.onclick = () => {\n",
              "        google.colab.notebook.generateWithVariable('negative_Df');\n",
              "      }\n",
              "      })();\n",
              "    </script>\n",
              "  </div>\n",
              "\n",
              "    </div>\n",
              "  </div>\n"
            ],
            "application/vnd.google.colaboratory.intrinsic+json": {
              "type": "dataframe",
              "variable_name": "negative_Df",
              "repr_error": "0"
            }
          },
          "metadata": {},
          "execution_count": 19
        }
      ]
    },
    {
      "cell_type": "markdown",
      "source": [
        "# **Add all the reviews to a list**"
      ],
      "metadata": {
        "id": "wSQoUzXGTlAa"
      }
    },
    {
      "cell_type": "code",
      "source": [
        "sentence = positive_Df[\"verified_reviews\"].tolist()\n",
        "len(sentence)"
      ],
      "metadata": {
        "colab": {
          "base_uri": "https://localhost:8080/"
        },
        "id": "irJ-wZnpTgBZ",
        "outputId": "aa569991-52ed-4ddd-fc48-afc61c88e5a7"
      },
      "execution_count": null,
      "outputs": [
        {
          "output_type": "execute_result",
          "data": {
            "text/plain": [
              "2893"
            ]
          },
          "metadata": {},
          "execution_count": 20
        }
      ]
    },
    {
      "cell_type": "markdown",
      "source": [
        "## **Join all the reviews into a single Large string**"
      ],
      "metadata": {
        "id": "t9B3ZcRZUHlh"
      }
    },
    {
      "cell_type": "code",
      "source": [
        "one_Sent_string = \" \".join(sentence)\n",
        "len(one_Sent_string)"
      ],
      "metadata": {
        "colab": {
          "base_uri": "https://localhost:8080/"
        },
        "id": "Eyjxtil4Tf8c",
        "outputId": "8c91bd83-3e47-4118-fee9-14258a6d022e"
      },
      "execution_count": null,
      "outputs": [
        {
          "output_type": "execute_result",
          "data": {
            "text/plain": [
              "363531"
            ]
          },
          "metadata": {},
          "execution_count": 21
        }
      ]
    },
    {
      "cell_type": "markdown",
      "source": [
        "## **Ploting the +ve world Cloud**"
      ],
      "metadata": {
        "id": "hrZk9vEQVmwQ"
      }
    },
    {
      "cell_type": "code",
      "source": [
        "# print Positive wordcloud\n",
        "\n",
        "from wordcloud import WordCloud\n",
        "plt.figure(figsize = (20,20))\n",
        "plt.imshow(WordCloud().generate(one_Sent_string))"
      ],
      "metadata": {
        "colab": {
          "base_uri": "https://localhost:8080/",
          "height": 557
        },
        "id": "xS_SthlgUGsL",
        "outputId": "916c3efd-fed1-453c-feaf-033f8304796b"
      },
      "execution_count": null,
      "outputs": [
        {
          "output_type": "execute_result",
          "data": {
            "text/plain": [
              "<matplotlib.image.AxesImage at 0x7f05ae9ca470>"
            ]
          },
          "metadata": {},
          "execution_count": 22
        },
        {
          "output_type": "display_data",
          "data": {
            "text/plain": [
              "<Figure size 2000x2000 with 1 Axes>"
            ],
            "image/png": "[encoded data removed]"
          },
          "metadata": {}
        }
      ]
    },
    {
      "cell_type": "markdown",
      "source": [
        "## **Ploting the -ve world Cloud**"
      ],
      "metadata": {
        "id": "0tSevSNNVpeN"
      }
    },
    {
      "cell_type": "code",
      "source": [
        "state = negative_Df[\"verified_reviews\"].tolist()\n",
        "len(state)"
      ],
      "metadata": {
        "colab": {
          "base_uri": "https://localhost:8080/"
        },
        "id": "qjAUwgAJUGpl",
        "outputId": "455d9a08-56a8-49de-f395-dc99fb8ab52c"
      },
      "execution_count": null,
      "outputs": [
        {
          "output_type": "execute_result",
          "data": {
            "text/plain": [
              "257"
            ]
          },
          "metadata": {},
          "execution_count": 23
        }
      ]
    },
    {
      "cell_type": "code",
      "source": [
        "one_negative_state = \" \".join(negative_Df[\"verified_reviews\"])\n",
        "len(one_negative_state)"
      ],
      "metadata": {
        "colab": {
          "base_uri": "https://localhost:8080/"
        },
        "id": "LsLgSC4UUGnP",
        "outputId": "baadbd70-f46a-4cf2-853c-99c2ed189a94"
      },
      "execution_count": null,
      "outputs": [
        {
          "output_type": "execute_result",
          "data": {
            "text/plain": [
              "55573"
            ]
          },
          "metadata": {},
          "execution_count": 24
        }
      ]
    },
    {
      "cell_type": "code",
      "source": [
        "from wordcloud import WordCloud\n",
        "plt.figure(figsize = (20,20))\n",
        "plt.imshow(WordCloud().generate(one_negative_state))"
      ],
      "metadata": {
        "colab": {
          "base_uri": "https://localhost:8080/",
          "height": 557
        },
        "id": "csHmOL1hTf52",
        "outputId": "fbbc705f-c0f8-409f-b384-cd8e8d25f95a"
      },
      "execution_count": null,
      "outputs": [
        {
          "output_type": "execute_result",
          "data": {
            "text/plain": [
              "<matplotlib.image.AxesImage at 0x7f057374a1a0>"
            ]
          },
          "metadata": {},
          "execution_count": 25
        },
        {
          "output_type": "display_data",
          "data": {
            "text/plain": [
              "<Figure size 2000x2000 with 1 Axes>"
            ],
            "image/png": "[encoded data removed]"
          },
          "metadata": {}
        }
      ]
    },
    {
      "cell_type": "markdown",
      "source": [
        "# **TEXT CLEANING**\n",
        "\n",
        "\n",
        "\n",
        "\n",
        "\n",
        "---\n",
        "\n"
      ],
      "metadata": {
        "id": "Okpr_nrkWy5O"
      }
    },
    {
      "cell_type": "markdown",
      "source": [
        "# ![confusionMatrxiUpdated.jpg](data:image/jpeg;base64,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)\n",
        "---\n",
        "\n"
      ],
      "metadata": {
        "id": "GL_Lb8130y8M"
      }
    },
    {
      "cell_type": "markdown",
      "source": [
        "# **PRACTICE TASKS--------**\n",
        "\n",
        "---"
      ],
      "metadata": {
        "id": "VcfR3G1NzSzF"
      }
    },
    {
      "cell_type": "code",
      "source": [
        "import string\n",
        "string.punctuation"
      ],
      "metadata": {
        "colab": {
          "base_uri": "https://localhost:8080/",
          "height": 35
        },
        "id": "xKKBt4-AWzRA",
        "outputId": "24057e8e-d95f-4841-acbf-0acd3c2e2373"
      },
      "execution_count": null,
      "outputs": [
        {
          "output_type": "execute_result",
          "data": {
            "text/plain": [
              "'!\"#$%&\\'()*+,-./:;<=>?@[\\\\]^_`{|}~'"
            ],
            "application/vnd.google.colaboratory.intrinsic+json": {
              "type": "string"
            }
          },
          "metadata": {},
          "execution_count": 26
        }
      ]
    },
    {
      "cell_type": "code",
      "source": [
        "text = \"The sky $turned a fiery red as% the sun #dipped below the horizon; the stars began to twinkle, signaling the arrival of night.\""
      ],
      "metadata": {
        "id": "QxYoQCQ_W0HG"
      },
      "execution_count": null,
      "outputs": []
    },
    {
      "cell_type": "code",
      "source": [
        "test_punc_removed = [char  for char in text if char not in string.punctuation]\n",
        "test_punc_removed"
      ],
      "metadata": {
        "colab": {
          "base_uri": "https://localhost:8080/"
        },
        "id": "_PodwifeW0Ew",
        "outputId": "ae35da02-ac28-4c40-9247-83f88e83e7b1"
      },
      "execution_count": null,
      "outputs": [
        {
          "output_type": "execute_result",
          "data": {
            "text/plain": [
              "['T',\n",
              " 'h',\n",
              " 'e',\n",
              " ' ',\n",
              " 's',\n",
              " 'k',\n",
              " 'y',\n",
              " ' ',\n",
              " 't',\n",
              " 'u',\n",
              " 'r',\n",
              " 'n',\n",
              " 'e',\n",
              " 'd',\n",
              " ' ',\n",
              " 'a',\n",
              " ' ',\n",
              " 'f',\n",
              " 'i',\n",
              " 'e',\n",
              " 'r',\n",
              " 'y',\n",
              " ' ',\n",
              " 'r',\n",
              " 'e',\n",
              " 'd',\n",
              " ' ',\n",
              " 'a',\n",
              " 's',\n",
              " ' ',\n",
              " 't',\n",
              " 'h',\n",
              " 'e',\n",
              " ' ',\n",
              " 's',\n",
              " 'u',\n",
              " 'n',\n",
              " ' ',\n",
              " 'd',\n",
              " 'i',\n",
              " 'p',\n",
              " 'p',\n",
              " 'e',\n",
              " 'd',\n",
              " ' ',\n",
              " 'b',\n",
              " 'e',\n",
              " 'l',\n",
              " 'o',\n",
              " 'w',\n",
              " ' ',\n",
              " 't',\n",
              " 'h',\n",
              " 'e',\n",
              " ' ',\n",
              " 'h',\n",
              " 'o',\n",
              " 'r',\n",
              " 'i',\n",
              " 'z',\n",
              " 'o',\n",
              " 'n',\n",
              " ' ',\n",
              " 't',\n",
              " 'h',\n",
              " 'e',\n",
              " ' ',\n",
              " 's',\n",
              " 't',\n",
              " 'a',\n",
              " 'r',\n",
              " 's',\n",
              " ' ',\n",
              " 'b',\n",
              " 'e',\n",
              " 'g',\n",
              " 'a',\n",
              " 'n',\n",
              " ' ',\n",
              " 't',\n",
              " 'o',\n",
              " ' ',\n",
              " 't',\n",
              " 'w',\n",
              " 'i',\n",
              " 'n',\n",
              " 'k',\n",
              " 'l',\n",
              " 'e',\n",
              " ' ',\n",
              " 's',\n",
              " 'i',\n",
              " 'g',\n",
              " 'n',\n",
              " 'a',\n",
              " 'l',\n",
              " 'i',\n",
              " 'n',\n",
              " 'g',\n",
              " ' ',\n",
              " 't',\n",
              " 'h',\n",
              " 'e',\n",
              " ' ',\n",
              " 'a',\n",
              " 'r',\n",
              " 'r',\n",
              " 'i',\n",
              " 'v',\n",
              " 'a',\n",
              " 'l',\n",
              " ' ',\n",
              " 'o',\n",
              " 'f',\n",
              " ' ',\n",
              " 'n',\n",
              " 'i',\n",
              " 'g',\n",
              " 'h',\n",
              " 't']"
            ]
          },
          "metadata": {},
          "execution_count": 28
        }
      ]
    },
    {
      "cell_type": "code",
      "source": [
        "test_punc_removed_joined = \"\".join(test_punc_removed)\n",
        "print(\"original text was : \\n\" ,text)\n",
        "print(\"Now text is : \\n\" ,test_punc_removed_joined)\n"
      ],
      "metadata": {
        "colab": {
          "base_uri": "https://localhost:8080/"
        },
        "id": "nNEXwdKMWz_z",
        "outputId": "d5b4609c-423c-42fe-ac64-ed6318acff43"
      },
      "execution_count": null,
      "outputs": [
        {
          "output_type": "stream",
          "name": "stdout",
          "text": [
            "original text was : \n",
            " The sky $turned a fiery red as% the sun #dipped below the horizon; the stars began to twinkle, signaling the arrival of night.\n",
            "Now text is : \n",
            " The sky turned a fiery red as the sun dipped below the horizon the stars began to twinkle signaling the arrival of night\n"
          ]
        }
      ]
    },
    {
      "cell_type": "markdown",
      "source": [
        "# **NLTK  (Natural language tool kit)**"
      ],
      "metadata": {
        "id": "h-OCG8tr_gEK"
      }
    },
    {
      "cell_type": "code",
      "source": [
        "import nltk"
      ],
      "metadata": {
        "id": "9I0JAAE_Wz88"
      },
      "execution_count": null,
      "outputs": []
    },
    {
      "cell_type": "code",
      "source": [
        "from nltk.corpus import stopwords\n",
        "nltk.download('stopwords')\n",
        "a = stopwords.words('english')\n",
        "a\n"
      ],
      "metadata": {
        "id": "3cisNuJAWzo6",
        "colab": {
          "base_uri": "https://localhost:8080/"
        },
        "outputId": "abfc5d67-aedf-4edf-f5a9-3c47b13c4120"
      },
      "execution_count": null,
      "outputs": [
        {
          "output_type": "stream",
          "name": "stderr",
          "text": [
            "[nltk_data] Downloading package stopwords to /root/nltk_data...\n",
            "[nltk_data]   Package stopwords is already up-to-date!\n"
          ]
        },
        {
          "output_type": "execute_result",
          "data": {
            "text/plain": [
              "['i',\n",
              " 'me',\n",
              " 'my',\n",
              " 'myself',\n",
              " 'we',\n",
              " 'our',\n",
              " 'ours',\n",
              " 'ourselves',\n",
              " 'you',\n",
              " \"you're\",\n",
              " \"you've\",\n",
              " \"you'll\",\n",
              " \"you'd\",\n",
              " 'your',\n",
              " 'yours',\n",
              " 'yourself',\n",
              " 'yourselves',\n",
              " 'he',\n",
              " 'him',\n",
              " 'his',\n",
              " 'himself',\n",
              " 'she',\n",
              " \"she's\",\n",
              " 'her',\n",
              " 'hers',\n",
              " 'herself',\n",
              " 'it',\n",
              " \"it's\",\n",
              " 'its',\n",
              " 'itself',\n",
              " 'they',\n",
              " 'them',\n",
              " 'their',\n",
              " 'theirs',\n",
              " 'themselves',\n",
              " 'what',\n",
              " 'which',\n",
              " 'who',\n",
              " 'whom',\n",
              " 'this',\n",
              " 'that',\n",
              " \"that'll\",\n",
              " 'these',\n",
              " 'those',\n",
              " 'am',\n",
              " 'is',\n",
              " 'are',\n",
              " 'was',\n",
              " 'were',\n",
              " 'be',\n",
              " 'been',\n",
              " 'being',\n",
              " 'have',\n",
              " 'has',\n",
              " 'had',\n",
              " 'having',\n",
              " 'do',\n",
              " 'does',\n",
              " 'did',\n",
              " 'doing',\n",
              " 'a',\n",
              " 'an',\n",
              " 'the',\n",
              " 'and',\n",
              " 'but',\n",
              " 'if',\n",
              " 'or',\n",
              " 'because',\n",
              " 'as',\n",
              " 'until',\n",
              " 'while',\n",
              " 'of',\n",
              " 'at',\n",
              " 'by',\n",
              " 'for',\n",
              " 'with',\n",
              " 'about',\n",
              " 'against',\n",
              " 'between',\n",
              " 'into',\n",
              " 'through',\n",
              " 'during',\n",
              " 'before',\n",
              " 'after',\n",
              " 'above',\n",
              " 'below',\n",
              " 'to',\n",
              " 'from',\n",
              " 'up',\n",
              " 'down',\n",
              " 'in',\n",
              " 'out',\n",
              " 'on',\n",
              " 'off',\n",
              " 'over',\n",
              " 'under',\n",
              " 'again',\n",
              " 'further',\n",
              " 'then',\n",
              " 'once',\n",
              " 'here',\n",
              " 'there',\n",
              " 'when',\n",
              " 'where',\n",
              " 'why',\n",
              " 'how',\n",
              " 'all',\n",
              " 'any',\n",
              " 'both',\n",
              " 'each',\n",
              " 'few',\n",
              " 'more',\n",
              " 'most',\n",
              " 'other',\n",
              " 'some',\n",
              " 'such',\n",
              " 'no',\n",
              " 'nor',\n",
              " 'not',\n",
              " 'only',\n",
              " 'own',\n",
              " 'same',\n",
              " 'so',\n",
              " 'than',\n",
              " 'too',\n",
              " 'very',\n",
              " 's',\n",
              " 't',\n",
              " 'can',\n",
              " 'will',\n",
              " 'just',\n",
              " 'don',\n",
              " \"don't\",\n",
              " 'should',\n",
              " \"should've\",\n",
              " 'now',\n",
              " 'd',\n",
              " 'll',\n",
              " 'm',\n",
              " 'o',\n",
              " 're',\n",
              " 've',\n",
              " 'y',\n",
              " 'ain',\n",
              " 'aren',\n",
              " \"aren't\",\n",
              " 'couldn',\n",
              " \"couldn't\",\n",
              " 'didn',\n",
              " \"didn't\",\n",
              " 'doesn',\n",
              " \"doesn't\",\n",
              " 'hadn',\n",
              " \"hadn't\",\n",
              " 'hasn',\n",
              " \"hasn't\",\n",
              " 'haven',\n",
              " \"haven't\",\n",
              " 'isn',\n",
              " \"isn't\",\n",
              " 'ma',\n",
              " 'mightn',\n",
              " \"mightn't\",\n",
              " 'mustn',\n",
              " \"mustn't\",\n",
              " 'needn',\n",
              " \"needn't\",\n",
              " 'shan',\n",
              " \"shan't\",\n",
              " 'shouldn',\n",
              " \"shouldn't\",\n",
              " 'wasn',\n",
              " \"wasn't\",\n",
              " 'weren',\n",
              " \"weren't\",\n",
              " 'won',\n",
              " \"won't\",\n",
              " 'wouldn',\n",
              " \"wouldn't\"]"
            ]
          },
          "metadata": {},
          "execution_count": 31
        }
      ]
    },
    {
      "cell_type": "code",
      "source": [
        "tst_w_join = \"So here comes the task of Sentiment analysis of the text content or the opinions of the people, generated during the social interactions, which are to be analysed in order to know the emotion of the text \""
      ],
      "metadata": {
        "id": "ZYA4BZj2AR2I"
      },
      "execution_count": null,
      "outputs": []
    },
    {
      "cell_type": "code",
      "source": [
        "tst_w_clean = [i for i in tst_w_join.split()  if i.lower() not in stopwords.words('english')]"
      ],
      "metadata": {
        "id": "mGxZ3rCKAR0B"
      },
      "execution_count": null,
      "outputs": []
    },
    {
      "cell_type": "code",
      "source": [
        "tst_w_clean"
      ],
      "metadata": {
        "id": "MpXjAkMtARxp",
        "colab": {
          "base_uri": "https://localhost:8080/"
        },
        "outputId": "5bc89f27-d0ef-4bf8-db24-b80a3bc2c128"
      },
      "execution_count": null,
      "outputs": [
        {
          "output_type": "execute_result",
          "data": {
            "text/plain": [
              "['comes',\n",
              " 'task',\n",
              " 'Sentiment',\n",
              " 'analysis',\n",
              " 'text',\n",
              " 'content',\n",
              " 'opinions',\n",
              " 'people,',\n",
              " 'generated',\n",
              " 'social',\n",
              " 'interactions,',\n",
              " 'analysed',\n",
              " 'order',\n",
              " 'know',\n",
              " 'emotion',\n",
              " 'text']"
            ]
          },
          "metadata": {},
          "execution_count": 34
        }
      ]
    },
    {
      "cell_type": "code",
      "source": [],
      "metadata": {
        "id": "CK4HMCRTARvU"
      },
      "execution_count": null,
      "outputs": []
    },
    {
      "cell_type": "markdown",
      "source": [
        "# **Mini Challenge :**\n",
        "\n",
        "---\n",
        "**mini = 'Here is a mini challenge, that will teach you how to remove stopwords and punctuations from text..!!'**\n",
        "\n"
      ],
      "metadata": {
        "id": "fk3gXBqMmPo2"
      }
    },
    {
      "cell_type": "code",
      "source": [
        "import string\n",
        "string.punctuation"
      ],
      "metadata": {
        "colab": {
          "base_uri": "https://localhost:8080/",
          "height": 35
        },
        "id": "CL72S729d6zG",
        "outputId": "b11df59d-328a-4f5b-802f-30eef1f30bda"
      },
      "execution_count": null,
      "outputs": [
        {
          "output_type": "execute_result",
          "data": {
            "text/plain": [
              "'!\"#$%&\\'()*+,-./:;<=>?@[\\\\]^_`{|}~'"
            ],
            "application/vnd.google.colaboratory.intrinsic+json": {
              "type": "string"
            }
          },
          "metadata": {},
          "execution_count": 35
        }
      ]
    },
    {
      "cell_type": "code",
      "source": [
        "mini = 'Here is a mini challenge, that will teach you how to remove stopwords and punctuations from text..!!'"
      ],
      "metadata": {
        "id": "_dvT-BabARss"
      },
      "execution_count": null,
      "outputs": []
    },
    {
      "cell_type": "code",
      "source": [
        "text_clean = [ch for ch in mini  if ch not in string.punctuation]\n",
        "text_clean"
      ],
      "metadata": {
        "id": "Tqq4EPMOARqG",
        "colab": {
          "base_uri": "https://localhost:8080/"
        },
        "outputId": "fdaec4af-b180-4dae-ec22-5976090ada09"
      },
      "execution_count": null,
      "outputs": [
        {
          "output_type": "execute_result",
          "data": {
            "text/plain": [
              "['H',\n",
              " 'e',\n",
              " 'r',\n",
              " 'e',\n",
              " ' ',\n",
              " 'i',\n",
              " 's',\n",
              " ' ',\n",
              " 'a',\n",
              " ' ',\n",
              " 'm',\n",
              " 'i',\n",
              " 'n',\n",
              " 'i',\n",
              " ' ',\n",
              " 'c',\n",
              " 'h',\n",
              " 'a',\n",
              " 'l',\n",
              " 'l',\n",
              " 'e',\n",
              " 'n',\n",
              " 'g',\n",
              " 'e',\n",
              " ' ',\n",
              " 't',\n",
              " 'h',\n",
              " 'a',\n",
              " 't',\n",
              " ' ',\n",
              " 'w',\n",
              " 'i',\n",
              " 'l',\n",
              " 'l',\n",
              " ' ',\n",
              " 't',\n",
              " 'e',\n",
              " 'a',\n",
              " 'c',\n",
              " 'h',\n",
              " ' ',\n",
              " 'y',\n",
              " 'o',\n",
              " 'u',\n",
              " ' ',\n",
              " 'h',\n",
              " 'o',\n",
              " 'w',\n",
              " ' ',\n",
              " 't',\n",
              " 'o',\n",
              " ' ',\n",
              " 'r',\n",
              " 'e',\n",
              " 'm',\n",
              " 'o',\n",
              " 'v',\n",
              " 'e',\n",
              " ' ',\n",
              " 's',\n",
              " 't',\n",
              " 'o',\n",
              " 'p',\n",
              " 'w',\n",
              " 'o',\n",
              " 'r',\n",
              " 'd',\n",
              " 's',\n",
              " ' ',\n",
              " 'a',\n",
              " 'n',\n",
              " 'd',\n",
              " ' ',\n",
              " 'p',\n",
              " 'u',\n",
              " 'n',\n",
              " 'c',\n",
              " 't',\n",
              " 'u',\n",
              " 'a',\n",
              " 't',\n",
              " 'i',\n",
              " 'o',\n",
              " 'n',\n",
              " 's',\n",
              " ' ',\n",
              " 'f',\n",
              " 'r',\n",
              " 'o',\n",
              " 'm',\n",
              " ' ',\n",
              " 't',\n",
              " 'e',\n",
              " 'x',\n",
              " 't']"
            ]
          },
          "metadata": {},
          "execution_count": 37
        }
      ]
    },
    {
      "cell_type": "code",
      "source": [
        "cleaned_text = \"\".join(text_clean)\n",
        "cleaned_text"
      ],
      "metadata": {
        "id": "bLAbQEX5ARnv",
        "colab": {
          "base_uri": "https://localhost:8080/",
          "height": 35
        },
        "outputId": "4ca6ac40-dc67-480e-f8ef-3d9e5cf684e8"
      },
      "execution_count": null,
      "outputs": [
        {
          "output_type": "execute_result",
          "data": {
            "text/plain": [
              "'Here is a mini challenge that will teach you how to remove stopwords and punctuations from text'"
            ],
            "application/vnd.google.colaboratory.intrinsic+json": {
              "type": "string"
            }
          },
          "metadata": {},
          "execution_count": 38
        }
      ]
    },
    {
      "cell_type": "markdown",
      "source": [
        "\n",
        "\n",
        "---\n",
        "\n"
      ],
      "metadata": {
        "id": "mArGCL1mopGX"
      }
    },
    {
      "cell_type": "markdown",
      "source": [
        "# **Text Tokenization count vectorization**\n",
        "\n",
        "---\n",
        "![count-vec-concept.png](data:image/png;base64,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)\n"
      ],
      "metadata": {
        "id": "dkBLqJPBxTiP"
      }
    },
    {
      "cell_type": "code",
      "source": [
        "from sklearn.feature_extraction.text import CountVectorizer\n",
        "sample_data = ['This is the First paper.','This Document is the second paper','And this is the Third one']\n",
        "\n",
        "vectorizer = CountVectorizer()\n",
        "X = vectorizer.fit_transform(sample_data)\n",
        "\n",
        "print(type(vectorizer))\n",
        "print(vectorizer.get_feature_names_out())\n",
        "print(X.toarray())"
      ],
      "metadata": {
        "id": "O7BIbEPooqGr",
        "colab": {
          "base_uri": "https://localhost:8080/"
        },
        "outputId": "452822a2-0d41-4434-a49e-bc76f43b1ae0"
      },
      "execution_count": null,
      "outputs": [
        {
          "output_type": "stream",
          "name": "stdout",
          "text": [
            "<class 'sklearn.feature_extraction.text.CountVectorizer'>\n",
            "['and' 'document' 'first' 'is' 'one' 'paper' 'second' 'the' 'third' 'this']\n",
            "[[0 0 1 1 0 1 0 1 0 1]\n",
            " [0 1 0 1 0 1 1 1 0 1]\n",
            " [1 0 0 1 1 0 0 1 1 1]]\n"
          ]
        }
      ]
    },
    {
      "cell_type": "markdown",
      "source": [
        "## **Challenge for  count vectorization**"
      ],
      "metadata": {
        "id": "M2Ana9dH1TIk"
      }
    },
    {
      "cell_type": "code",
      "source": [
        "from sklearn.feature_extraction.text import CountVectorizer\n",
        "sd = ['Hello World','Hello Hello World','Hello World world world']\n",
        "\n",
        "vec = CountVectorizer()\n",
        "s = vec.fit_transform(sd)\n",
        "\n",
        "print(vec.get_feature_names_out())\n",
        "print(s.toarray())"
      ],
      "metadata": {
        "colab": {
          "base_uri": "https://localhost:8080/"
        },
        "id": "QYXhkUNEzWHU",
        "outputId": "a0550ca8-fa75-4e8c-8418-ef0bdb778508"
      },
      "execution_count": null,
      "outputs": [
        {
          "output_type": "stream",
          "name": "stdout",
          "text": [
            "['hello' 'world']\n",
            "[[1 1]\n",
            " [2 1]\n",
            " [1 3]]\n"
          ]
        }
      ]
    },
    {
      "cell_type": "markdown",
      "source": [
        "# **PRACTICE TASK ENDS HERE______**\n",
        "\n",
        "\n",
        "---\n",
        "# **Actual Task Starts here-------**\n"
      ],
      "metadata": {
        "id": "fWvtj0kZ0_J6"
      }
    },
    {
      "cell_type": "markdown",
      "source": [
        "# **Creating A pipeline to remove Punctuations, Stopwords and Perform Count Vectorization**\n",
        "\n",
        "---\n",
        "\n"
      ],
      "metadata": {
        "id": "SYjeUmT83GEb"
      }
    },
    {
      "cell_type": "code",
      "source": [
        "import string\n",
        "string.punctuation"
      ],
      "metadata": {
        "colab": {
          "base_uri": "https://localhost:8080/",
          "height": 35
        },
        "id": "BnODt37K4AHr",
        "outputId": "bd3666aa-0eb1-4827-c416-b9af190b8597"
      },
      "execution_count": null,
      "outputs": [
        {
          "output_type": "execute_result",
          "data": {
            "text/plain": [
              "'!\"#$%&\\'()*+,-./:;<=>?@[\\\\]^_`{|}~'"
            ],
            "application/vnd.google.colaboratory.intrinsic+json": {
              "type": "string"
            }
          },
          "metadata": {},
          "execution_count": 41
        }
      ]
    },
    {
      "cell_type": "code",
      "source": [
        "import nltk\n",
        "from nltk.corpus import stopwords\n",
        "nltk.download('stopwords')\n",
        "a = stopwords.words('english')\n",
        "\n",
        "tst_w_join = \"So here comes the task of Sentiment analysis of the text content or the opinions of the people, generated during the social interactions, which are to be analysed in order to know the emotion of the text \"\n",
        "tst_w_clean = [i for i in tst_w_join.split()  if i.lower() not in stopwords.words('english')]\n",
        "print(tst_w_clean)"
      ],
      "metadata": {
        "colab": {
          "base_uri": "https://localhost:8080/"
        },
        "id": "rK_YsdTC41Xy",
        "outputId": "4ad27d9c-0b29-44eb-984b-a7225c426c83"
      },
      "execution_count": null,
      "outputs": [
        {
          "output_type": "stream",
          "name": "stdout",
          "text": [
            "['comes', 'task', 'Sentiment', 'analysis', 'text', 'content', 'opinions', 'people,', 'generated', 'social', 'interactions,', 'analysed', 'order', 'know', 'emotion', 'text']\n"
          ]
        },
        {
          "output_type": "stream",
          "name": "stderr",
          "text": [
            "[nltk_data] Downloading package stopwords to /root/nltk_data...\n",
            "[nltk_data]   Package stopwords is already up-to-date!\n"
          ]
        }
      ]
    },
    {
      "cell_type": "code",
      "source": [
        "# pipeline to clean up All the messages\n",
        "import nltk\n",
        "from nltk.corpus import stopwords\n",
        "nltk.download('stopwords')\n",
        "a = stopwords.words('english')\n",
        "\n",
        "# pipeline to clean up All the messages\n",
        "def message_clean(data_sample):\n",
        "  test_punc_removed = [char for char in data_sample if char not in string.punctuation]\n",
        "  test_punc_join = \"\".join(test_punc_removed)\n",
        "  test_punc_removed_join_clean = [word for word in test_punc_join.split() if word.lower() not in stopwords.words('english')]\n",
        "  return test_punc_removed_join_clean\n"
      ],
      "metadata": {
        "colab": {
          "base_uri": "https://localhost:8080/"
        },
        "id": "qf-p9aR5zWEl",
        "outputId": "7554af9e-508c-4323-a118-bf809546cad6"
      },
      "execution_count": null,
      "outputs": [
        {
          "output_type": "stream",
          "name": "stderr",
          "text": [
            "[nltk_data] Downloading package stopwords to /root/nltk_data...\n",
            "[nltk_data]   Package stopwords is already up-to-date!\n"
          ]
        }
      ]
    },
    {
      "cell_type": "code",
      "source": [
        "opinion_df_clean = dff['verified_reviews'].apply(message_clean)"
      ],
      "metadata": {
        "id": "mLryr1_3zV6n"
      },
      "execution_count": null,
      "outputs": []
    },
    {
      "cell_type": "code",
      "source": [
        "print(dff['verified_reviews'][5])"
      ],
      "metadata": {
        "colab": {
          "base_uri": "https://localhost:8080/"
        },
        "id": "CqSj-UNW6mcc",
        "outputId": "907bbe4a-6b78-4c0b-bf04-fbc7ab158edc"
      },
      "execution_count": null,
      "outputs": [
        {
          "output_type": "stream",
          "name": "stdout",
          "text": [
            "I received the echo as a gift. I needed another Bluetooth or something to play music easily accessible, and found this smart speaker. Can’t wait to see what else it can do.\n"
          ]
        }
      ]
    },
    {
      "cell_type": "code",
      "source": [
        "print(opinion_df_clean[5])"
      ],
      "metadata": {
        "colab": {
          "base_uri": "https://localhost:8080/"
        },
        "id": "vTo3XV6I6mZz",
        "outputId": "b64ccfe5-76d6-4276-aa42-07fc9986f890"
      },
      "execution_count": null,
      "outputs": [
        {
          "output_type": "stream",
          "name": "stdout",
          "text": [
            "['received', 'echo', 'gift', 'needed', 'another', 'Bluetooth', 'something', 'play', 'music', 'easily', 'accessible', 'found', 'smart', 'speaker', 'Can’t', 'wait', 'see', 'else']\n"
          ]
        }
      ]
    },
    {
      "cell_type": "markdown",
      "source": [
        "**Now performing tokenising count vectorization**\n",
        "\n",
        "\n",
        "\n"
      ],
      "metadata": {
        "id": "itw0Cmddeq14"
      }
    },
    {
      "cell_type": "code",
      "source": [
        "from sklearn.feature_extraction.text import CountVectorizer\n",
        "vectorizer = CountVectorizer(analyzer = message_clean)\n",
        "cleaned_data = vectorizer.fit_transform(dff['verified_reviews'])\n"
      ],
      "metadata": {
        "id": "kEl9HRKz6mXK"
      },
      "execution_count": null,
      "outputs": []
    },
    {
      "cell_type": "code",
      "source": [
        "print(vectorizer.get_feature_names_out())"
      ],
      "metadata": {
        "colab": {
          "base_uri": "https://localhost:8080/"
        },
        "id": "zT2y_V9g6mUw",
        "outputId": "b3ca1877-88c8-4e92-8002-2029558b1b83"
      },
      "execution_count": null,
      "outputs": [
        {
          "output_type": "stream",
          "name": "stdout",
          "text": [
            "['072318' '1' '10' ... '😬' '😳' '🤓']\n"
          ]
        }
      ]
    },
    {
      "cell_type": "code",
      "source": [
        "print(cleaned_data.toarray())"
      ],
      "metadata": {
        "colab": {
          "base_uri": "https://localhost:8080/"
        },
        "id": "XHc2Hzui6mSP",
        "outputId": "de64a488-505e-4b40-cf4a-c48b77a08d1c"
      },
      "execution_count": null,
      "outputs": [
        {
          "output_type": "stream",
          "name": "stdout",
          "text": [
            "[[0 0 0 ... 0 0 0]\n",
            " [0 0 0 ... 0 0 0]\n",
            " [0 0 0 ... 0 0 0]\n",
            " ...\n",
            " [0 0 0 ... 0 0 0]\n",
            " [0 0 0 ... 0 0 0]\n",
            " [0 0 0 ... 0 0 0]]\n"
          ]
        }
      ]
    },
    {
      "cell_type": "code",
      "source": [
        "cleaned_data.shape"
      ],
      "metadata": {
        "colab": {
          "base_uri": "https://localhost:8080/"
        },
        "id": "96IO_RUX6mPW",
        "outputId": "032cab73-8295-4480-8c1a-ca28364008ed"
      },
      "execution_count": null,
      "outputs": [
        {
          "output_type": "execute_result",
          "data": {
            "text/plain": [
              "(3150, 5211)"
            ]
          },
          "metadata": {},
          "execution_count": 50
        }
      ]
    },
    {
      "cell_type": "markdown",
      "source": [
        "# **Independant Variable X**"
      ],
      "metadata": {
        "id": "F93YiJ9XRQE5"
      }
    },
    {
      "cell_type": "code",
      "source": [
        "reviews = pd.DataFrame(cleaned_data.toarray())\n",
        "X = reviews\n",
        "X"
      ],
      "metadata": {
        "colab": {
          "base_uri": "https://localhost:8080/",
          "height": 419
        },
        "id": "bNo4FjPT6mLg",
        "outputId": "b486c025-2a24-4516-daa6-bd3938c88058"
      },
      "execution_count": null,
      "outputs": [
        {
          "output_type": "execute_result",
          "data": {
            "text/plain": [
              "      0     1     2     3     4     5     6     7     8     9     ...  5201  \\\n",
              "0        0     0     0     0     0     0     0     0     0     0  ...     0   \n",
              "1        0     0     0     0     0     0     0     0     0     0  ...     0   \n",
              "2        0     0     0     0     0     0     0     0     0     0  ...     0   \n",
              "3        0     0     0     0     0     0     0     0     0     0  ...     0   \n",
              "4        0     0     0     0     0     0     0     0     0     0  ...     0   \n",
              "...    ...   ...   ...   ...   ...   ...   ...   ...   ...   ...  ...   ...   \n",
              "3145     0     0     0     0     0     0     0     0     0     0  ...     0   \n",
              "3146     0     0     0     0     0     0     0     0     0     0  ...     0   \n",
              "3147     0     0     0     0     0     0     0     0     0     0  ...     0   \n",
              "3148     0     0     0     0     0     0     0     0     0     0  ...     0   \n",
              "3149     0     0     0     0     0     0     0     0     0     0  ...     0   \n",
              "\n",
              "      5202  5203  5204  5205  5206  5207  5208  5209  5210  \n",
              "0        0     0     0     0     0     0     0     0     0  \n",
              "1        0     0     0     0     0     0     0     0     0  \n",
              "2        0     0     0     0     0     0     0     0     0  \n",
              "3        0     0     0     0     0     0     0     0     0  \n",
              "4        0     0     0     0     0     0     0     0     0  \n",
              "...    ...   ...   ...   ...   ...   ...   ...   ...   ...  \n",
              "3145     0     0     0     0     0     0     0     0     0  \n",
              "3146     0     0     0     0     0     0     0     0     0  \n",
              "3147     0     0     0     0     0     0     0     0     0  \n",
              "3148     0     0     0     0     0     0     0     0     0  \n",
              "3149     0     0     0     0     0     0     0     0     0  \n",
              "\n",
              "[3150 rows x 5211 columns]"
            ],
            "text/html": [
              "\n",
              "  <div id=\"df-0a5d64c3-b814-426e-9d89-d44bf95aa1cd\" class=\"colab-df-container\">\n",
              "    <div>\n",
              "<style scoped>\n",
              "    .dataframe tbody tr th:only-of-type {\n",
              "        vertical-align: middle;\n",
              "    }\n",
              "\n",
              "    .dataframe tbody tr th {\n",
              "        vertical-align: top;\n",
              "    }\n",
              "\n",
              "    .dataframe thead th {\n",
              "        text-align: right;\n",
              "    }\n",
              "</style>\n",
              "<table border=\"1\" class=\"dataframe\">\n",
              "  <thead>\n",
              "    <tr style=\"text-align: right;\">\n",
              "      <th></th>\n",
              "      <th>0</th>\n",
              "      <th>1</th>\n",
              "      <th>2</th>\n",
              "      <th>3</th>\n",
              "      <th>4</th>\n",
              "      <th>5</th>\n",
              "      <th>6</th>\n",
              "      <th>7</th>\n",
              "      <th>8</th>\n",
              "      <th>9</th>\n",
              "      <th>...</th>\n",
              "      <th>5201</th>\n",
              "      <th>5202</th>\n",
              "      <th>5203</th>\n",
              "      <th>5204</th>\n",
              "      <th>5205</th>\n",
              "      <th>5206</th>\n",
              "      <th>5207</th>\n",
              "      <th>5208</th>\n",
              "      <th>5209</th>\n",
              "      <th>5210</th>\n",
              "    </tr>\n",
              "  </thead>\n",
              "  <tbody>\n",
              "    <tr>\n",
              "      <th>0</th>\n",
              "      <td>0</td>\n",
              "      <td>0</td>\n",
              "      <td>0</td>\n",
              "      <td>0</td>\n",
              "      <td>0</td>\n",
              "      <td>0</td>\n",
              "      <td>0</td>\n",
              "      <td>0</td>\n",
              "      <td>0</td>\n",
              "      <td>0</td>\n",
              "      <td>...</td>\n",
              "      <td>0</td>\n",
              "      <td>0</td>\n",
              "      <td>0</td>\n",
              "      <td>0</td>\n",
              "      <td>0</td>\n",
              "      <td>0</td>\n",
              "      <td>0</td>\n",
              "      <td>0</td>\n",
              "      <td>0</td>\n",
              "      <td>0</td>\n",
              "    </tr>\n",
              "    <tr>\n",
              "      <th>1</th>\n",
              "      <td>0</td>\n",
              "      <td>0</td>\n",
              "      <td>0</td>\n",
              "      <td>0</td>\n",
              "      <td>0</td>\n",
              "      <td>0</td>\n",
              "      <td>0</td>\n",
              "      <td>0</td>\n",
              "      <td>0</td>\n",
              "      <td>0</td>\n",
              "      <td>...</td>\n",
              "      <td>0</td>\n",
              "      <td>0</td>\n",
              "      <td>0</td>\n",
              "      <td>0</td>\n",
              "      <td>0</td>\n",
              "      <td>0</td>\n",
              "      <td>0</td>\n",
              "      <td>0</td>\n",
              "      <td>0</td>\n",
              "      <td>0</td>\n",
              "    </tr>\n",
              "    <tr>\n",
              "      <th>2</th>\n",
              "      <td>0</td>\n",
              "      <td>0</td>\n",
              "      <td>0</td>\n",
              "      <td>0</td>\n",
              "      <td>0</td>\n",
              "      <td>0</td>\n",
              "      <td>0</td>\n",
              "      <td>0</td>\n",
              "      <td>0</td>\n",
              "      <td>0</td>\n",
              "      <td>...</td>\n",
              "      <td>0</td>\n",
              "      <td>0</td>\n",
              "      <td>0</td>\n",
              "      <td>0</td>\n",
              "      <td>0</td>\n",
              "      <td>0</td>\n",
              "      <td>0</td>\n",
              "      <td>0</td>\n",
              "      <td>0</td>\n",
              "      <td>0</td>\n",
              "    </tr>\n",
              "    <tr>\n",
              "      <th>3</th>\n",
              "      <td>0</td>\n",
              "      <td>0</td>\n",
              "      <td>0</td>\n",
              "      <td>0</td>\n",
              "      <td>0</td>\n",
              "      <td>0</td>\n",
              "      <td>0</td>\n",
              "      <td>0</td>\n",
              "      <td>0</td>\n",
              "      <td>0</td>\n",
              "      <td>...</td>\n",
              "      <td>0</td>\n",
              "      <td>0</td>\n",
              "      <td>0</td>\n",
              "      <td>0</td>\n",
              "      <td>0</td>\n",
              "      <td>0</td>\n",
              "      <td>0</td>\n",
              "      <td>0</td>\n",
              "      <td>0</td>\n",
              "      <td>0</td>\n",
              "    </tr>\n",
              "    <tr>\n",
              "      <th>4</th>\n",
              "      <td>0</td>\n",
              "      <td>0</td>\n",
              "      <td>0</td>\n",
              "      <td>0</td>\n",
              "      <td>0</td>\n",
              "      <td>0</td>\n",
              "      <td>0</td>\n",
              "      <td>0</td>\n",
              "      <td>0</td>\n",
              "      <td>0</td>\n",
              "      <td>...</td>\n",
              "      <td>0</td>\n",
              "      <td>0</td>\n",
              "      <td>0</td>\n",
              "      <td>0</td>\n",
              "      <td>0</td>\n",
              "      <td>0</td>\n",
              "      <td>0</td>\n",
              "      <td>0</td>\n",
              "      <td>0</td>\n",
              "      <td>0</td>\n",
              "    </tr>\n",
              "    <tr>\n",
              "      <th>...</th>\n",
              "      <td>...</td>\n",
              "      <td>...</td>\n",
              "      <td>...</td>\n",
              "      <td>...</td>\n",
              "      <td>...</td>\n",
              "      <td>...</td>\n",
              "      <td>...</td>\n",
              "      <td>...</td>\n",
              "      <td>...</td>\n",
              "      <td>...</td>\n",
              "      <td>...</td>\n",
              "      <td>...</td>\n",
              "      <td>...</td>\n",
              "      <td>...</td>\n",
              "      <td>...</td>\n",
              "      <td>...</td>\n",
              "      <td>...</td>\n",
              "      <td>...</td>\n",
              "      <td>...</td>\n",
              "      <td>...</td>\n",
              "      <td>...</td>\n",
              "    </tr>\n",
              "    <tr>\n",
              "      <th>3145</th>\n",
              "      <td>0</td>\n",
              "      <td>0</td>\n",
              "      <td>0</td>\n",
              "      <td>0</td>\n",
              "      <td>0</td>\n",
              "      <td>0</td>\n",
              "      <td>0</td>\n",
              "      <td>0</td>\n",
              "      <td>0</td>\n",
              "      <td>0</td>\n",
              "      <td>...</td>\n",
              "      <td>0</td>\n",
              "      <td>0</td>\n",
              "      <td>0</td>\n",
              "      <td>0</td>\n",
              "      <td>0</td>\n",
              "      <td>0</td>\n",
              "      <td>0</td>\n",
              "      <td>0</td>\n",
              "      <td>0</td>\n",
              "      <td>0</td>\n",
              "    </tr>\n",
              "    <tr>\n",
              "      <th>3146</th>\n",
              "      <td>0</td>\n",
              "      <td>0</td>\n",
              "      <td>0</td>\n",
              "      <td>0</td>\n",
              "      <td>0</td>\n",
              "      <td>0</td>\n",
              "      <td>0</td>\n",
              "      <td>0</td>\n",
              "      <td>0</td>\n",
              "      <td>0</td>\n",
              "      <td>...</td>\n",
              "      <td>0</td>\n",
              "      <td>0</td>\n",
              "      <td>0</td>\n",
              "      <td>0</td>\n",
              "      <td>0</td>\n",
              "      <td>0</td>\n",
              "      <td>0</td>\n",
              "      <td>0</td>\n",
              "      <td>0</td>\n",
              "      <td>0</td>\n",
              "    </tr>\n",
              "    <tr>\n",
              "      <th>3147</th>\n",
              "      <td>0</td>\n",
              "      <td>0</td>\n",
              "      <td>0</td>\n",
              "      <td>0</td>\n",
              "      <td>0</td>\n",
              "      <td>0</td>\n",
              "      <td>0</td>\n",
              "      <td>0</td>\n",
              "      <td>0</td>\n",
              "      <td>0</td>\n",
              "      <td>...</td>\n",
              "      <td>0</td>\n",
              "      <td>0</td>\n",
              "      <td>0</td>\n",
              "      <td>0</td>\n",
              "      <td>0</td>\n",
              "      <td>0</td>\n",
              "      <td>0</td>\n",
              "      <td>0</td>\n",
              "      <td>0</td>\n",
              "      <td>0</td>\n",
              "    </tr>\n",
              "    <tr>\n",
              "      <th>3148</th>\n",
              "      <td>0</td>\n",
              "      <td>0</td>\n",
              "      <td>0</td>\n",
              "      <td>0</td>\n",
              "      <td>0</td>\n",
              "      <td>0</td>\n",
              "      <td>0</td>\n",
              "      <td>0</td>\n",
              "      <td>0</td>\n",
              "      <td>0</td>\n",
              "      <td>...</td>\n",
              "      <td>0</td>\n",
              "      <td>0</td>\n",
              "      <td>0</td>\n",
              "      <td>0</td>\n",
              "      <td>0</td>\n",
              "      <td>0</td>\n",
              "      <td>0</td>\n",
              "      <td>0</td>\n",
              "      <td>0</td>\n",
              "      <td>0</td>\n",
              "    </tr>\n",
              "    <tr>\n",
              "      <th>3149</th>\n",
              "      <td>0</td>\n",
              "      <td>0</td>\n",
              "      <td>0</td>\n",
              "      <td>0</td>\n",
              "      <td>0</td>\n",
              "      <td>0</td>\n",
              "      <td>0</td>\n",
              "      <td>0</td>\n",
              "      <td>0</td>\n",
              "      <td>0</td>\n",
              "      <td>...</td>\n",
              "      <td>0</td>\n",
              "      <td>0</td>\n",
              "      <td>0</td>\n",
              "      <td>0</td>\n",
              "      <td>0</td>\n",
              "      <td>0</td>\n",
              "      <td>0</td>\n",
              "      <td>0</td>\n",
              "      <td>0</td>\n",
              "      <td>0</td>\n",
              "    </tr>\n",
              "  </tbody>\n",
              "</table>\n",
              "<p>3150 rows × 5211 columns</p>\n",
              "</div>\n",
              "    <div class=\"colab-df-buttons\">\n",
              "\n",
              "  <div class=\"colab-df-container\">\n",
              "    <button class=\"colab-df-convert\" onclick=\"convertToInteractive('df-0a5d64c3-b814-426e-9d89-d44bf95aa1cd')\"\n",
              "            title=\"Convert this dataframe to an interactive table.\"\n",
              "            style=\"display:none;\">\n",
              "\n",
              "  <svg xmlns=\"http://www.w3.org/2000/svg\" height=\"24px\" viewBox=\"0 -960 960 960\">\n",
              "    <path d=\"M120-120v-720h720v720H120Zm60-500h600v-160H180v160Zm220 220h160v-160H400v160Zm0 220h160v-160H400v160ZM180-400h160v-160H180v160Zm440 0h160v-160H620v160ZM180-180h160v-160H180v160Zm440 0h160v-160H620v160Z\"/>\n",
              "  </svg>\n",
              "    </button>\n",
              "\n",
              "  <style>\n",
              "    .colab-df-container {\n",
              "      display:flex;\n",
              "      gap: 12px;\n",
              "    }\n",
              "\n",
              "    .colab-df-convert {\n",
              "      background-color: #E8F0FE;\n",
              "      border: none;\n",
              "      border-radius: 50%;\n",
              "      cursor: pointer;\n",
              "      display: none;\n",
              "      fill: #1967D2;\n",
              "      height: 32px;\n",
              "      padding: 0 0 0 0;\n",
              "      width: 32px;\n",
              "    }\n",
              "\n",
              "    .colab-df-convert:hover {\n",
              "      background-color: #E2EBFA;\n",
              "      box-shadow: 0px 1px 2px rgba(60, 64, 67, 0.3), 0px 1px 3px 1px rgba(60, 64, 67, 0.15);\n",
              "      fill: #174EA6;\n",
              "    }\n",
              "\n",
              "    .colab-df-buttons div {\n",
              "      margin-bottom: 4px;\n",
              "    }\n",
              "\n",
              "    [theme=dark] .colab-df-convert {\n",
              "      background-color: #3B4455;\n",
              "      fill: #D2E3FC;\n",
              "    }\n",
              "\n",
              "    [theme=dark] .colab-df-convert:hover {\n",
              "      background-color: #434B5C;\n",
              "      box-shadow: 0px 1px 3px 1px rgba(0, 0, 0, 0.15);\n",
              "      filter: drop-shadow(0px 1px 2px rgba(0, 0, 0, 0.3));\n",
              "      fill: #FFFFFF;\n",
              "    }\n",
              "  </style>\n",
              "\n",
              "    <script>\n",
              "      const buttonEl =\n",
              "        document.querySelector('#df-0a5d64c3-b814-426e-9d89-d44bf95aa1cd button.colab-df-convert');\n",
              "      buttonEl.style.display =\n",
              "        google.colab.kernel.accessAllowed ? 'block' : 'none';\n",
              "\n",
              "      async function convertToInteractive(key) {\n",
              "        const element = document.querySelector('#df-0a5d64c3-b814-426e-9d89-d44bf95aa1cd');\n",
              "        const dataTable =\n",
              "          await google.colab.kernel.invokeFunction('convertToInteractive',\n",
              "                                                    [key], {});\n",
              "        if (!dataTable) return;\n",
              "\n",
              "        const docLinkHtml = 'Like what you see? Visit the ' +\n",
              "          '<a target=\"_blank\" href=https://colab.research.google.com/notebooks/data_table.ipynb>data table notebook</a>'\n",
              "          + ' to learn more about interactive tables.';\n",
              "        element.innerHTML = '';\n",
              "        dataTable['output_type'] = 'display_data';\n",
              "        await google.colab.output.renderOutput(dataTable, element);\n",
              "        const docLink = document.createElement('div');\n",
              "        docLink.innerHTML = docLinkHtml;\n",
              "        element.appendChild(docLink);\n",
              "      }\n",
              "    </script>\n",
              "  </div>\n",
              "\n",
              "\n",
              "<div id=\"df-fea1dcc3-7a72-437a-a8dc-a69f105bf519\">\n",
              "  <button class=\"colab-df-quickchart\" onclick=\"quickchart('df-fea1dcc3-7a72-437a-a8dc-a69f105bf519')\"\n",
              "            title=\"Suggest charts\"\n",
              "            style=\"display:none;\">\n",
              "\n",
              "<svg xmlns=\"http://www.w3.org/2000/svg\" height=\"24px\"viewBox=\"0 0 24 24\"\n",
              "     width=\"24px\">\n",
              "    <g>\n",
              "        <path d=\"M19 3H5c-1.1 0-2 .9-2 2v14c0 1.1.9 2 2 2h14c1.1 0 2-.9 2-2V5c0-1.1-.9-2-2-2zM9 17H7v-7h2v7zm4 0h-2V7h2v10zm4 0h-2v-4h2v4z\"/>\n",
              "    </g>\n",
              "</svg>\n",
              "  </button>\n",
              "\n",
              "<style>\n",
              "  .colab-df-quickchart {\n",
              "      --bg-color: #E8F0FE;\n",
              "      --fill-color: #1967D2;\n",
              "      --hover-bg-color: #E2EBFA;\n",
              "      --hover-fill-color: #174EA6;\n",
              "      --disabled-fill-color: #AAA;\n",
              "      --disabled-bg-color: #DDD;\n",
              "  }\n",
              "\n",
              "  [theme=dark] .colab-df-quickchart {\n",
              "      --bg-color: #3B4455;\n",
              "      --fill-color: #D2E3FC;\n",
              "      --hover-bg-color: #434B5C;\n",
              "      --hover-fill-color: #FFFFFF;\n",
              "      --disabled-bg-color: #3B4455;\n",
              "      --disabled-fill-color: #666;\n",
              "  }\n",
              "\n",
              "  .colab-df-quickchart {\n",
              "    background-color: var(--bg-color);\n",
              "    border: none;\n",
              "    border-radius: 50%;\n",
              "    cursor: pointer;\n",
              "    display: none;\n",
              "    fill: var(--fill-color);\n",
              "    height: 32px;\n",
              "    padding: 0;\n",
              "    width: 32px;\n",
              "  }\n",
              "\n",
              "  .colab-df-quickchart:hover {\n",
              "    background-color: var(--hover-bg-color);\n",
              "    box-shadow: 0 1px 2px rgba(60, 64, 67, 0.3), 0 1px 3px 1px rgba(60, 64, 67, 0.15);\n",
              "    fill: var(--button-hover-fill-color);\n",
              "  }\n",
              "\n",
              "  .colab-df-quickchart-complete:disabled,\n",
              "  .colab-df-quickchart-complete:disabled:hover {\n",
              "    background-color: var(--disabled-bg-color);\n",
              "    fill: var(--disabled-fill-color);\n",
              "    box-shadow: none;\n",
              "  }\n",
              "\n",
              "  .colab-df-spinner {\n",
              "    border: 2px solid var(--fill-color);\n",
              "    border-color: transparent;\n",
              "    border-bottom-color: var(--fill-color);\n",
              "    animation:\n",
              "      spin 1s steps(1) infinite;\n",
              "  }\n",
              "\n",
              "  @keyframes spin {\n",
              "    0% {\n",
              "      border-color: transparent;\n",
              "      border-bottom-color: var(--fill-color);\n",
              "      border-left-color: var(--fill-color);\n",
              "    }\n",
              "    20% {\n",
              "      border-color: transparent;\n",
              "      border-left-color: var(--fill-color);\n",
              "      border-top-color: var(--fill-color);\n",
              "    }\n",
              "    30% {\n",
              "      border-color: transparent;\n",
              "      border-left-color: var(--fill-color);\n",
              "      border-top-color: var(--fill-color);\n",
              "      border-right-color: var(--fill-color);\n",
              "    }\n",
              "    40% {\n",
              "      border-color: transparent;\n",
              "      border-right-color: var(--fill-color);\n",
              "      border-top-color: var(--fill-color);\n",
              "    }\n",
              "    60% {\n",
              "      border-color: transparent;\n",
              "      border-right-color: var(--fill-color);\n",
              "    }\n",
              "    80% {\n",
              "      border-color: transparent;\n",
              "      border-right-color: var(--fill-color);\n",
              "      border-bottom-color: var(--fill-color);\n",
              "    }\n",
              "    90% {\n",
              "      border-color: transparent;\n",
              "      border-bottom-color: var(--fill-color);\n",
              "    }\n",
              "  }\n",
              "</style>\n",
              "\n",
              "  <script>\n",
              "    async function quickchart(key) {\n",
              "      const quickchartButtonEl =\n",
              "        document.querySelector('#' + key + ' button');\n",
              "      quickchartButtonEl.disabled = true;  // To prevent multiple clicks.\n",
              "      quickchartButtonEl.classList.add('colab-df-spinner');\n",
              "      try {\n",
              "        const charts = await google.colab.kernel.invokeFunction(\n",
              "            'suggestCharts', [key], {});\n",
              "      } catch (error) {\n",
              "        console.error('Error during call to suggestCharts:', error);\n",
              "      }\n",
              "      quickchartButtonEl.classList.remove('colab-df-spinner');\n",
              "      quickchartButtonEl.classList.add('colab-df-quickchart-complete');\n",
              "    }\n",
              "    (() => {\n",
              "      let quickchartButtonEl =\n",
              "        document.querySelector('#df-fea1dcc3-7a72-437a-a8dc-a69f105bf519 button');\n",
              "      quickchartButtonEl.style.display =\n",
              "        google.colab.kernel.accessAllowed ? 'block' : 'none';\n",
              "    })();\n",
              "  </script>\n",
              "</div>\n",
              "\n",
              "  <div id=\"id_e8180eba-da2f-4d75-a4e2-a71a516ab5c1\">\n",
              "    <style>\n",
              "      .colab-df-generate {\n",
              "        background-color: #E8F0FE;\n",
              "        border: none;\n",
              "        border-radius: 50%;\n",
              "        cursor: pointer;\n",
              "        display: none;\n",
              "        fill: #1967D2;\n",
              "        height: 32px;\n",
              "        padding: 0 0 0 0;\n",
              "        width: 32px;\n",
              "      }\n",
              "\n",
              "      .colab-df-generate:hover {\n",
              "        background-color: #E2EBFA;\n",
              "        box-shadow: 0px 1px 2px rgba(60, 64, 67, 0.3), 0px 1px 3px 1px rgba(60, 64, 67, 0.15);\n",
              "        fill: #174EA6;\n",
              "      }\n",
              "\n",
              "      [theme=dark] .colab-df-generate {\n",
              "        background-color: #3B4455;\n",
              "        fill: #D2E3FC;\n",
              "      }\n",
              "\n",
              "      [theme=dark] .colab-df-generate:hover {\n",
              "        background-color: #434B5C;\n",
              "        box-shadow: 0px 1px 3px 1px rgba(0, 0, 0, 0.15);\n",
              "        filter: drop-shadow(0px 1px 2px rgba(0, 0, 0, 0.3));\n",
              "        fill: #FFFFFF;\n",
              "      }\n",
              "    </style>\n",
              "    <button class=\"colab-df-generate\" onclick=\"generateWithVariable('X')\"\n",
              "            title=\"Generate code using this dataframe.\"\n",
              "            style=\"display:none;\">\n",
              "\n",
              "  <svg xmlns=\"http://www.w3.org/2000/svg\" height=\"24px\"viewBox=\"0 0 24 24\"\n",
              "       width=\"24px\">\n",
              "    <path d=\"M7,19H8.4L18.45,9,17,7.55,7,17.6ZM5,21V16.75L18.45,3.32a2,2,0,0,1,2.83,0l1.4,1.43a1.91,1.91,0,0,1,.58,1.4,1.91,1.91,0,0,1-.58,1.4L9.25,21ZM18.45,9,17,7.55Zm-12,3A5.31,5.31,0,0,0,4.9,8.1,5.31,5.31,0,0,0,1,6.5,5.31,5.31,0,0,0,4.9,4.9,5.31,5.31,0,0,0,6.5,1,5.31,5.31,0,0,0,8.1,4.9,5.31,5.31,0,0,0,12,6.5,5.46,5.46,0,0,0,6.5,12Z\"/>\n",
              "  </svg>\n",
              "    </button>\n",
              "    <script>\n",
              "      (() => {\n",
              "      const buttonEl =\n",
              "        document.querySelector('#id_e8180eba-da2f-4d75-a4e2-a71a516ab5c1 button.colab-df-generate');\n",
              "      buttonEl.style.display =\n",
              "        google.colab.kernel.accessAllowed ? 'block' : 'none';\n",
              "\n",
              "      buttonEl.onclick = () => {\n",
              "        google.colab.notebook.generateWithVariable('X');\n",
              "      }\n",
              "      })();\n",
              "    </script>\n",
              "  </div>\n",
              "\n",
              "    </div>\n",
              "  </div>\n"
            ],
            "application/vnd.google.colaboratory.intrinsic+json": {
              "type": "dataframe",
              "variable_name": "X"
            }
          },
          "metadata": {},
          "execution_count": 51
        }
      ]
    },
    {
      "cell_type": "code",
      "source": [
        "X.shape"
      ],
      "metadata": {
        "colab": {
          "base_uri": "https://localhost:8080/"
        },
        "id": "j7YCmBNURaha",
        "outputId": "94f5958e-7e57-4846-b5b3-4b78dede50ec"
      },
      "execution_count": null,
      "outputs": [
        {
          "output_type": "execute_result",
          "data": {
            "text/plain": [
              "(3150, 5211)"
            ]
          },
          "metadata": {},
          "execution_count": 52
        }
      ]
    },
    {
      "cell_type": "markdown",
      "source": [
        "# **Dependant Variable Y**"
      ],
      "metadata": {
        "id": "JrWE7eEdRJdI"
      }
    },
    {
      "cell_type": "code",
      "source": [
        "y = dff['feedback']\n",
        "y"
      ],
      "metadata": {
        "colab": {
          "base_uri": "https://localhost:8080/"
        },
        "id": "PsrG_K-G6l-x",
        "outputId": "4e9accd7-b5f0-4292-c966-03b418f0f3fb"
      },
      "execution_count": null,
      "outputs": [
        {
          "output_type": "execute_result",
          "data": {
            "text/plain": [
              "0       1\n",
              "1       1\n",
              "2       1\n",
              "3       1\n",
              "4       1\n",
              "       ..\n",
              "3145    1\n",
              "3146    1\n",
              "3147    1\n",
              "3148    1\n",
              "3149    1\n",
              "Name: feedback, Length: 3150, dtype: int64"
            ]
          },
          "metadata": {},
          "execution_count": 53
        }
      ]
    },
    {
      "cell_type": "code",
      "source": [
        "y.shape[0]"
      ],
      "metadata": {
        "colab": {
          "base_uri": "https://localhost:8080/"
        },
        "id": "M0RhcJkDRCLA",
        "outputId": "15730618-6d27-4253-d136-ce4394d08419"
      },
      "execution_count": null,
      "outputs": [
        {
          "output_type": "execute_result",
          "data": {
            "text/plain": [
              "3150"
            ]
          },
          "metadata": {},
          "execution_count": 54
        }
      ]
    },
    {
      "cell_type": "markdown",
      "source": [
        "# **TRAIN & TEST NAIVE BASED CLASSIFIER MODEL**"
      ],
      "metadata": {
        "id": "MnhhpmyLRlaO"
      }
    },
    {
      "cell_type": "code",
      "source": [
        "from sklearn.model_selection import train_test_split\n",
        "X_train , X_test , y_train , y_test = train_test_split(X,y,test_size = 0.2)"
      ],
      "metadata": {
        "id": "jyRdD-kqRHLx"
      },
      "execution_count": null,
      "outputs": []
    },
    {
      "cell_type": "markdown",
      "source": [
        "## **Multinomial Naive Bayes** Model"
      ],
      "metadata": {
        "id": "3E_FqXjIUZIh"
      }
    },
    {
      "cell_type": "code",
      "source": [
        "#Model Fitting\n",
        "from sklearn.naive_bayes import MultinomialNB\n",
        "NB_classifier =  MultinomialNB()\n",
        "NB_classifier.fit(X_train , y_train)"
      ],
      "metadata": {
        "id": "V--iuTT7RG8-",
        "colab": {
          "base_uri": "https://localhost:8080/",
          "height": 74
        },
        "outputId": "b2ea0539-6a7c-4d66-d3d2-7331b89f68cc"
      },
      "execution_count": null,
      "outputs": [
        {
          "output_type": "execute_result",
          "data": {
            "text/plain": [
              "MultinomialNB()"
            ],
            "text/html": [
              "<style>#sk-container-id-1 {color: black;background-color: white;}#sk-container-id-1 pre{padding: 0;}#sk-container-id-1 div.sk-toggleable {background-color: white;}#sk-container-id-1 label.sk-toggleable__label {cursor: pointer;display: block;width: 100%;margin-bottom: 0;padding: 0.3em;box-sizing: border-box;text-align: center;}#sk-container-id-1 label.sk-toggleable__label-arrow:before {content: \"▸\";float: left;margin-right: 0.25em;color: #696969;}#sk-container-id-1 label.sk-toggleable__label-arrow:hover:before {color: black;}#sk-container-id-1 div.sk-estimator:hover label.sk-toggleable__label-arrow:before {color: black;}#sk-container-id-1 div.sk-toggleable__content {max-height: 0;max-width: 0;overflow: hidden;text-align: left;background-color: #f0f8ff;}#sk-container-id-1 div.sk-toggleable__content pre {margin: 0.2em;color: black;border-radius: 0.25em;background-color: #f0f8ff;}#sk-container-id-1 input.sk-toggleable__control:checked~div.sk-toggleable__content {max-height: 200px;max-width: 100%;overflow: auto;}#sk-container-id-1 input.sk-toggleable__control:checked~label.sk-toggleable__label-arrow:before {content: \"▾\";}#sk-container-id-1 div.sk-estimator input.sk-toggleable__control:checked~label.sk-toggleable__label {background-color: #d4ebff;}#sk-container-id-1 div.sk-label input.sk-toggleable__control:checked~label.sk-toggleable__label {background-color: #d4ebff;}#sk-container-id-1 input.sk-hidden--visually {border: 0;clip: rect(1px 1px 1px 1px);clip: rect(1px, 1px, 1px, 1px);height: 1px;margin: -1px;overflow: hidden;padding: 0;position: absolute;width: 1px;}#sk-container-id-1 div.sk-estimator {font-family: monospace;background-color: #f0f8ff;border: 1px dotted black;border-radius: 0.25em;box-sizing: border-box;margin-bottom: 0.5em;}#sk-container-id-1 div.sk-estimator:hover {background-color: #d4ebff;}#sk-container-id-1 div.sk-parallel-item::after {content: \"\";width: 100%;border-bottom: 1px solid gray;flex-grow: 1;}#sk-container-id-1 div.sk-label:hover label.sk-toggleable__label {background-color: #d4ebff;}#sk-container-id-1 div.sk-serial::before {content: \"\";position: absolute;border-left: 1px solid gray;box-sizing: border-box;top: 0;bottom: 0;left: 50%;z-index: 0;}#sk-container-id-1 div.sk-serial {display: flex;flex-direction: column;align-items: center;background-color: white;padding-right: 0.2em;padding-left: 0.2em;position: relative;}#sk-container-id-1 div.sk-item {position: relative;z-index: 1;}#sk-container-id-1 div.sk-parallel {display: flex;align-items: stretch;justify-content: center;background-color: white;position: relative;}#sk-container-id-1 div.sk-item::before, #sk-container-id-1 div.sk-parallel-item::before {content: \"\";position: absolute;border-left: 1px solid gray;box-sizing: border-box;top: 0;bottom: 0;left: 50%;z-index: -1;}#sk-container-id-1 div.sk-parallel-item {display: flex;flex-direction: column;z-index: 1;position: relative;background-color: white;}#sk-container-id-1 div.sk-parallel-item:first-child::after {align-self: flex-end;width: 50%;}#sk-container-id-1 div.sk-parallel-item:last-child::after {align-self: flex-start;width: 50%;}#sk-container-id-1 div.sk-parallel-item:only-child::after {width: 0;}#sk-container-id-1 div.sk-dashed-wrapped {border: 1px dashed gray;margin: 0 0.4em 0.5em 0.4em;box-sizing: border-box;padding-bottom: 0.4em;background-color: white;}#sk-container-id-1 div.sk-label label {font-family: monospace;font-weight: bold;display: inline-block;line-height: 1.2em;}#sk-container-id-1 div.sk-label-container {text-align: center;}#sk-container-id-1 div.sk-container {/* jupyter's `normalize.less` sets `[hidden] { display: none; }` but bootstrap.min.css set `[hidden] { display: none !important; }` so we also need the `!important` here to be able to override the default hidden behavior on the sphinx rendered scikit-learn.org. See: https://github.com/scikit-learn/scikit-learn/issues/21755 */display: inline-block !important;position: relative;}#sk-container-id-1 div.sk-text-repr-fallback {display: none;}</style><div id=\"sk-container-id-1\" class=\"sk-top-container\"><div class=\"sk-text-repr-fallback\"><pre>MultinomialNB()</pre><b>In a Jupyter environment, please rerun this cell to show the HTML representation or trust the notebook. <br />On GitHub, the HTML representation is unable to render, please try loading this page with nbviewer.org.</b></div><div class=\"sk-container\" hidden><div class=\"sk-item\"><div class=\"sk-estimator sk-toggleable\"><input class=\"sk-toggleable__control sk-hidden--visually\" id=\"sk-estimator-id-1\" type=\"checkbox\" checked><label for=\"sk-estimator-id-1\" class=\"sk-toggleable__label sk-toggleable__label-arrow\">MultinomialNB</label><div class=\"sk-toggleable__content\"><pre>MultinomialNB()</pre></div></div></div></div></div>"
            ]
          },
          "metadata": {},
          "execution_count": 56
        }
      ]
    },
    {
      "cell_type": "markdown",
      "source": [
        "## **Confusion Matrix**"
      ],
      "metadata": {
        "id": "R2tOVXm6Tk0v"
      }
    },
    {
      "cell_type": "markdown",
      "source": [
        "![confusionMatrxiUpdated.jpg](data:image/jpeg;base64,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)"
      ],
      "metadata": {
        "id": "Itx2bIKETo4j"
      }
    },
    {
      "cell_type": "code",
      "source": [
        "from sklearn.metrics import classification_report, confusion_matrix"
      ],
      "metadata": {
        "id": "xa1EUZQDTooL"
      },
      "execution_count": null,
      "outputs": []
    },
    {
      "cell_type": "code",
      "source": [
        "# predicting the test result\n",
        "y_pred = NB_classifier.predict(X_test)\n",
        "cm = confusion_matrix(y_test, y_pred)\n",
        "sns.heatmap(cm , annot = True)"
      ],
      "metadata": {
        "id": "m-__pqSDRG5U",
        "colab": {
          "base_uri": "https://localhost:8080/",
          "height": 629
        },
        "outputId": "8bc27e95-f7e7-4810-8905-ebcc7ca1b284"
      },
      "execution_count": null,
      "outputs": [
        {
          "output_type": "execute_result",
          "data": {
            "text/plain": [
              "<Axes: >"
            ]
          },
          "metadata": {},
          "execution_count": 58
        },
        {
          "output_type": "display_data",
          "data": {
            "text/plain": [
              "<Figure size 800x700 with 2 Axes>"
            ],
            "image/png": "[encoded data removed]"
          },
          "metadata": {}
        }
      ]
    },
    {
      "cell_type": "code",
      "source": [
        "print(classification_report(y_test,y_pred))"
      ],
      "metadata": {
        "id": "ETC-03mwRG0u",
        "colab": {
          "base_uri": "https://localhost:8080/"
        },
        "outputId": "4fd52d03-c60e-43c1-9e92-4ad5a2418d9b"
      },
      "execution_count": null,
      "outputs": [
        {
          "output_type": "stream",
          "name": "stdout",
          "text": [
            "              precision    recall  f1-score   support\n",
            "\n",
            "           0       0.56      0.25      0.34        60\n",
            "           1       0.93      0.98      0.95       570\n",
            "\n",
            "    accuracy                           0.91       630\n",
            "   macro avg       0.74      0.61      0.65       630\n",
            "weighted avg       0.89      0.91      0.89       630\n",
            "\n"
          ]
        }
      ]
    },
    {
      "cell_type": "code",
      "source": [],
      "metadata": {
        "id": "MwBOGDpebq__"
      },
      "execution_count": null,
      "outputs": []
    },
    {
      "cell_type": "markdown",
      "source": [
        "## **Now Applying Losgistic model on this**"
      ],
      "metadata": {
        "id": "qiUUzKnhWW9x"
      }
    },
    {
      "cell_type": "code",
      "source": [
        "from sklearn.linear_model import LogisticRegression\n",
        "\n",
        "model = LogisticRegression()\n",
        "model.fit(X_train , y_train)"
      ],
      "metadata": {
        "colab": {
          "base_uri": "https://localhost:8080/",
          "height": 74
        },
        "id": "AfTkccThWWdA",
        "outputId": "8dd8813b-6e30-450d-9ad9-3369b0c97b75"
      },
      "execution_count": null,
      "outputs": [
        {
          "output_type": "execute_result",
          "data": {
            "text/plain": [
              "LogisticRegression()"
            ],
            "text/html": [
              "<style>#sk-container-id-2 {color: black;background-color: white;}#sk-container-id-2 pre{padding: 0;}#sk-container-id-2 div.sk-toggleable {background-color: white;}#sk-container-id-2 label.sk-toggleable__label {cursor: pointer;display: block;width: 100%;margin-bottom: 0;padding: 0.3em;box-sizing: border-box;text-align: center;}#sk-container-id-2 label.sk-toggleable__label-arrow:before {content: \"▸\";float: left;margin-right: 0.25em;color: #696969;}#sk-container-id-2 label.sk-toggleable__label-arrow:hover:before {color: black;}#sk-container-id-2 div.sk-estimator:hover label.sk-toggleable__label-arrow:before {color: black;}#sk-container-id-2 div.sk-toggleable__content {max-height: 0;max-width: 0;overflow: hidden;text-align: left;background-color: #f0f8ff;}#sk-container-id-2 div.sk-toggleable__content pre {margin: 0.2em;color: black;border-radius: 0.25em;background-color: #f0f8ff;}#sk-container-id-2 input.sk-toggleable__control:checked~div.sk-toggleable__content {max-height: 200px;max-width: 100%;overflow: auto;}#sk-container-id-2 input.sk-toggleable__control:checked~label.sk-toggleable__label-arrow:before {content: \"▾\";}#sk-container-id-2 div.sk-estimator input.sk-toggleable__control:checked~label.sk-toggleable__label {background-color: #d4ebff;}#sk-container-id-2 div.sk-label input.sk-toggleable__control:checked~label.sk-toggleable__label {background-color: #d4ebff;}#sk-container-id-2 input.sk-hidden--visually {border: 0;clip: rect(1px 1px 1px 1px);clip: rect(1px, 1px, 1px, 1px);height: 1px;margin: -1px;overflow: hidden;padding: 0;position: absolute;width: 1px;}#sk-container-id-2 div.sk-estimator {font-family: monospace;background-color: #f0f8ff;border: 1px dotted black;border-radius: 0.25em;box-sizing: border-box;margin-bottom: 0.5em;}#sk-container-id-2 div.sk-estimator:hover {background-color: #d4ebff;}#sk-container-id-2 div.sk-parallel-item::after {content: \"\";width: 100%;border-bottom: 1px solid gray;flex-grow: 1;}#sk-container-id-2 div.sk-label:hover label.sk-toggleable__label {background-color: #d4ebff;}#sk-container-id-2 div.sk-serial::before {content: \"\";position: absolute;border-left: 1px solid gray;box-sizing: border-box;top: 0;bottom: 0;left: 50%;z-index: 0;}#sk-container-id-2 div.sk-serial {display: flex;flex-direction: column;align-items: center;background-color: white;padding-right: 0.2em;padding-left: 0.2em;position: relative;}#sk-container-id-2 div.sk-item {position: relative;z-index: 1;}#sk-container-id-2 div.sk-parallel {display: flex;align-items: stretch;justify-content: center;background-color: white;position: relative;}#sk-container-id-2 div.sk-item::before, #sk-container-id-2 div.sk-parallel-item::before {content: \"\";position: absolute;border-left: 1px solid gray;box-sizing: border-box;top: 0;bottom: 0;left: 50%;z-index: -1;}#sk-container-id-2 div.sk-parallel-item {display: flex;flex-direction: column;z-index: 1;position: relative;background-color: white;}#sk-container-id-2 div.sk-parallel-item:first-child::after {align-self: flex-end;width: 50%;}#sk-container-id-2 div.sk-parallel-item:last-child::after {align-self: flex-start;width: 50%;}#sk-container-id-2 div.sk-parallel-item:only-child::after {width: 0;}#sk-container-id-2 div.sk-dashed-wrapped {border: 1px dashed gray;margin: 0 0.4em 0.5em 0.4em;box-sizing: border-box;padding-bottom: 0.4em;background-color: white;}#sk-container-id-2 div.sk-label label {font-family: monospace;font-weight: bold;display: inline-block;line-height: 1.2em;}#sk-container-id-2 div.sk-label-container {text-align: center;}#sk-container-id-2 div.sk-container {/* jupyter's `normalize.less` sets `[hidden] { display: none; }` but bootstrap.min.css set `[hidden] { display: none !important; }` so we also need the `!important` here to be able to override the default hidden behavior on the sphinx rendered scikit-learn.org. See: https://github.com/scikit-learn/scikit-learn/issues/21755 */display: inline-block !important;position: relative;}#sk-container-id-2 div.sk-text-repr-fallback {display: none;}</style><div id=\"sk-container-id-2\" class=\"sk-top-container\"><div class=\"sk-text-repr-fallback\"><pre>LogisticRegression()</pre><b>In a Jupyter environment, please rerun this cell to show the HTML representation or trust the notebook. <br />On GitHub, the HTML representation is unable to render, please try loading this page with nbviewer.org.</b></div><div class=\"sk-container\" hidden><div class=\"sk-item\"><div class=\"sk-estimator sk-toggleable\"><input class=\"sk-toggleable__control sk-hidden--visually\" id=\"sk-estimator-id-2\" type=\"checkbox\" checked><label for=\"sk-estimator-id-2\" class=\"sk-toggleable__label sk-toggleable__label-arrow\">LogisticRegression</label><div class=\"sk-toggleable__content\"><pre>LogisticRegression()</pre></div></div></div></div></div>"
            ]
          },
          "metadata": {},
          "execution_count": 60
        }
      ]
    },
    {
      "cell_type": "code",
      "source": [
        "y_pred1 = model.predict(X_test)\n",
        "cm = confusion_matrix(y_test , y_pred1)\n",
        "sns.heatmap(cm, annot = True)"
      ],
      "metadata": {
        "colab": {
          "base_uri": "https://localhost:8080/",
          "height": 629
        },
        "id": "sojNFBxuWeaJ",
        "outputId": "99a33c37-e617-4421-893b-acca07a22ed8"
      },
      "execution_count": null,
      "outputs": [
        {
          "output_type": "execute_result",
          "data": {
            "text/plain": [
              "<Axes: >"
            ]
          },
          "metadata": {},
          "execution_count": 61
        },
        {
          "output_type": "display_data",
          "data": {
            "text/plain": [
              "<Figure size 800x700 with 2 Axes>"
            ],
            "image/png": "[encoded data removed]"
          },
          "metadata": {}
        }
      ]
    },
    {
      "cell_type": "code",
      "source": [
        "print(classification_report(y_test, y_pred1))"
      ],
      "metadata": {
        "colab": {
          "base_uri": "https://localhost:8080/"
        },
        "id": "mrpclKqYWeVK",
        "outputId": "c514c199-2983-49e6-b002-b4abd5b4f2f3"
      },
      "execution_count": null,
      "outputs": [
        {
          "output_type": "stream",
          "name": "stdout",
          "text": [
            "              precision    recall  f1-score   support\n",
            "\n",
            "           0       0.90      0.32      0.47        60\n",
            "           1       0.93      1.00      0.96       570\n",
            "\n",
            "    accuracy                           0.93       630\n",
            "   macro avg       0.92      0.66      0.72       630\n",
            "weighted avg       0.93      0.93      0.92       630\n",
            "\n"
          ]
        }
      ]
    },
    {
      "cell_type": "code",
      "source": [
        "!pip install catboost"
      ],
      "metadata": {
        "colab": {
          "base_uri": "https://localhost:8080/"
        },
        "id": "vFwCko06AgvN",
        "outputId": "2a4a1798-fc38-41b1-89a7-8c2513c9fb14"
      },
      "execution_count": null,
      "outputs": [
        {
          "output_type": "stream",
          "name": "stdout",
          "text": [
            "Requirement already satisfied: catboost in /usr/local/lib/python3.10/dist-packages (1.2.3)\n",
            "Requirement already satisfied: graphviz in /usr/local/lib/python3.10/dist-packages (from catboost) (0.20.1)\n",
            "Requirement already satisfied: matplotlib in /usr/local/lib/python3.10/dist-packages (from catboost) (3.7.1)\n",
            "Requirement already satisfied: numpy>=1.16.0 in /usr/local/lib/python3.10/dist-packages (from catboost) (1.25.2)\n",
            "Requirement already satisfied: pandas>=0.24 in /usr/local/lib/python3.10/dist-packages (from catboost) (1.5.3)\n",
            "Requirement already satisfied: scipy in /usr/local/lib/python3.10/dist-packages (from catboost) (1.11.4)\n",
            "Requirement already satisfied: plotly in /usr/local/lib/python3.10/dist-packages (from catboost) (5.15.0)\n",
            "Requirement already satisfied: six in /usr/local/lib/python3.10/dist-packages (from catboost) (1.16.0)\n",
            "Requirement already satisfied: python-dateutil>=2.8.1 in /usr/local/lib/python3.10/dist-packages (from pandas>=0.24->catboost) (2.8.2)\n",
            "Requirement already satisfied: pytz>=2020.1 in /usr/local/lib/python3.10/dist-packages (from pandas>=0.24->catboost) (2023.4)\n",
            "Requirement already satisfied: contourpy>=1.0.1 in /usr/local/lib/python3.10/dist-packages (from matplotlib->catboost) (1.2.0)\n",
            "Requirement already satisfied: cycler>=0.10 in /usr/local/lib/python3.10/dist-packages (from matplotlib->catboost) (0.12.1)\n",
            "Requirement already satisfied: fonttools>=4.22.0 in /usr/local/lib/python3.10/dist-packages (from matplotlib->catboost) (4.49.0)\n",
            "Requirement already satisfied: kiwisolver>=1.0.1 in /usr/local/lib/python3.10/dist-packages (from matplotlib->catboost) (1.4.5)\n",
            "Requirement already satisfied: packaging>=20.0 in /usr/local/lib/python3.10/dist-packages (from matplotlib->catboost) (23.2)\n",
            "Requirement already satisfied: pillow>=6.2.0 in /usr/local/lib/python3.10/dist-packages (from matplotlib->catboost) (9.4.0)\n",
            "Requirement already satisfied: pyparsing>=2.3.1 in /usr/local/lib/python3.10/dist-packages (from matplotlib->catboost) (3.1.1)\n",
            "Requirement already satisfied: tenacity>=6.2.0 in /usr/local/lib/python3.10/dist-packages (from plotly->catboost) (8.2.3)\n"
          ]
        }
      ]
    },
    {
      "cell_type": "code",
      "source": [
        "\n",
        "from catboost import CatBoostClassifier\n",
        "cat_model = CatBoostClassifier(verbose = 500)\n",
        "# training\n",
        "cat_model.fit(X_train, y_train)"
      ],
      "metadata": {
        "id": "jWcRdYoWAqJZ",
        "colab": {
          "base_uri": "https://localhost:8080/"
        },
        "outputId": "e981b3fd-f2fe-4dee-99f4-0bb3039bd91b"
      },
      "execution_count": null,
      "outputs": [
        {
          "output_type": "stream",
          "name": "stdout",
          "text": [
            "Learning rate set to 0.015287\n",
            "0:\tlearn: 0.6774357\ttotal: 67.9ms\tremaining: 1m 7s\n",
            "500:\tlearn: 0.1717634\ttotal: 10.4s\tremaining: 10.3s\n",
            "999:\tlearn: 0.1236448\ttotal: 19.4s\tremaining: 0us\n"
          ]
        },
        {
          "output_type": "execute_result",
          "data": {
            "text/plain": [
              "<catboost.core.CatBoostClassifier at 0x7f0559e1c400>"
            ]
          },
          "metadata": {},
          "execution_count": 64
        }
      ]
    },
    {
      "cell_type": "code",
      "source": [
        "y_pred2 = cat_model.predict(X_test)\n",
        "cm = confusion_matrix(y_test , y_pred2)\n",
        "sns.heatmap(cm, annot = True)"
      ],
      "metadata": {
        "colab": {
          "base_uri": "https://localhost:8080/",
          "height": 629
        },
        "id": "xO-fnSzFncDC",
        "outputId": "2c6bd1a3-7301-4004-fc0a-4627645e5852"
      },
      "execution_count": null,
      "outputs": [
        {
          "output_type": "execute_result",
          "data": {
            "text/plain": [
              "<Axes: >"
            ]
          },
          "metadata": {},
          "execution_count": 65
        },
        {
          "output_type": "display_data",
          "data": {
            "text/plain": [
              "<Figure size 800x700 with 2 Axes>"
            ],
            "image/png": "[encoded data removed]"
          },
          "metadata": {}
        }
      ]
    },
    {
      "cell_type": "code",
      "source": [
        "print(classification_report(y_test, y_pred2))"
      ],
      "metadata": {
        "colab": {
          "base_uri": "https://localhost:8080/"
        },
        "id": "aFSDdO59A0ID",
        "outputId": "63e0b1c9-6d5b-4f72-b81c-14d7120511aa"
      },
      "execution_count": null,
      "outputs": [
        {
          "output_type": "stream",
          "name": "stdout",
          "text": [
            "              precision    recall  f1-score   support\n",
            "\n",
            "           0       1.00      0.10      0.18        60\n",
            "           1       0.91      1.00      0.95       570\n",
            "\n",
            "    accuracy                           0.91       630\n",
            "   macro avg       0.96      0.55      0.57       630\n",
            "weighted avg       0.92      0.91      0.88       630\n",
            "\n"
          ]
        }
      ]
    },
    {
      "cell_type": "code",
      "source": [
        "# prompt: from above model calculate the accuracy score\n",
        "\n",
        "from sklearn.metrics import accuracy_score\n",
        "\n",
        "accuracy_score_nb = accuracy_score(y_test, y_pred)\n",
        "accuracy_score_lr = accuracy_score(y_test, y_pred1)\n",
        "accuracy_score_cb = accuracy_score(y_test, y_pred2)\n",
        "\n",
        "print(\"Accuracy score for Naive Bayes model:\", accuracy_score_nb)\n",
        "print(\"Accuracy score for Logistic Regression model:\", accuracy_score_lr)\n",
        "print(\"Accuracy score for CatBoost model:\", accuracy_score_cb)"
      ],
      "metadata": {
        "colab": {
          "base_uri": "https://localhost:8080/"
        },
        "id": "qW_oUCo9WeQe",
        "outputId": "571395e3-5eae-4304-f4d2-f4ee4041d3dc"
      },
      "execution_count": null,
      "outputs": [
        {
          "output_type": "stream",
          "name": "stdout",
          "text": [
            "Accuracy score for Naive Bayes model: 0.9095238095238095\n",
            "Accuracy score for Logistic Regression model: 0.9317460317460318\n",
            "Accuracy score for CatBoost model: 0.9142857142857143\n"
          ]
        }
      ]
    },
    {
      "cell_type": "markdown",
      "source": [
        "---\n",
        "# **Ensemble Models**\n",
        "\n",
        "---\n",
        "\n"
      ],
      "metadata": {
        "id": "7yx8ZalgqYOY"
      }
    },
    {
      "cell_type": "markdown",
      "source": [
        "# **All three models together**\n",
        "* # **Naive Bayes**\n",
        "* # **Logistic Regression**\n",
        "* # **Catboost model**"
      ],
      "metadata": {
        "id": "V1JZiEF9QMTA"
      }
    },
    {
      "cell_type": "code",
      "source": [
        "# prompt: make ensemble model by combining all three models together\n",
        "\n",
        "from sklearn.ensemble import VotingClassifier\n",
        "\n",
        "# Create a dictionary of base models\n",
        "estimators = [('Naive Bayes', NB_classifier),\n",
        "              ('Logistic Regression', model),\n",
        "              ('CatBoost', cat_model)]\n",
        "\n",
        "# Create the ensemble model\n",
        "ensemble = VotingClassifier(estimators)\n",
        "\n",
        "# Train the ensemble model\n",
        "ensemble.fit(X_train, y_train)\n",
        "\n",
        "# Predict using the ensemble model\n",
        "y_pred_ensemble = ensemble.predict(X_test)\n",
        "\n",
        "# Calculate the accuracy of the ensemble model\n",
        "accuracy_score_ensemble = accuracy_score(y_test, y_pred_ensemble)\n",
        "\n",
        "# Print the accuracy of the ensemble model\n",
        "print(\"Accuracy score for the ensemble model:\", accuracy_score_ensemble)\n",
        "print(\"Accuracy : \",accuracy_score_ensemble*100)"
      ],
      "metadata": {
        "colab": {
          "base_uri": "https://localhost:8080/"
        },
        "id": "NYgsZgAenC2R",
        "outputId": "9dbe252e-facb-42e1-9d9d-0db2f8f0eaac"
      },
      "execution_count": null,
      "outputs": [
        {
          "output_type": "stream",
          "name": "stdout",
          "text": [
            "Learning rate set to 0.015287\n",
            "0:\tlearn: 0.6774357\ttotal: 22.2ms\tremaining: 22.1s\n",
            "500:\tlearn: 0.1717634\ttotal: 9.66s\tremaining: 9.63s\n",
            "999:\tlearn: 0.1236448\ttotal: 19.6s\tremaining: 0us\n",
            "Accuracy score for the ensemble model: 0.9158730158730158\n",
            "Accuracy :  91.58730158730158\n"
          ]
        }
      ]
    },
    {
      "cell_type": "markdown",
      "source": [
        "# **Naive Bayes & Logistic Model**"
      ],
      "metadata": {
        "id": "B5vNlxuiqJDf"
      }
    },
    {
      "cell_type": "code",
      "source": [
        "from sklearn.ensemble import VotingClassifier\n",
        "\n",
        "# Create a dictionary of base models\n",
        "estimators = [('Naive Bayes', NB_classifier),\n",
        "              ('Logistic Regression', model)]\n",
        "\n",
        "# Create the ensemble model\n",
        "ensemble = VotingClassifier(estimators)\n",
        "\n",
        "# Train the ensemble model\n",
        "ensemble.fit(X_train, y_train)\n",
        "\n",
        "# Predict using the ensemble model\n",
        "y_pred_ensemble = ensemble.predict(X_test)\n",
        "\n",
        "# Calculate the accuracy of the ensemble model\n",
        "accuracy_score_ensemble = accuracy_score(y_test, y_pred_ensemble)\n",
        "\n",
        "# Print the accuracy of the ensemble model\n",
        "print(\"Accuracy score for the ensemble model:\", accuracy_score_ensemble)\n",
        "print(\"Accuracy : \",accuracy_score_ensemble*100)"
      ],
      "metadata": {
        "colab": {
          "base_uri": "https://localhost:8080/"
        },
        "id": "WjhAxK87m1-1",
        "outputId": "f2afb465-7dcc-4c37-af08-a0668975f371"
      },
      "execution_count": null,
      "outputs": [
        {
          "output_type": "stream",
          "name": "stdout",
          "text": [
            "Accuracy score for the ensemble model: 0.9301587301587302\n",
            "Accuracy :  93.01587301587301\n"
          ]
        }
      ]
    },
    {
      "cell_type": "markdown",
      "source": [
        "# **Naive Bayes & Cat Model**"
      ],
      "metadata": {
        "id": "_-9cmSrip-Pa"
      }
    },
    {
      "cell_type": "code",
      "source": [
        "from sklearn.ensemble import VotingClassifier\n",
        "\n",
        "# Create a dictionary of base models\n",
        "estimators = [('Naive Bayes', NB_classifier),\n",
        "              ('CatBoost', cat_model)]\n",
        "\n",
        "# Create the ensemble model\n",
        "ensemble = VotingClassifier(estimators)\n",
        "\n",
        "# Train the ensemble model\n",
        "ensemble.fit(X_train, y_train)\n",
        "\n",
        "# Predict using the ensemble model\n",
        "y_pred_ensemble = ensemble.predict(X_test)\n",
        "\n",
        "# Calculate the accuracy of the ensemble model\n",
        "accuracy_score_ensemble = accuracy_score(y_test, y_pred_ensemble)\n",
        "\n",
        "# Print the accuracy of the ensemble model\n",
        "print(\"Accuracy score for the ensemble model:\", accuracy_score_ensemble)\n",
        "print(\"Accuracy : \",accuracy_score_ensemble*100)"
      ],
      "metadata": {
        "colab": {
          "base_uri": "https://localhost:8080/"
        },
        "id": "0sB70vEepiIX",
        "outputId": "bd039552-dab8-46e9-bcca-5bd9dd86342f"
      },
      "execution_count": null,
      "outputs": [
        {
          "output_type": "stream",
          "name": "stdout",
          "text": [
            "Learning rate set to 0.015287\n",
            "0:\tlearn: 0.6774357\ttotal: 28.9ms\tremaining: 28.9s\n",
            "500:\tlearn: 0.1717634\ttotal: 9.73s\tremaining: 9.69s\n",
            "999:\tlearn: 0.1236448\ttotal: 20s\tremaining: 0us\n",
            "Accuracy score for the ensemble model: 0.9142857142857143\n",
            "Accuracy :  91.42857142857143\n"
          ]
        }
      ]
    },
    {
      "cell_type": "markdown",
      "source": [
        "# **Logistic & CatModel**"
      ],
      "metadata": {
        "id": "O11ExfGjp5Ax"
      }
    },
    {
      "cell_type": "code",
      "source": [
        "from sklearn.ensemble import VotingClassifier\n",
        "\n",
        "# Create a dictionary of base models\n",
        "estimators = [('Logistic Regression', model),\n",
        "              ('CatBoost', cat_model)]\n",
        "\n",
        "# Create the ensemble model\n",
        "ensemble = VotingClassifier(estimators)\n",
        "\n",
        "# Train the ensemble model\n",
        "ensemble.fit(X_train, y_train)\n",
        "\n",
        "# Predict using the ensemble model\n",
        "y_pred_ensemble = ensemble.predict(X_test)\n",
        "\n",
        "# Calculate the accuracy of the ensemble model\n",
        "accuracy_score_ensemble = accuracy_score(y_test, y_pred_ensemble)\n",
        "\n",
        "# Print the accuracy of the ensemble model\n",
        "print(\"Accuracy score for the ensemble model:\", accuracy_score_ensemble)\n",
        "print(\"Accuracy : \",accuracy_score_ensemble*100)"
      ],
      "metadata": {
        "colab": {
          "base_uri": "https://localhost:8080/"
        },
        "id": "cCTUXaN8ps9K",
        "outputId": "d7815dac-bdbe-4fed-fc96-bbfd67880eeb"
      },
      "execution_count": null,
      "outputs": [
        {
          "output_type": "stream",
          "name": "stdout",
          "text": [
            "Learning rate set to 0.015287\n",
            "0:\tlearn: 0.6774357\ttotal: 20.4ms\tremaining: 20.4s\n",
            "500:\tlearn: 0.1717634\ttotal: 10.5s\tremaining: 10.5s\n",
            "999:\tlearn: 0.1236448\ttotal: 21.4s\tremaining: 0us\n",
            "Accuracy score for the ensemble model: 0.9349206349206349\n",
            "Accuracy :  93.4920634920635\n"
          ]
        }
      ]
    },
    {
      "cell_type": "code",
      "source": [
        "from sklearn.ensemble import RandomForestClassifier\n",
        "model = RandomForestClassifier()\n",
        "model.fit(X_train,y_train)"
      ],
      "metadata": {
        "colab": {
          "base_uri": "https://localhost:8080/",
          "height": 74
        },
        "id": "ZOuhAHLlJVl9",
        "outputId": "bbcc79ad-193d-46d6-8e70-108a3ae86cf1"
      },
      "execution_count": null,
      "outputs": [
        {
          "output_type": "execute_result",
          "data": {
            "text/plain": [
              "RandomForestClassifier()"
            ],
            "text/html": [
              "<style>#sk-container-id-3 {color: black;background-color: white;}#sk-container-id-3 pre{padding: 0;}#sk-container-id-3 div.sk-toggleable {background-color: white;}#sk-container-id-3 label.sk-toggleable__label {cursor: pointer;display: block;width: 100%;margin-bottom: 0;padding: 0.3em;box-sizing: border-box;text-align: center;}#sk-container-id-3 label.sk-toggleable__label-arrow:before {content: \"▸\";float: left;margin-right: 0.25em;color: #696969;}#sk-container-id-3 label.sk-toggleable__label-arrow:hover:before {color: black;}#sk-container-id-3 div.sk-estimator:hover label.sk-toggleable__label-arrow:before {color: black;}#sk-container-id-3 div.sk-toggleable__content {max-height: 0;max-width: 0;overflow: hidden;text-align: left;background-color: #f0f8ff;}#sk-container-id-3 div.sk-toggleable__content pre {margin: 0.2em;color: black;border-radius: 0.25em;background-color: #f0f8ff;}#sk-container-id-3 input.sk-toggleable__control:checked~div.sk-toggleable__content {max-height: 200px;max-width: 100%;overflow: auto;}#sk-container-id-3 input.sk-toggleable__control:checked~label.sk-toggleable__label-arrow:before {content: \"▾\";}#sk-container-id-3 div.sk-estimator input.sk-toggleable__control:checked~label.sk-toggleable__label {background-color: #d4ebff;}#sk-container-id-3 div.sk-label input.sk-toggleable__control:checked~label.sk-toggleable__label {background-color: #d4ebff;}#sk-container-id-3 input.sk-hidden--visually {border: 0;clip: rect(1px 1px 1px 1px);clip: rect(1px, 1px, 1px, 1px);height: 1px;margin: -1px;overflow: hidden;padding: 0;position: absolute;width: 1px;}#sk-container-id-3 div.sk-estimator {font-family: monospace;background-color: #f0f8ff;border: 1px dotted black;border-radius: 0.25em;box-sizing: border-box;margin-bottom: 0.5em;}#sk-container-id-3 div.sk-estimator:hover {background-color: #d4ebff;}#sk-container-id-3 div.sk-parallel-item::after {content: \"\";width: 100%;border-bottom: 1px solid gray;flex-grow: 1;}#sk-container-id-3 div.sk-label:hover label.sk-toggleable__label {background-color: #d4ebff;}#sk-container-id-3 div.sk-serial::before {content: \"\";position: absolute;border-left: 1px solid gray;box-sizing: border-box;top: 0;bottom: 0;left: 50%;z-index: 0;}#sk-container-id-3 div.sk-serial {display: flex;flex-direction: column;align-items: center;background-color: white;padding-right: 0.2em;padding-left: 0.2em;position: relative;}#sk-container-id-3 div.sk-item {position: relative;z-index: 1;}#sk-container-id-3 div.sk-parallel {display: flex;align-items: stretch;justify-content: center;background-color: white;position: relative;}#sk-container-id-3 div.sk-item::before, #sk-container-id-3 div.sk-parallel-item::before {content: \"\";position: absolute;border-left: 1px solid gray;box-sizing: border-box;top: 0;bottom: 0;left: 50%;z-index: -1;}#sk-container-id-3 div.sk-parallel-item {display: flex;flex-direction: column;z-index: 1;position: relative;background-color: white;}#sk-container-id-3 div.sk-parallel-item:first-child::after {align-self: flex-end;width: 50%;}#sk-container-id-3 div.sk-parallel-item:last-child::after {align-self: flex-start;width: 50%;}#sk-container-id-3 div.sk-parallel-item:only-child::after {width: 0;}#sk-container-id-3 div.sk-dashed-wrapped {border: 1px dashed gray;margin: 0 0.4em 0.5em 0.4em;box-sizing: border-box;padding-bottom: 0.4em;background-color: white;}#sk-container-id-3 div.sk-label label {font-family: monospace;font-weight: bold;display: inline-block;line-height: 1.2em;}#sk-container-id-3 div.sk-label-container {text-align: center;}#sk-container-id-3 div.sk-container {/* jupyter's `normalize.less` sets `[hidden] { display: none; }` but bootstrap.min.css set `[hidden] { display: none !important; }` so we also need the `!important` here to be able to override the default hidden behavior on the sphinx rendered scikit-learn.org. See: https://github.com/scikit-learn/scikit-learn/issues/21755 */display: inline-block !important;position: relative;}#sk-container-id-3 div.sk-text-repr-fallback {display: none;}</style><div id=\"sk-container-id-3\" class=\"sk-top-container\"><div class=\"sk-text-repr-fallback\"><pre>RandomForestClassifier()</pre><b>In a Jupyter environment, please rerun this cell to show the HTML representation or trust the notebook. <br />On GitHub, the HTML representation is unable to render, please try loading this page with nbviewer.org.</b></div><div class=\"sk-container\" hidden><div class=\"sk-item\"><div class=\"sk-estimator sk-toggleable\"><input class=\"sk-toggleable__control sk-hidden--visually\" id=\"sk-estimator-id-3\" type=\"checkbox\" checked><label for=\"sk-estimator-id-3\" class=\"sk-toggleable__label sk-toggleable__label-arrow\">RandomForestClassifier</label><div class=\"sk-toggleable__content\"><pre>RandomForestClassifier()</pre></div></div></div></div></div>"
            ]
          },
          "metadata": {},
          "execution_count": 72
        }
      ]
    },
    {
      "cell_type": "code",
      "source": [
        "y_pred4 = model.predict(X_test)\n",
        "cm = confusion_matrix(y_test , y_pred4)\n",
        "sns.heatmap(cm, annot = True)"
      ],
      "metadata": {
        "colab": {
          "base_uri": "https://localhost:8080/",
          "height": 629
        },
        "id": "iDfDy0EPJixt",
        "outputId": "b5fe0c1e-5e36-457a-f2cb-9cebc690b422"
      },
      "execution_count": null,
      "outputs": [
        {
          "output_type": "execute_result",
          "data": {
            "text/plain": [
              "<Axes: >"
            ]
          },
          "metadata": {},
          "execution_count": 73
        },
        {
          "output_type": "display_data",
          "data": {
            "text/plain": [
              "<Figure size 800x700 with 2 Axes>"
            ],
            "image/png": "[encoded data removed]"
          },
          "metadata": {}
        }
      ]
    },
    {
      "cell_type": "code",
      "source": [
        "accuracy_score= accuracy_score(y_test, y_pred4)\n",
        "\n",
        "# Print the accuracy of the ensemble model\n",
        "print(\"Accuracy score for the ensemble model:\", accuracy_score)\n",
        "print(\"Accuracy : \",accuracy_score*100)"
      ],
      "metadata": {
        "colab": {
          "base_uri": "https://localhost:8080/"
        },
        "id": "JjYDdPPkKKTp",
        "outputId": "049925a5-28dd-4f03-b72f-ae34e2befc2b"
      },
      "execution_count": null,
      "outputs": [
        {
          "output_type": "stream",
          "name": "stdout",
          "text": [
            "Accuracy score for the ensemble model: 0.9285714285714286\n",
            "Accuracy :  92.85714285714286\n"
          ]
        }
      ]
    },
    {
      "cell_type": "markdown",
      "source": [
        "# **Applying the LSTM Model**"
      ],
      "metadata": {
        "id": "coshYG5W6hsq"
      }
    },
    {
      "cell_type": "code",
      "source": [
        "opinion_df_clean"
      ],
      "metadata": {
        "colab": {
          "base_uri": "https://localhost:8080/"
        },
        "id": "Tiar_leYz7Af",
        "outputId": "f5e0bbaa-5450-4dbf-d838-7fb37ee9dd7e"
      },
      "execution_count": null,
      "outputs": [
        {
          "output_type": "execute_result",
          "data": {
            "text/plain": [
              "0                                            [Love, Echo]\n",
              "1                                                 [Loved]\n",
              "2       [Sometimes, playing, game, answer, question, c...\n",
              "3       [lot, fun, thing, 4, yr, old, learns, dinosaur...\n",
              "4                                                 [Music]\n",
              "                              ...                        \n",
              "3145                    [Perfect, kids, adults, everyone]\n",
              "3146    [Listening, music, searching, locations, check...\n",
              "3147    [love, things, running, entire, home, TV, ligh...\n",
              "3148    [complaint, sound, quality, isnt, great, mostl...\n",
              "3149                                               [Good]\n",
              "Name: verified_reviews, Length: 3150, dtype: object"
            ]
          },
          "metadata": {},
          "execution_count": 75
        }
      ]
    },
    {
      "cell_type": "code",
      "source": [],
      "metadata": {
        "id": "pGdNWXlq3Khc"
      },
      "execution_count": null,
      "outputs": []
    }
  ]
}